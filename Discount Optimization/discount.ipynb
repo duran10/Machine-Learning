{
  "cells": [
    {
      "cell_type": "markdown",
      "source": [
        "#### Import Libraries"
      ],
      "metadata": {
        "id": "ZFgm9WaJ6PAE"
      }
    },
    {
      "cell_type": "markdown",
      "source": [
        "This is to import all the libraries that are going to be used for the project."
      ],
      "metadata": {
        "id": "umsqPbwykErT"
      }
    },
    {
      "cell_type": "code",
      "execution_count": 1,
      "metadata": {
        "id": "uhV1WWq4eMgT"
      },
      "outputs": [],
      "source": [
        "import numpy as np\n",
        "import pandas as pd\n",
        "import matplotlib.pyplot as plt\n",
        "from joblib import Parallel, delayed\n",
        "import tensorflow as tf\n",
        "from tensorflow.keras import Sequential    # import Sequential from tensorflow.keras\n",
        "from tensorflow.keras.layers import Dense  # import Dense from tensorflow.keras.layers\n",
        "from numpy.random import seed     # seed helps you to fix the randomness in the neural network.  \n",
        "from tensorflow import keras\n",
        "#import keras_tuner as kt\n",
        "from tensorflow.keras import layers\n",
        "from tensorflow.keras.layers.experimental import preprocessing\n",
        "import scipy as sc\n",
        "from sklearn.model_selection import KFold, train_test_split, GridSearchCV, RandomizedSearchCV, RepeatedStratifiedKFold, cross_val_score\n",
        "from sklearn.linear_model import LinearRegression\n",
        "from sklearn.pipeline import Pipeline\n",
        "from sklearn.impute import SimpleImputer\n",
        "from sklearn.preprocessing import StandardScaler, OrdinalEncoder, OneHotEncoder\n",
        "import seaborn as sns\n",
        "from lightgbm import LGBMRegressor\n",
        "from sklearn.ensemble import RandomForestRegressor\n",
        "#import smogn\n",
        "from sklearn.metrics import mean_absolute_error\n",
        "from sklearn.compose import ColumnTransformer\n",
        "from scipy.stats import randint\n",
        "from scipy.stats import randint as sp_randint\n",
        "from scipy.stats import uniform as sp_uniform\n",
        "from sklearn.metrics import r2_score \n",
        "from sklearn.metrics import mean_squared_error\n",
        "import xgboost as xg\n",
        "import sqlite3"
      ]
    },
    {
      "cell_type": "markdown",
      "metadata": {
        "id": "CwAoXp7nlo1U"
      },
      "source": [
        "#### EDA"
      ]
    },
    {
      "cell_type": "markdown",
      "source": [
        "We read ASIN data with encoding 'latin-1' because of words with accents."
      ],
      "metadata": {
        "id": "5QAiMH46iqsb"
      }
    },
    {
      "cell_type": "code",
      "execution_count": 2,
      "metadata": {
        "colab": {
          "base_uri": "https://localhost:8080/",
          "height": 354
        },
        "id": "twmwlJvpkKNn",
        "outputId": "fd3811f5-1148-4818-ed1b-20fd835ca883"
      },
      "outputs": [
        {
          "output_type": "execute_result",
          "data": {
            "text/plain": [
              "         Date        ASIN         TaxCode  \\\n",
              "0  2019-01-13  B00FWSK1UE  A_GEN_STANDARD   \n",
              "1  2019-01-13  B00FYU5QRI  A_GEN_STANDARD   \n",
              "2  2019-01-13  B01N1YYIVZ  A_GEN_STANDARD   \n",
              "3  2019-01-14  B00FWSK1UE  A_GEN_STANDARD   \n",
              "4  2019-01-14  B00FYU5QRI  A_GEN_STANDARD   \n",
              "\n",
              "                                                Name  Qty  RegularPrice  \\\n",
              "0  Codefree Kit SD - Medidor de glucosa en sangre...    2         57.84   \n",
              "1  Codefree Kit SD - Medidor de glucosa en sangre...    3         90.48   \n",
              "2  SD Codefree - Estuche que contiene Monitor de ...    6        290.04   \n",
              "3  Codefree Kit SD - Medidor de glucosa en sangre...    1         28.92   \n",
              "4  Codefree Kit SD - Medidor de glucosa en sangre...    1         30.16   \n",
              "\n",
              "   Total Discount  Sale Price  Perc. Discount   Cost  \n",
              "0           57.84         0.0               0  23.52  \n",
              "1           90.48         0.0               0  35.28  \n",
              "2          290.04         0.0               0  46.00  \n",
              "3           28.92         0.0               0  11.76  \n",
              "4           30.16         0.0               0  11.76  "
            ],
            "text/html": [
              "\n",
              "  <div id=\"df-686d40f3-7bb5-44ab-baa9-ee39c2b21661\">\n",
              "    <div class=\"colab-df-container\">\n",
              "      <div>\n",
              "<style scoped>\n",
              "    .dataframe tbody tr th:only-of-type {\n",
              "        vertical-align: middle;\n",
              "    }\n",
              "\n",
              "    .dataframe tbody tr th {\n",
              "        vertical-align: top;\n",
              "    }\n",
              "\n",
              "    .dataframe thead th {\n",
              "        text-align: right;\n",
              "    }\n",
              "</style>\n",
              "<table border=\"1\" class=\"dataframe\">\n",
              "  <thead>\n",
              "    <tr style=\"text-align: right;\">\n",
              "      <th></th>\n",
              "      <th>Date</th>\n",
              "      <th>ASIN</th>\n",
              "      <th>TaxCode</th>\n",
              "      <th>Name</th>\n",
              "      <th>Qty</th>\n",
              "      <th>RegularPrice</th>\n",
              "      <th>Total Discount</th>\n",
              "      <th>Sale Price</th>\n",
              "      <th>Perc. Discount</th>\n",
              "      <th>Cost</th>\n",
              "    </tr>\n",
              "  </thead>\n",
              "  <tbody>\n",
              "    <tr>\n",
              "      <th>0</th>\n",
              "      <td>2019-01-13</td>\n",
              "      <td>B00FWSK1UE</td>\n",
              "      <td>A_GEN_STANDARD</td>\n",
              "      <td>Codefree Kit SD - Medidor de glucosa en sangre...</td>\n",
              "      <td>2</td>\n",
              "      <td>57.84</td>\n",
              "      <td>57.84</td>\n",
              "      <td>0.0</td>\n",
              "      <td>0</td>\n",
              "      <td>23.52</td>\n",
              "    </tr>\n",
              "    <tr>\n",
              "      <th>1</th>\n",
              "      <td>2019-01-13</td>\n",
              "      <td>B00FYU5QRI</td>\n",
              "      <td>A_GEN_STANDARD</td>\n",
              "      <td>Codefree Kit SD - Medidor de glucosa en sangre...</td>\n",
              "      <td>3</td>\n",
              "      <td>90.48</td>\n",
              "      <td>90.48</td>\n",
              "      <td>0.0</td>\n",
              "      <td>0</td>\n",
              "      <td>35.28</td>\n",
              "    </tr>\n",
              "    <tr>\n",
              "      <th>2</th>\n",
              "      <td>2019-01-13</td>\n",
              "      <td>B01N1YYIVZ</td>\n",
              "      <td>A_GEN_STANDARD</td>\n",
              "      <td>SD Codefree - Estuche que contiene Monitor de ...</td>\n",
              "      <td>6</td>\n",
              "      <td>290.04</td>\n",
              "      <td>290.04</td>\n",
              "      <td>0.0</td>\n",
              "      <td>0</td>\n",
              "      <td>46.00</td>\n",
              "    </tr>\n",
              "    <tr>\n",
              "      <th>3</th>\n",
              "      <td>2019-01-14</td>\n",
              "      <td>B00FWSK1UE</td>\n",
              "      <td>A_GEN_STANDARD</td>\n",
              "      <td>Codefree Kit SD - Medidor de glucosa en sangre...</td>\n",
              "      <td>1</td>\n",
              "      <td>28.92</td>\n",
              "      <td>28.92</td>\n",
              "      <td>0.0</td>\n",
              "      <td>0</td>\n",
              "      <td>11.76</td>\n",
              "    </tr>\n",
              "    <tr>\n",
              "      <th>4</th>\n",
              "      <td>2019-01-14</td>\n",
              "      <td>B00FYU5QRI</td>\n",
              "      <td>A_GEN_STANDARD</td>\n",
              "      <td>Codefree Kit SD - Medidor de glucosa en sangre...</td>\n",
              "      <td>1</td>\n",
              "      <td>30.16</td>\n",
              "      <td>30.16</td>\n",
              "      <td>0.0</td>\n",
              "      <td>0</td>\n",
              "      <td>11.76</td>\n",
              "    </tr>\n",
              "  </tbody>\n",
              "</table>\n",
              "</div>\n",
              "      <button class=\"colab-df-convert\" onclick=\"convertToInteractive('df-686d40f3-7bb5-44ab-baa9-ee39c2b21661')\"\n",
              "              title=\"Convert this dataframe to an interactive table.\"\n",
              "              style=\"display:none;\">\n",
              "        \n",
              "  <svg xmlns=\"http://www.w3.org/2000/svg\" height=\"24px\"viewBox=\"0 0 24 24\"\n",
              "       width=\"24px\">\n",
              "    <path d=\"M0 0h24v24H0V0z\" fill=\"none\"/>\n",
              "    <path d=\"M18.56 5.44l.94 2.06.94-2.06 2.06-.94-2.06-.94-.94-2.06-.94 2.06-2.06.94zm-11 1L8.5 8.5l.94-2.06 2.06-.94-2.06-.94L8.5 2.5l-.94 2.06-2.06.94zm10 10l.94 2.06.94-2.06 2.06-.94-2.06-.94-.94-2.06-.94 2.06-2.06.94z\"/><path d=\"M17.41 7.96l-1.37-1.37c-.4-.4-.92-.59-1.43-.59-.52 0-1.04.2-1.43.59L10.3 9.45l-7.72 7.72c-.78.78-.78 2.05 0 2.83L4 21.41c.39.39.9.59 1.41.59.51 0 1.02-.2 1.41-.59l7.78-7.78 2.81-2.81c.8-.78.8-2.07 0-2.86zM5.41 20L4 18.59l7.72-7.72 1.47 1.35L5.41 20z\"/>\n",
              "  </svg>\n",
              "      </button>\n",
              "      \n",
              "  <style>\n",
              "    .colab-df-container {\n",
              "      display:flex;\n",
              "      flex-wrap:wrap;\n",
              "      gap: 12px;\n",
              "    }\n",
              "\n",
              "    .colab-df-convert {\n",
              "      background-color: #E8F0FE;\n",
              "      border: none;\n",
              "      border-radius: 50%;\n",
              "      cursor: pointer;\n",
              "      display: none;\n",
              "      fill: #1967D2;\n",
              "      height: 32px;\n",
              "      padding: 0 0 0 0;\n",
              "      width: 32px;\n",
              "    }\n",
              "\n",
              "    .colab-df-convert:hover {\n",
              "      background-color: #E2EBFA;\n",
              "      box-shadow: 0px 1px 2px rgba(60, 64, 67, 0.3), 0px 1px 3px 1px rgba(60, 64, 67, 0.15);\n",
              "      fill: #174EA6;\n",
              "    }\n",
              "\n",
              "    [theme=dark] .colab-df-convert {\n",
              "      background-color: #3B4455;\n",
              "      fill: #D2E3FC;\n",
              "    }\n",
              "\n",
              "    [theme=dark] .colab-df-convert:hover {\n",
              "      background-color: #434B5C;\n",
              "      box-shadow: 0px 1px 3px 1px rgba(0, 0, 0, 0.15);\n",
              "      filter: drop-shadow(0px 1px 2px rgba(0, 0, 0, 0.3));\n",
              "      fill: #FFFFFF;\n",
              "    }\n",
              "  </style>\n",
              "\n",
              "      <script>\n",
              "        const buttonEl =\n",
              "          document.querySelector('#df-686d40f3-7bb5-44ab-baa9-ee39c2b21661 button.colab-df-convert');\n",
              "        buttonEl.style.display =\n",
              "          google.colab.kernel.accessAllowed ? 'block' : 'none';\n",
              "\n",
              "        async function convertToInteractive(key) {\n",
              "          const element = document.querySelector('#df-686d40f3-7bb5-44ab-baa9-ee39c2b21661');\n",
              "          const dataTable =\n",
              "            await google.colab.kernel.invokeFunction('convertToInteractive',\n",
              "                                                     [key], {});\n",
              "          if (!dataTable) return;\n",
              "\n",
              "          const docLinkHtml = 'Like what you see? Visit the ' +\n",
              "            '<a target=\"_blank\" href=https://colab.research.google.com/notebooks/data_table.ipynb>data table notebook</a>'\n",
              "            + ' to learn more about interactive tables.';\n",
              "          element.innerHTML = '';\n",
              "          dataTable['output_type'] = 'display_data';\n",
              "          await google.colab.output.renderOutput(dataTable, element);\n",
              "          const docLink = document.createElement('div');\n",
              "          docLink.innerHTML = docLinkHtml;\n",
              "          element.appendChild(docLink);\n",
              "        }\n",
              "      </script>\n",
              "    </div>\n",
              "  </div>\n",
              "  "
            ]
          },
          "metadata": {},
          "execution_count": 2
        }
      ],
      "source": [
        "df2 = pd.read_csv('https://spainbox.com/SDCO.csv', encoding = 'latin-1')\n",
        "df2.head()"
      ]
    },
    {
      "cell_type": "markdown",
      "source": [
        "We can observe that there are error in the values for some columns such as Total Discount and Sale Price. To fix Totall Discount we multiply the Regular price with (The Perc. Discount / 100). For Sale Price we substract Total Discount from RegularPrice."
      ],
      "metadata": {
        "id": "2d4BUJ6YjFDq"
      }
    },
    {
      "cell_type": "code",
      "source": [
        "df2['Total Discount'] = df2['RegularPrice'] * (df2['Perc. Discount']/100)\n",
        "df2['Sale Price'] = df2['RegularPrice'] - df2['Total Discount']"
      ],
      "metadata": {
        "id": "nxJweZVxa1zv"
      },
      "execution_count": 3,
      "outputs": []
    },
    {
      "cell_type": "code",
      "execution_count": 4,
      "metadata": {
        "colab": {
          "base_uri": "https://localhost:8080/"
        },
        "id": "nyB6-8BDzM1I",
        "outputId": "73bcdd2a-833d-4556-fe5e-3063be9b2ec8"
      },
      "outputs": [
        {
          "output_type": "execute_result",
          "data": {
            "text/plain": [
              "array(['A_GEN_STANDARD', 'A_HPC_SANITARYPRODUCTS', 'A_GEN_REDUCED'],\n",
              "      dtype=object)"
            ]
          },
          "metadata": {},
          "execution_count": 4
        }
      ],
      "source": [
        "df2['TaxCode'].unique()"
      ]
    },
    {
      "cell_type": "markdown",
      "source": [
        "For the presented data we can see there are no null values, so no need to fill."
      ],
      "metadata": {
        "id": "lCD9Hbzbj8XC"
      }
    },
    {
      "cell_type": "code",
      "execution_count": 5,
      "metadata": {
        "colab": {
          "base_uri": "https://localhost:8080/"
        },
        "id": "ztJs0HgMljIk",
        "outputId": "5f0ebb2a-7f8f-4f94-ae4d-95bf19135a63"
      },
      "outputs": [
        {
          "output_type": "stream",
          "name": "stdout",
          "text": [
            "<class 'pandas.core.frame.DataFrame'>\n",
            "RangeIndex: 668 entries, 0 to 667\n",
            "Data columns (total 10 columns):\n",
            " #   Column          Non-Null Count  Dtype  \n",
            "---  ------          --------------  -----  \n",
            " 0   Date            668 non-null    object \n",
            " 1   ASIN            668 non-null    object \n",
            " 2   TaxCode         668 non-null    object \n",
            " 3   Name            668 non-null    object \n",
            " 4   Qty             668 non-null    int64  \n",
            " 5   RegularPrice    668 non-null    float64\n",
            " 6   Total Discount  668 non-null    float64\n",
            " 7   Sale Price      668 non-null    float64\n",
            " 8   Perc. Discount  668 non-null    int64  \n",
            " 9   Cost            668 non-null    float64\n",
            "dtypes: float64(4), int64(2), object(4)\n",
            "memory usage: 52.3+ KB\n"
          ]
        }
      ],
      "source": [
        "df2.info()"
      ]
    },
    {
      "cell_type": "markdown",
      "source": [
        "By describing the data we can see that the Percentage Discount has a mean of 1.53% and a max of 30%. Quantity purchased varies from 1 to 30."
      ],
      "metadata": {
        "id": "HIjnlHKzktDS"
      }
    },
    {
      "cell_type": "code",
      "execution_count": 6,
      "metadata": {
        "colab": {
          "base_uri": "https://localhost:8080/",
          "height": 300
        },
        "id": "uf_yLfzul5Rs",
        "outputId": "f0e717ac-9e4a-473e-9d6a-ecb849c92239"
      },
      "outputs": [
        {
          "output_type": "execute_result",
          "data": {
            "text/plain": [
              "              Qty  RegularPrice  Total Discount   Sale Price  Perc. Discount  \\\n",
              "count  668.000000    668.000000      668.000000   668.000000      668.000000   \n",
              "mean     4.517964    158.758907        1.183165   157.575742        1.537425   \n",
              "std      4.519620    222.126337        6.821031   222.236976        5.245125   \n",
              "min      1.000000     17.170000        0.000000    17.170000        0.000000   \n",
              "25%      1.000000     28.360000        0.000000    28.360000        0.000000   \n",
              "50%      3.000000     80.430000        0.000000    76.320000        0.000000   \n",
              "75%      6.000000    152.640000        0.000000   152.640000        0.000000   \n",
              "max     30.000000   1595.100000      140.688000  1595.100000       30.000000   \n",
              "\n",
              "             Cost  \n",
              "count  668.000000  \n",
              "mean    44.675120  \n",
              "std     41.495689  \n",
              "min     11.760000  \n",
              "25%     11.760000  \n",
              "50%     23.520000  \n",
              "75%     69.000000  \n",
              "max    230.000000  "
            ],
            "text/html": [
              "\n",
              "  <div id=\"df-441fe8f1-c90a-46de-8049-8c3559ea3e3e\">\n",
              "    <div class=\"colab-df-container\">\n",
              "      <div>\n",
              "<style scoped>\n",
              "    .dataframe tbody tr th:only-of-type {\n",
              "        vertical-align: middle;\n",
              "    }\n",
              "\n",
              "    .dataframe tbody tr th {\n",
              "        vertical-align: top;\n",
              "    }\n",
              "\n",
              "    .dataframe thead th {\n",
              "        text-align: right;\n",
              "    }\n",
              "</style>\n",
              "<table border=\"1\" class=\"dataframe\">\n",
              "  <thead>\n",
              "    <tr style=\"text-align: right;\">\n",
              "      <th></th>\n",
              "      <th>Qty</th>\n",
              "      <th>RegularPrice</th>\n",
              "      <th>Total Discount</th>\n",
              "      <th>Sale Price</th>\n",
              "      <th>Perc. Discount</th>\n",
              "      <th>Cost</th>\n",
              "    </tr>\n",
              "  </thead>\n",
              "  <tbody>\n",
              "    <tr>\n",
              "      <th>count</th>\n",
              "      <td>668.000000</td>\n",
              "      <td>668.000000</td>\n",
              "      <td>668.000000</td>\n",
              "      <td>668.000000</td>\n",
              "      <td>668.000000</td>\n",
              "      <td>668.000000</td>\n",
              "    </tr>\n",
              "    <tr>\n",
              "      <th>mean</th>\n",
              "      <td>4.517964</td>\n",
              "      <td>158.758907</td>\n",
              "      <td>1.183165</td>\n",
              "      <td>157.575742</td>\n",
              "      <td>1.537425</td>\n",
              "      <td>44.675120</td>\n",
              "    </tr>\n",
              "    <tr>\n",
              "      <th>std</th>\n",
              "      <td>4.519620</td>\n",
              "      <td>222.126337</td>\n",
              "      <td>6.821031</td>\n",
              "      <td>222.236976</td>\n",
              "      <td>5.245125</td>\n",
              "      <td>41.495689</td>\n",
              "    </tr>\n",
              "    <tr>\n",
              "      <th>min</th>\n",
              "      <td>1.000000</td>\n",
              "      <td>17.170000</td>\n",
              "      <td>0.000000</td>\n",
              "      <td>17.170000</td>\n",
              "      <td>0.000000</td>\n",
              "      <td>11.760000</td>\n",
              "    </tr>\n",
              "    <tr>\n",
              "      <th>25%</th>\n",
              "      <td>1.000000</td>\n",
              "      <td>28.360000</td>\n",
              "      <td>0.000000</td>\n",
              "      <td>28.360000</td>\n",
              "      <td>0.000000</td>\n",
              "      <td>11.760000</td>\n",
              "    </tr>\n",
              "    <tr>\n",
              "      <th>50%</th>\n",
              "      <td>3.000000</td>\n",
              "      <td>80.430000</td>\n",
              "      <td>0.000000</td>\n",
              "      <td>76.320000</td>\n",
              "      <td>0.000000</td>\n",
              "      <td>23.520000</td>\n",
              "    </tr>\n",
              "    <tr>\n",
              "      <th>75%</th>\n",
              "      <td>6.000000</td>\n",
              "      <td>152.640000</td>\n",
              "      <td>0.000000</td>\n",
              "      <td>152.640000</td>\n",
              "      <td>0.000000</td>\n",
              "      <td>69.000000</td>\n",
              "    </tr>\n",
              "    <tr>\n",
              "      <th>max</th>\n",
              "      <td>30.000000</td>\n",
              "      <td>1595.100000</td>\n",
              "      <td>140.688000</td>\n",
              "      <td>1595.100000</td>\n",
              "      <td>30.000000</td>\n",
              "      <td>230.000000</td>\n",
              "    </tr>\n",
              "  </tbody>\n",
              "</table>\n",
              "</div>\n",
              "      <button class=\"colab-df-convert\" onclick=\"convertToInteractive('df-441fe8f1-c90a-46de-8049-8c3559ea3e3e')\"\n",
              "              title=\"Convert this dataframe to an interactive table.\"\n",
              "              style=\"display:none;\">\n",
              "        \n",
              "  <svg xmlns=\"http://www.w3.org/2000/svg\" height=\"24px\"viewBox=\"0 0 24 24\"\n",
              "       width=\"24px\">\n",
              "    <path d=\"M0 0h24v24H0V0z\" fill=\"none\"/>\n",
              "    <path d=\"M18.56 5.44l.94 2.06.94-2.06 2.06-.94-2.06-.94-.94-2.06-.94 2.06-2.06.94zm-11 1L8.5 8.5l.94-2.06 2.06-.94-2.06-.94L8.5 2.5l-.94 2.06-2.06.94zm10 10l.94 2.06.94-2.06 2.06-.94-2.06-.94-.94-2.06-.94 2.06-2.06.94z\"/><path d=\"M17.41 7.96l-1.37-1.37c-.4-.4-.92-.59-1.43-.59-.52 0-1.04.2-1.43.59L10.3 9.45l-7.72 7.72c-.78.78-.78 2.05 0 2.83L4 21.41c.39.39.9.59 1.41.59.51 0 1.02-.2 1.41-.59l7.78-7.78 2.81-2.81c.8-.78.8-2.07 0-2.86zM5.41 20L4 18.59l7.72-7.72 1.47 1.35L5.41 20z\"/>\n",
              "  </svg>\n",
              "      </button>\n",
              "      \n",
              "  <style>\n",
              "    .colab-df-container {\n",
              "      display:flex;\n",
              "      flex-wrap:wrap;\n",
              "      gap: 12px;\n",
              "    }\n",
              "\n",
              "    .colab-df-convert {\n",
              "      background-color: #E8F0FE;\n",
              "      border: none;\n",
              "      border-radius: 50%;\n",
              "      cursor: pointer;\n",
              "      display: none;\n",
              "      fill: #1967D2;\n",
              "      height: 32px;\n",
              "      padding: 0 0 0 0;\n",
              "      width: 32px;\n",
              "    }\n",
              "\n",
              "    .colab-df-convert:hover {\n",
              "      background-color: #E2EBFA;\n",
              "      box-shadow: 0px 1px 2px rgba(60, 64, 67, 0.3), 0px 1px 3px 1px rgba(60, 64, 67, 0.15);\n",
              "      fill: #174EA6;\n",
              "    }\n",
              "\n",
              "    [theme=dark] .colab-df-convert {\n",
              "      background-color: #3B4455;\n",
              "      fill: #D2E3FC;\n",
              "    }\n",
              "\n",
              "    [theme=dark] .colab-df-convert:hover {\n",
              "      background-color: #434B5C;\n",
              "      box-shadow: 0px 1px 3px 1px rgba(0, 0, 0, 0.15);\n",
              "      filter: drop-shadow(0px 1px 2px rgba(0, 0, 0, 0.3));\n",
              "      fill: #FFFFFF;\n",
              "    }\n",
              "  </style>\n",
              "\n",
              "      <script>\n",
              "        const buttonEl =\n",
              "          document.querySelector('#df-441fe8f1-c90a-46de-8049-8c3559ea3e3e button.colab-df-convert');\n",
              "        buttonEl.style.display =\n",
              "          google.colab.kernel.accessAllowed ? 'block' : 'none';\n",
              "\n",
              "        async function convertToInteractive(key) {\n",
              "          const element = document.querySelector('#df-441fe8f1-c90a-46de-8049-8c3559ea3e3e');\n",
              "          const dataTable =\n",
              "            await google.colab.kernel.invokeFunction('convertToInteractive',\n",
              "                                                     [key], {});\n",
              "          if (!dataTable) return;\n",
              "\n",
              "          const docLinkHtml = 'Like what you see? Visit the ' +\n",
              "            '<a target=\"_blank\" href=https://colab.research.google.com/notebooks/data_table.ipynb>data table notebook</a>'\n",
              "            + ' to learn more about interactive tables.';\n",
              "          element.innerHTML = '';\n",
              "          dataTable['output_type'] = 'display_data';\n",
              "          await google.colab.output.renderOutput(dataTable, element);\n",
              "          const docLink = document.createElement('div');\n",
              "          docLink.innerHTML = docLinkHtml;\n",
              "          element.appendChild(docLink);\n",
              "        }\n",
              "      </script>\n",
              "    </div>\n",
              "  </div>\n",
              "  "
            ]
          },
          "metadata": {},
          "execution_count": 6
        }
      ],
      "source": [
        "df2.describe()"
      ]
    },
    {
      "cell_type": "markdown",
      "source": [
        "We do some feature engineer for dates by getting individual columns like day, month, year, etc."
      ],
      "metadata": {
        "id": "WWOTyBljkXYt"
      }
    },
    {
      "cell_type": "code",
      "execution_count": 7,
      "metadata": {
        "id": "E8PbuaI7mLjP"
      },
      "outputs": [],
      "source": [
        "df2['Date'] = pd.to_datetime(df2['Date'])\n",
        "df2['day'] = df2['Date'].dt.day\n",
        "df2['week_of_year'] = df2['Date'].dt.isocalendar().week\n",
        "df2['month'] = df2['Date'].dt.month\n",
        "df2['month_start'] = df2['Date'].dt.is_month_start\n",
        "df2['month_end'] = df2['Date'].dt.is_month_end\n",
        "df2['year'] = df2['Date'].dt.year\n",
        "df2['quarter'] = df2['Date'].dt.quarter"
      ]
    },
    {
      "cell_type": "markdown",
      "source": [
        "Add Sales Column to analyze, we are not going to use Sales it is dependent from Quantity, which is what we are going to predict with Machine Learning."
      ],
      "metadata": {
        "id": "a3TCezGWlBkA"
      }
    },
    {
      "cell_type": "code",
      "execution_count": 8,
      "metadata": {
        "id": "PLmc4nJEn9J1"
      },
      "outputs": [],
      "source": [
        "df2['Sales'] = df2['Sale Price'] * df2['Qty']"
      ]
    },
    {
      "cell_type": "code",
      "execution_count": 9,
      "metadata": {
        "colab": {
          "base_uri": "https://localhost:8080/",
          "height": 825
        },
        "id": "58IcUW5ZWyJd",
        "outputId": "fe10d944-71b5-4a17-9ef3-f31502365e9d"
      },
      "outputs": [
        {
          "output_type": "execute_result",
          "data": {
            "text/plain": [
              "        Date        ASIN         TaxCode  \\\n",
              "0 2019-01-13  B00FWSK1UE  A_GEN_STANDARD   \n",
              "1 2019-01-13  B00FYU5QRI  A_GEN_STANDARD   \n",
              "2 2019-01-13  B01N1YYIVZ  A_GEN_STANDARD   \n",
              "3 2019-01-14  B00FWSK1UE  A_GEN_STANDARD   \n",
              "4 2019-01-14  B00FYU5QRI  A_GEN_STANDARD   \n",
              "\n",
              "                                                Name  Qty  RegularPrice  \\\n",
              "0  Codefree Kit SD - Medidor de glucosa en sangre...    2         57.84   \n",
              "1  Codefree Kit SD - Medidor de glucosa en sangre...    3         90.48   \n",
              "2  SD Codefree - Estuche que contiene Monitor de ...    6        290.04   \n",
              "3  Codefree Kit SD - Medidor de glucosa en sangre...    1         28.92   \n",
              "4  Codefree Kit SD - Medidor de glucosa en sangre...    1         30.16   \n",
              "\n",
              "   Total Discount  Sale Price  Perc. Discount   Cost  day  week_of_year  \\\n",
              "0             0.0       57.84               0  23.52   13             2   \n",
              "1             0.0       90.48               0  35.28   13             2   \n",
              "2             0.0      290.04               0  46.00   13             2   \n",
              "3             0.0       28.92               0  11.76   14             3   \n",
              "4             0.0       30.16               0  11.76   14             3   \n",
              "\n",
              "   month  month_start  month_end  year  quarter    Sales  \n",
              "0      1        False      False  2019        1   115.68  \n",
              "1      1        False      False  2019        1   271.44  \n",
              "2      1        False      False  2019        1  1740.24  \n",
              "3      1        False      False  2019        1    28.92  \n",
              "4      1        False      False  2019        1    30.16  "
            ],
            "text/html": [
              "\n",
              "  <div id=\"df-248971c0-bfcf-44f4-ba0d-3e3b41a1d12b\">\n",
              "    <div class=\"colab-df-container\">\n",
              "      <div>\n",
              "<style scoped>\n",
              "    .dataframe tbody tr th:only-of-type {\n",
              "        vertical-align: middle;\n",
              "    }\n",
              "\n",
              "    .dataframe tbody tr th {\n",
              "        vertical-align: top;\n",
              "    }\n",
              "\n",
              "    .dataframe thead th {\n",
              "        text-align: right;\n",
              "    }\n",
              "</style>\n",
              "<table border=\"1\" class=\"dataframe\">\n",
              "  <thead>\n",
              "    <tr style=\"text-align: right;\">\n",
              "      <th></th>\n",
              "      <th>Date</th>\n",
              "      <th>ASIN</th>\n",
              "      <th>TaxCode</th>\n",
              "      <th>Name</th>\n",
              "      <th>Qty</th>\n",
              "      <th>RegularPrice</th>\n",
              "      <th>Total Discount</th>\n",
              "      <th>Sale Price</th>\n",
              "      <th>Perc. Discount</th>\n",
              "      <th>Cost</th>\n",
              "      <th>day</th>\n",
              "      <th>week_of_year</th>\n",
              "      <th>month</th>\n",
              "      <th>month_start</th>\n",
              "      <th>month_end</th>\n",
              "      <th>year</th>\n",
              "      <th>quarter</th>\n",
              "      <th>Sales</th>\n",
              "    </tr>\n",
              "  </thead>\n",
              "  <tbody>\n",
              "    <tr>\n",
              "      <th>0</th>\n",
              "      <td>2019-01-13</td>\n",
              "      <td>B00FWSK1UE</td>\n",
              "      <td>A_GEN_STANDARD</td>\n",
              "      <td>Codefree Kit SD - Medidor de glucosa en sangre...</td>\n",
              "      <td>2</td>\n",
              "      <td>57.84</td>\n",
              "      <td>0.0</td>\n",
              "      <td>57.84</td>\n",
              "      <td>0</td>\n",
              "      <td>23.52</td>\n",
              "      <td>13</td>\n",
              "      <td>2</td>\n",
              "      <td>1</td>\n",
              "      <td>False</td>\n",
              "      <td>False</td>\n",
              "      <td>2019</td>\n",
              "      <td>1</td>\n",
              "      <td>115.68</td>\n",
              "    </tr>\n",
              "    <tr>\n",
              "      <th>1</th>\n",
              "      <td>2019-01-13</td>\n",
              "      <td>B00FYU5QRI</td>\n",
              "      <td>A_GEN_STANDARD</td>\n",
              "      <td>Codefree Kit SD - Medidor de glucosa en sangre...</td>\n",
              "      <td>3</td>\n",
              "      <td>90.48</td>\n",
              "      <td>0.0</td>\n",
              "      <td>90.48</td>\n",
              "      <td>0</td>\n",
              "      <td>35.28</td>\n",
              "      <td>13</td>\n",
              "      <td>2</td>\n",
              "      <td>1</td>\n",
              "      <td>False</td>\n",
              "      <td>False</td>\n",
              "      <td>2019</td>\n",
              "      <td>1</td>\n",
              "      <td>271.44</td>\n",
              "    </tr>\n",
              "    <tr>\n",
              "      <th>2</th>\n",
              "      <td>2019-01-13</td>\n",
              "      <td>B01N1YYIVZ</td>\n",
              "      <td>A_GEN_STANDARD</td>\n",
              "      <td>SD Codefree - Estuche que contiene Monitor de ...</td>\n",
              "      <td>6</td>\n",
              "      <td>290.04</td>\n",
              "      <td>0.0</td>\n",
              "      <td>290.04</td>\n",
              "      <td>0</td>\n",
              "      <td>46.00</td>\n",
              "      <td>13</td>\n",
              "      <td>2</td>\n",
              "      <td>1</td>\n",
              "      <td>False</td>\n",
              "      <td>False</td>\n",
              "      <td>2019</td>\n",
              "      <td>1</td>\n",
              "      <td>1740.24</td>\n",
              "    </tr>\n",
              "    <tr>\n",
              "      <th>3</th>\n",
              "      <td>2019-01-14</td>\n",
              "      <td>B00FWSK1UE</td>\n",
              "      <td>A_GEN_STANDARD</td>\n",
              "      <td>Codefree Kit SD - Medidor de glucosa en sangre...</td>\n",
              "      <td>1</td>\n",
              "      <td>28.92</td>\n",
              "      <td>0.0</td>\n",
              "      <td>28.92</td>\n",
              "      <td>0</td>\n",
              "      <td>11.76</td>\n",
              "      <td>14</td>\n",
              "      <td>3</td>\n",
              "      <td>1</td>\n",
              "      <td>False</td>\n",
              "      <td>False</td>\n",
              "      <td>2019</td>\n",
              "      <td>1</td>\n",
              "      <td>28.92</td>\n",
              "    </tr>\n",
              "    <tr>\n",
              "      <th>4</th>\n",
              "      <td>2019-01-14</td>\n",
              "      <td>B00FYU5QRI</td>\n",
              "      <td>A_GEN_STANDARD</td>\n",
              "      <td>Codefree Kit SD - Medidor de glucosa en sangre...</td>\n",
              "      <td>1</td>\n",
              "      <td>30.16</td>\n",
              "      <td>0.0</td>\n",
              "      <td>30.16</td>\n",
              "      <td>0</td>\n",
              "      <td>11.76</td>\n",
              "      <td>14</td>\n",
              "      <td>3</td>\n",
              "      <td>1</td>\n",
              "      <td>False</td>\n",
              "      <td>False</td>\n",
              "      <td>2019</td>\n",
              "      <td>1</td>\n",
              "      <td>30.16</td>\n",
              "    </tr>\n",
              "  </tbody>\n",
              "</table>\n",
              "</div>\n",
              "      <button class=\"colab-df-convert\" onclick=\"convertToInteractive('df-248971c0-bfcf-44f4-ba0d-3e3b41a1d12b')\"\n",
              "              title=\"Convert this dataframe to an interactive table.\"\n",
              "              style=\"display:none;\">\n",
              "        \n",
              "  <svg xmlns=\"http://www.w3.org/2000/svg\" height=\"24px\"viewBox=\"0 0 24 24\"\n",
              "       width=\"24px\">\n",
              "    <path d=\"M0 0h24v24H0V0z\" fill=\"none\"/>\n",
              "    <path d=\"M18.56 5.44l.94 2.06.94-2.06 2.06-.94-2.06-.94-.94-2.06-.94 2.06-2.06.94zm-11 1L8.5 8.5l.94-2.06 2.06-.94-2.06-.94L8.5 2.5l-.94 2.06-2.06.94zm10 10l.94 2.06.94-2.06 2.06-.94-2.06-.94-.94-2.06-.94 2.06-2.06.94z\"/><path d=\"M17.41 7.96l-1.37-1.37c-.4-.4-.92-.59-1.43-.59-.52 0-1.04.2-1.43.59L10.3 9.45l-7.72 7.72c-.78.78-.78 2.05 0 2.83L4 21.41c.39.39.9.59 1.41.59.51 0 1.02-.2 1.41-.59l7.78-7.78 2.81-2.81c.8-.78.8-2.07 0-2.86zM5.41 20L4 18.59l7.72-7.72 1.47 1.35L5.41 20z\"/>\n",
              "  </svg>\n",
              "      </button>\n",
              "      \n",
              "  <style>\n",
              "    .colab-df-container {\n",
              "      display:flex;\n",
              "      flex-wrap:wrap;\n",
              "      gap: 12px;\n",
              "    }\n",
              "\n",
              "    .colab-df-convert {\n",
              "      background-color: #E8F0FE;\n",
              "      border: none;\n",
              "      border-radius: 50%;\n",
              "      cursor: pointer;\n",
              "      display: none;\n",
              "      fill: #1967D2;\n",
              "      height: 32px;\n",
              "      padding: 0 0 0 0;\n",
              "      width: 32px;\n",
              "    }\n",
              "\n",
              "    .colab-df-convert:hover {\n",
              "      background-color: #E2EBFA;\n",
              "      box-shadow: 0px 1px 2px rgba(60, 64, 67, 0.3), 0px 1px 3px 1px rgba(60, 64, 67, 0.15);\n",
              "      fill: #174EA6;\n",
              "    }\n",
              "\n",
              "    [theme=dark] .colab-df-convert {\n",
              "      background-color: #3B4455;\n",
              "      fill: #D2E3FC;\n",
              "    }\n",
              "\n",
              "    [theme=dark] .colab-df-convert:hover {\n",
              "      background-color: #434B5C;\n",
              "      box-shadow: 0px 1px 3px 1px rgba(0, 0, 0, 0.15);\n",
              "      filter: drop-shadow(0px 1px 2px rgba(0, 0, 0, 0.3));\n",
              "      fill: #FFFFFF;\n",
              "    }\n",
              "  </style>\n",
              "\n",
              "      <script>\n",
              "        const buttonEl =\n",
              "          document.querySelector('#df-248971c0-bfcf-44f4-ba0d-3e3b41a1d12b button.colab-df-convert');\n",
              "        buttonEl.style.display =\n",
              "          google.colab.kernel.accessAllowed ? 'block' : 'none';\n",
              "\n",
              "        async function convertToInteractive(key) {\n",
              "          const element = document.querySelector('#df-248971c0-bfcf-44f4-ba0d-3e3b41a1d12b');\n",
              "          const dataTable =\n",
              "            await google.colab.kernel.invokeFunction('convertToInteractive',\n",
              "                                                     [key], {});\n",
              "          if (!dataTable) return;\n",
              "\n",
              "          const docLinkHtml = 'Like what you see? Visit the ' +\n",
              "            '<a target=\"_blank\" href=https://colab.research.google.com/notebooks/data_table.ipynb>data table notebook</a>'\n",
              "            + ' to learn more about interactive tables.';\n",
              "          element.innerHTML = '';\n",
              "          dataTable['output_type'] = 'display_data';\n",
              "          await google.colab.output.renderOutput(dataTable, element);\n",
              "          const docLink = document.createElement('div');\n",
              "          docLink.innerHTML = docLinkHtml;\n",
              "          element.appendChild(docLink);\n",
              "        }\n",
              "      </script>\n",
              "    </div>\n",
              "  </div>\n",
              "  "
            ]
          },
          "metadata": {},
          "execution_count": 9
        }
      ],
      "source": [
        "df2 = df2.sort_values(by='Date')\n",
        "df2.head()"
      ]
    },
    {
      "cell_type": "code",
      "source": [
        "#df2['discount_bool'] = np.where(df2['Perc. Discount'] > 0, True, False)"
      ],
      "metadata": {
        "id": "MHWUdrY8gg0s"
      },
      "execution_count": 10,
      "outputs": []
    },
    {
      "cell_type": "markdown",
      "source": [
        "Load reviews data. This is important to see the impact of reviews with purchases, values of ratings have a max of 5 stars."
      ],
      "metadata": {
        "id": "wS4jxSQplmtP"
      }
    },
    {
      "cell_type": "code",
      "source": [
        "ratings = pd.read_csv('/content/SDCODEFREE_reviews.csv')\n",
        "ratings = ratings.drop(columns= (ratings.columns)[3:])\n",
        "ratings.head()"
      ],
      "metadata": {
        "colab": {
          "base_uri": "https://localhost:8080/",
          "height": 206
        },
        "id": "rfZQ1EoSaDtB",
        "outputId": "a982f548-8f41-4911-9d4d-cde03b42b4fb"
      },
      "execution_count": 11,
      "outputs": [
        {
          "output_type": "execute_result",
          "data": {
            "text/plain": [
              "       a_asin      a_date  rating\n",
              "0  B00FWSK1UE  2013-12-02       4\n",
              "1  B00FWSK1UE  2013-12-31       4\n",
              "2  B00FWSK1UE  2014-01-08       5\n",
              "3  B00FWSK1UE  2014-03-29       4\n",
              "4  B00FWSK1UE  2014-03-31       5"
            ],
            "text/html": [
              "\n",
              "  <div id=\"df-ff345731-816b-4bf3-a86b-42d6e0bc13f3\">\n",
              "    <div class=\"colab-df-container\">\n",
              "      <div>\n",
              "<style scoped>\n",
              "    .dataframe tbody tr th:only-of-type {\n",
              "        vertical-align: middle;\n",
              "    }\n",
              "\n",
              "    .dataframe tbody tr th {\n",
              "        vertical-align: top;\n",
              "    }\n",
              "\n",
              "    .dataframe thead th {\n",
              "        text-align: right;\n",
              "    }\n",
              "</style>\n",
              "<table border=\"1\" class=\"dataframe\">\n",
              "  <thead>\n",
              "    <tr style=\"text-align: right;\">\n",
              "      <th></th>\n",
              "      <th>a_asin</th>\n",
              "      <th>a_date</th>\n",
              "      <th>rating</th>\n",
              "    </tr>\n",
              "  </thead>\n",
              "  <tbody>\n",
              "    <tr>\n",
              "      <th>0</th>\n",
              "      <td>B00FWSK1UE</td>\n",
              "      <td>2013-12-02</td>\n",
              "      <td>4</td>\n",
              "    </tr>\n",
              "    <tr>\n",
              "      <th>1</th>\n",
              "      <td>B00FWSK1UE</td>\n",
              "      <td>2013-12-31</td>\n",
              "      <td>4</td>\n",
              "    </tr>\n",
              "    <tr>\n",
              "      <th>2</th>\n",
              "      <td>B00FWSK1UE</td>\n",
              "      <td>2014-01-08</td>\n",
              "      <td>5</td>\n",
              "    </tr>\n",
              "    <tr>\n",
              "      <th>3</th>\n",
              "      <td>B00FWSK1UE</td>\n",
              "      <td>2014-03-29</td>\n",
              "      <td>4</td>\n",
              "    </tr>\n",
              "    <tr>\n",
              "      <th>4</th>\n",
              "      <td>B00FWSK1UE</td>\n",
              "      <td>2014-03-31</td>\n",
              "      <td>5</td>\n",
              "    </tr>\n",
              "  </tbody>\n",
              "</table>\n",
              "</div>\n",
              "      <button class=\"colab-df-convert\" onclick=\"convertToInteractive('df-ff345731-816b-4bf3-a86b-42d6e0bc13f3')\"\n",
              "              title=\"Convert this dataframe to an interactive table.\"\n",
              "              style=\"display:none;\">\n",
              "        \n",
              "  <svg xmlns=\"http://www.w3.org/2000/svg\" height=\"24px\"viewBox=\"0 0 24 24\"\n",
              "       width=\"24px\">\n",
              "    <path d=\"M0 0h24v24H0V0z\" fill=\"none\"/>\n",
              "    <path d=\"M18.56 5.44l.94 2.06.94-2.06 2.06-.94-2.06-.94-.94-2.06-.94 2.06-2.06.94zm-11 1L8.5 8.5l.94-2.06 2.06-.94-2.06-.94L8.5 2.5l-.94 2.06-2.06.94zm10 10l.94 2.06.94-2.06 2.06-.94-2.06-.94-.94-2.06-.94 2.06-2.06.94z\"/><path d=\"M17.41 7.96l-1.37-1.37c-.4-.4-.92-.59-1.43-.59-.52 0-1.04.2-1.43.59L10.3 9.45l-7.72 7.72c-.78.78-.78 2.05 0 2.83L4 21.41c.39.39.9.59 1.41.59.51 0 1.02-.2 1.41-.59l7.78-7.78 2.81-2.81c.8-.78.8-2.07 0-2.86zM5.41 20L4 18.59l7.72-7.72 1.47 1.35L5.41 20z\"/>\n",
              "  </svg>\n",
              "      </button>\n",
              "      \n",
              "  <style>\n",
              "    .colab-df-container {\n",
              "      display:flex;\n",
              "      flex-wrap:wrap;\n",
              "      gap: 12px;\n",
              "    }\n",
              "\n",
              "    .colab-df-convert {\n",
              "      background-color: #E8F0FE;\n",
              "      border: none;\n",
              "      border-radius: 50%;\n",
              "      cursor: pointer;\n",
              "      display: none;\n",
              "      fill: #1967D2;\n",
              "      height: 32px;\n",
              "      padding: 0 0 0 0;\n",
              "      width: 32px;\n",
              "    }\n",
              "\n",
              "    .colab-df-convert:hover {\n",
              "      background-color: #E2EBFA;\n",
              "      box-shadow: 0px 1px 2px rgba(60, 64, 67, 0.3), 0px 1px 3px 1px rgba(60, 64, 67, 0.15);\n",
              "      fill: #174EA6;\n",
              "    }\n",
              "\n",
              "    [theme=dark] .colab-df-convert {\n",
              "      background-color: #3B4455;\n",
              "      fill: #D2E3FC;\n",
              "    }\n",
              "\n",
              "    [theme=dark] .colab-df-convert:hover {\n",
              "      background-color: #434B5C;\n",
              "      box-shadow: 0px 1px 3px 1px rgba(0, 0, 0, 0.15);\n",
              "      filter: drop-shadow(0px 1px 2px rgba(0, 0, 0, 0.3));\n",
              "      fill: #FFFFFF;\n",
              "    }\n",
              "  </style>\n",
              "\n",
              "      <script>\n",
              "        const buttonEl =\n",
              "          document.querySelector('#df-ff345731-816b-4bf3-a86b-42d6e0bc13f3 button.colab-df-convert');\n",
              "        buttonEl.style.display =\n",
              "          google.colab.kernel.accessAllowed ? 'block' : 'none';\n",
              "\n",
              "        async function convertToInteractive(key) {\n",
              "          const element = document.querySelector('#df-ff345731-816b-4bf3-a86b-42d6e0bc13f3');\n",
              "          const dataTable =\n",
              "            await google.colab.kernel.invokeFunction('convertToInteractive',\n",
              "                                                     [key], {});\n",
              "          if (!dataTable) return;\n",
              "\n",
              "          const docLinkHtml = 'Like what you see? Visit the ' +\n",
              "            '<a target=\"_blank\" href=https://colab.research.google.com/notebooks/data_table.ipynb>data table notebook</a>'\n",
              "            + ' to learn more about interactive tables.';\n",
              "          element.innerHTML = '';\n",
              "          dataTable['output_type'] = 'display_data';\n",
              "          await google.colab.output.renderOutput(dataTable, element);\n",
              "          const docLink = document.createElement('div');\n",
              "          docLink.innerHTML = docLinkHtml;\n",
              "          element.appendChild(docLink);\n",
              "        }\n",
              "      </script>\n",
              "    </div>\n",
              "  </div>\n",
              "  "
            ]
          },
          "metadata": {},
          "execution_count": 11
        }
      ]
    },
    {
      "cell_type": "markdown",
      "source": [
        "To properly match reviews data with ASIN data, we have to merge them by Dates. If we match them by exact dates there are going to be a lot of missing values. For this, a group by per month and year was done getting the mean value. After doing this, we merge based on ASIN, month and year. First we change the Date datatype to Datetime."
      ],
      "metadata": {
        "id": "Z82S9lDqmEjy"
      }
    },
    {
      "cell_type": "code",
      "source": [
        "ratings['a_date'] = pd.to_datetime(ratings['a_date'])\n",
        "ratings = ratings.rename(columns={'a_asin': 'ASIN', 'a_date': 'Date'})"
      ],
      "metadata": {
        "id": "a_acZhVNaeHX"
      },
      "execution_count": 12,
      "outputs": []
    },
    {
      "cell_type": "code",
      "source": [
        "ratings['month'] = ratings['Date'].dt.month\n",
        "ratings['year'] = ratings['Date'].dt.year\n",
        "ratings = ratings.drop(columns = 'Date')"
      ],
      "metadata": {
        "id": "_EsAzu_pandQ"
      },
      "execution_count": 13,
      "outputs": []
    },
    {
      "cell_type": "code",
      "source": [
        "ratings = ratings.groupby(by = ['ASIN', 'month', 'year']).mean().reset_index()\n",
        "ratings"
      ],
      "metadata": {
        "colab": {
          "base_uri": "https://localhost:8080/",
          "height": 424
        },
        "id": "KfAu3Ryma8R6",
        "outputId": "882b73ad-836c-46dc-ad95-c2fb7341f982"
      },
      "execution_count": 14,
      "outputs": [
        {
          "output_type": "execute_result",
          "data": {
            "text/plain": [
              "           ASIN  month  year    rating\n",
              "0    B00FWSK1UE      1  2014  5.000000\n",
              "1    B00FWSK1UE      1  2017  5.000000\n",
              "2    B00FWSK1UE      1  2019  4.000000\n",
              "3    B00FWSK1UE      2  2015  5.000000\n",
              "4    B00FWSK1UE      2  2016  5.000000\n",
              "..          ...    ...   ...       ...\n",
              "148  B088LQWL3P     10  2020  5.000000\n",
              "149  B088LQWL3P     10  2021  5.000000\n",
              "150  B088LQWL3P     11  2020  4.666667\n",
              "151  B088LQWL3P     12  2020  4.500000\n",
              "152  B088LQWL3P     12  2021  5.000000\n",
              "\n",
              "[153 rows x 4 columns]"
            ],
            "text/html": [
              "\n",
              "  <div id=\"df-5bc5131a-3e2f-43b1-9431-414281c25259\">\n",
              "    <div class=\"colab-df-container\">\n",
              "      <div>\n",
              "<style scoped>\n",
              "    .dataframe tbody tr th:only-of-type {\n",
              "        vertical-align: middle;\n",
              "    }\n",
              "\n",
              "    .dataframe tbody tr th {\n",
              "        vertical-align: top;\n",
              "    }\n",
              "\n",
              "    .dataframe thead th {\n",
              "        text-align: right;\n",
              "    }\n",
              "</style>\n",
              "<table border=\"1\" class=\"dataframe\">\n",
              "  <thead>\n",
              "    <tr style=\"text-align: right;\">\n",
              "      <th></th>\n",
              "      <th>ASIN</th>\n",
              "      <th>month</th>\n",
              "      <th>year</th>\n",
              "      <th>rating</th>\n",
              "    </tr>\n",
              "  </thead>\n",
              "  <tbody>\n",
              "    <tr>\n",
              "      <th>0</th>\n",
              "      <td>B00FWSK1UE</td>\n",
              "      <td>1</td>\n",
              "      <td>2014</td>\n",
              "      <td>5.000000</td>\n",
              "    </tr>\n",
              "    <tr>\n",
              "      <th>1</th>\n",
              "      <td>B00FWSK1UE</td>\n",
              "      <td>1</td>\n",
              "      <td>2017</td>\n",
              "      <td>5.000000</td>\n",
              "    </tr>\n",
              "    <tr>\n",
              "      <th>2</th>\n",
              "      <td>B00FWSK1UE</td>\n",
              "      <td>1</td>\n",
              "      <td>2019</td>\n",
              "      <td>4.000000</td>\n",
              "    </tr>\n",
              "    <tr>\n",
              "      <th>3</th>\n",
              "      <td>B00FWSK1UE</td>\n",
              "      <td>2</td>\n",
              "      <td>2015</td>\n",
              "      <td>5.000000</td>\n",
              "    </tr>\n",
              "    <tr>\n",
              "      <th>4</th>\n",
              "      <td>B00FWSK1UE</td>\n",
              "      <td>2</td>\n",
              "      <td>2016</td>\n",
              "      <td>5.000000</td>\n",
              "    </tr>\n",
              "    <tr>\n",
              "      <th>...</th>\n",
              "      <td>...</td>\n",
              "      <td>...</td>\n",
              "      <td>...</td>\n",
              "      <td>...</td>\n",
              "    </tr>\n",
              "    <tr>\n",
              "      <th>148</th>\n",
              "      <td>B088LQWL3P</td>\n",
              "      <td>10</td>\n",
              "      <td>2020</td>\n",
              "      <td>5.000000</td>\n",
              "    </tr>\n",
              "    <tr>\n",
              "      <th>149</th>\n",
              "      <td>B088LQWL3P</td>\n",
              "      <td>10</td>\n",
              "      <td>2021</td>\n",
              "      <td>5.000000</td>\n",
              "    </tr>\n",
              "    <tr>\n",
              "      <th>150</th>\n",
              "      <td>B088LQWL3P</td>\n",
              "      <td>11</td>\n",
              "      <td>2020</td>\n",
              "      <td>4.666667</td>\n",
              "    </tr>\n",
              "    <tr>\n",
              "      <th>151</th>\n",
              "      <td>B088LQWL3P</td>\n",
              "      <td>12</td>\n",
              "      <td>2020</td>\n",
              "      <td>4.500000</td>\n",
              "    </tr>\n",
              "    <tr>\n",
              "      <th>152</th>\n",
              "      <td>B088LQWL3P</td>\n",
              "      <td>12</td>\n",
              "      <td>2021</td>\n",
              "      <td>5.000000</td>\n",
              "    </tr>\n",
              "  </tbody>\n",
              "</table>\n",
              "<p>153 rows × 4 columns</p>\n",
              "</div>\n",
              "      <button class=\"colab-df-convert\" onclick=\"convertToInteractive('df-5bc5131a-3e2f-43b1-9431-414281c25259')\"\n",
              "              title=\"Convert this dataframe to an interactive table.\"\n",
              "              style=\"display:none;\">\n",
              "        \n",
              "  <svg xmlns=\"http://www.w3.org/2000/svg\" height=\"24px\"viewBox=\"0 0 24 24\"\n",
              "       width=\"24px\">\n",
              "    <path d=\"M0 0h24v24H0V0z\" fill=\"none\"/>\n",
              "    <path d=\"M18.56 5.44l.94 2.06.94-2.06 2.06-.94-2.06-.94-.94-2.06-.94 2.06-2.06.94zm-11 1L8.5 8.5l.94-2.06 2.06-.94-2.06-.94L8.5 2.5l-.94 2.06-2.06.94zm10 10l.94 2.06.94-2.06 2.06-.94-2.06-.94-.94-2.06-.94 2.06-2.06.94z\"/><path d=\"M17.41 7.96l-1.37-1.37c-.4-.4-.92-.59-1.43-.59-.52 0-1.04.2-1.43.59L10.3 9.45l-7.72 7.72c-.78.78-.78 2.05 0 2.83L4 21.41c.39.39.9.59 1.41.59.51 0 1.02-.2 1.41-.59l7.78-7.78 2.81-2.81c.8-.78.8-2.07 0-2.86zM5.41 20L4 18.59l7.72-7.72 1.47 1.35L5.41 20z\"/>\n",
              "  </svg>\n",
              "      </button>\n",
              "      \n",
              "  <style>\n",
              "    .colab-df-container {\n",
              "      display:flex;\n",
              "      flex-wrap:wrap;\n",
              "      gap: 12px;\n",
              "    }\n",
              "\n",
              "    .colab-df-convert {\n",
              "      background-color: #E8F0FE;\n",
              "      border: none;\n",
              "      border-radius: 50%;\n",
              "      cursor: pointer;\n",
              "      display: none;\n",
              "      fill: #1967D2;\n",
              "      height: 32px;\n",
              "      padding: 0 0 0 0;\n",
              "      width: 32px;\n",
              "    }\n",
              "\n",
              "    .colab-df-convert:hover {\n",
              "      background-color: #E2EBFA;\n",
              "      box-shadow: 0px 1px 2px rgba(60, 64, 67, 0.3), 0px 1px 3px 1px rgba(60, 64, 67, 0.15);\n",
              "      fill: #174EA6;\n",
              "    }\n",
              "\n",
              "    [theme=dark] .colab-df-convert {\n",
              "      background-color: #3B4455;\n",
              "      fill: #D2E3FC;\n",
              "    }\n",
              "\n",
              "    [theme=dark] .colab-df-convert:hover {\n",
              "      background-color: #434B5C;\n",
              "      box-shadow: 0px 1px 3px 1px rgba(0, 0, 0, 0.15);\n",
              "      filter: drop-shadow(0px 1px 2px rgba(0, 0, 0, 0.3));\n",
              "      fill: #FFFFFF;\n",
              "    }\n",
              "  </style>\n",
              "\n",
              "      <script>\n",
              "        const buttonEl =\n",
              "          document.querySelector('#df-5bc5131a-3e2f-43b1-9431-414281c25259 button.colab-df-convert');\n",
              "        buttonEl.style.display =\n",
              "          google.colab.kernel.accessAllowed ? 'block' : 'none';\n",
              "\n",
              "        async function convertToInteractive(key) {\n",
              "          const element = document.querySelector('#df-5bc5131a-3e2f-43b1-9431-414281c25259');\n",
              "          const dataTable =\n",
              "            await google.colab.kernel.invokeFunction('convertToInteractive',\n",
              "                                                     [key], {});\n",
              "          if (!dataTable) return;\n",
              "\n",
              "          const docLinkHtml = 'Like what you see? Visit the ' +\n",
              "            '<a target=\"_blank\" href=https://colab.research.google.com/notebooks/data_table.ipynb>data table notebook</a>'\n",
              "            + ' to learn more about interactive tables.';\n",
              "          element.innerHTML = '';\n",
              "          dataTable['output_type'] = 'display_data';\n",
              "          await google.colab.output.renderOutput(dataTable, element);\n",
              "          const docLink = document.createElement('div');\n",
              "          docLink.innerHTML = docLinkHtml;\n",
              "          element.appendChild(docLink);\n",
              "        }\n",
              "      </script>\n",
              "    </div>\n",
              "  </div>\n",
              "  "
            ]
          },
          "metadata": {},
          "execution_count": 14
        }
      ]
    },
    {
      "cell_type": "code",
      "source": [
        "df2 = pd.merge(df2, ratings, how = 'left', on = ['ASIN', 'month', 'year'])\n",
        "df2.columns"
      ],
      "metadata": {
        "colab": {
          "base_uri": "https://localhost:8080/"
        },
        "id": "0UiXVxRabELc",
        "outputId": "a520e65b-f73a-4849-f87d-15de526bd597"
      },
      "execution_count": 15,
      "outputs": [
        {
          "output_type": "execute_result",
          "data": {
            "text/plain": [
              "Index(['Date', 'ASIN', 'TaxCode', 'Name', 'Qty', 'RegularPrice',\n",
              "       'Total Discount', 'Sale Price', 'Perc. Discount', 'Cost', 'day',\n",
              "       'week_of_year', 'month', 'month_start', 'month_end', 'year', 'quarter',\n",
              "       'Sales', 'rating'],\n",
              "      dtype='object')"
            ]
          },
          "metadata": {},
          "execution_count": 15
        }
      ]
    },
    {
      "cell_type": "code",
      "source": [
        "df2.isnull().sum()"
      ],
      "metadata": {
        "colab": {
          "base_uri": "https://localhost:8080/"
        },
        "id": "4ObZygmhbM-B",
        "outputId": "34bcd8e3-a959-4763-8a26-e02236576816"
      },
      "execution_count": 16,
      "outputs": [
        {
          "output_type": "execute_result",
          "data": {
            "text/plain": [
              "Date                0\n",
              "ASIN                0\n",
              "TaxCode             0\n",
              "Name                0\n",
              "Qty                 0\n",
              "RegularPrice        0\n",
              "Total Discount      0\n",
              "Sale Price          0\n",
              "Perc. Discount      0\n",
              "Cost                0\n",
              "day                 0\n",
              "week_of_year        0\n",
              "month               0\n",
              "month_start         0\n",
              "month_end           0\n",
              "year                0\n",
              "quarter             0\n",
              "Sales               0\n",
              "rating            195\n",
              "dtype: int64"
            ]
          },
          "metadata": {},
          "execution_count": 16
        }
      ]
    },
    {
      "cell_type": "markdown",
      "source": [
        "There are 195 null values with the past merging. To fix this instead of filling those values with the mean of the ratings, a better solution was to fill them doing machine learning to predict those values. Random Forest Regressor was chosen to predict missing values."
      ],
      "metadata": {
        "id": "_Sws8LEznJLw"
      }
    },
    {
      "cell_type": "code",
      "source": [
        "#lg_n = LGBMRegressor(n_estimators=1000, learning_rate=0.05, n_jobs=-1)\n",
        "lg_n = RandomForestRegressor(n_estimators=100, random_state=42)\n",
        "#df.head()\n",
        "regression_df = df2.drop(columns = [ 'Date', 'Name'])\n",
        "testdf = regression_df[regression_df['rating'].isnull()==True]\n",
        "traindf = regression_df[regression_df['rating'].isnull()==False]\n",
        "#testdf.shape\n",
        "X_train_reg = traindf.drop(columns = ['rating'])\n",
        "y_train_reg = traindf['rating']\n",
        "X_test_reg = testdf.drop(columns = ['rating'])\n",
        "y_test_reg = testdf['rating']\n",
        "num_attribs = ['Perc. Discount', 'day', 'week_of_year', 'month', 'year', 'quarter', 'RegularPrice', 'Sale Price', 'Sales']\n",
        "dummy_attribs = ['month_start','month_end']\n",
        "cat_attribs = ['ASIN', 'TaxCode']\n",
        "\n",
        "full_pipeline = ColumnTransformer([\n",
        "        (\"num\", StandardScaler(), num_attribs),\n",
        "        (\"cat_encoder\", OneHotEncoder(), dummy_attribs),\n",
        "        (\"cat\", OrdinalEncoder(), cat_attribs)\n",
        "    ])\n",
        "\n",
        "X_train_reg_tr = full_pipeline.fit_transform(X_train_reg)\n",
        "X_test_reg_tr = full_pipeline.fit_transform(X_test_reg)\n",
        "lg_n.fit(X_train_reg_tr,y_train_reg)\n",
        "pred = lg_n.predict(X_test_reg_tr)\n",
        "testdf['rating']= pred\n",
        "list1 = []\n",
        "index = (testdf.index)\n",
        "list1 = index.append(list1)\n",
        "df2.loc[list1,'rating'] = testdf['rating']"
      ],
      "metadata": {
        "colab": {
          "base_uri": "https://localhost:8080/"
        },
        "id": "y6gmc6o6bVpg",
        "outputId": "dbe4c39f-d421-4898-f92a-f4a094fae1ed"
      },
      "execution_count": 17,
      "outputs": [
        {
          "output_type": "stream",
          "name": "stderr",
          "text": [
            "/usr/local/lib/python3.7/dist-packages/ipykernel_launcher.py:26: SettingWithCopyWarning: \n",
            "A value is trying to be set on a copy of a slice from a DataFrame.\n",
            "Try using .loc[row_indexer,col_indexer] = value instead\n",
            "\n",
            "See the caveats in the documentation: https://pandas.pydata.org/pandas-docs/stable/user_guide/indexing.html#returning-a-view-versus-a-copy\n"
          ]
        }
      ]
    },
    {
      "cell_type": "markdown",
      "source": [
        "We can now observe that there are no more null values for ratings."
      ],
      "metadata": {
        "id": "_NIkEvw2mh_c"
      }
    },
    {
      "cell_type": "code",
      "source": [
        "df2.isnull().sum()"
      ],
      "metadata": {
        "colab": {
          "base_uri": "https://localhost:8080/"
        },
        "id": "FPqjxURsceUF",
        "outputId": "805b38ff-b0d7-4f78-f9ef-d90d47b43a31"
      },
      "execution_count": 18,
      "outputs": [
        {
          "output_type": "execute_result",
          "data": {
            "text/plain": [
              "Date              0\n",
              "ASIN              0\n",
              "TaxCode           0\n",
              "Name              0\n",
              "Qty               0\n",
              "RegularPrice      0\n",
              "Total Discount    0\n",
              "Sale Price        0\n",
              "Perc. Discount    0\n",
              "Cost              0\n",
              "day               0\n",
              "week_of_year      0\n",
              "month             0\n",
              "month_start       0\n",
              "month_end         0\n",
              "year              0\n",
              "quarter           0\n",
              "Sales             0\n",
              "rating            0\n",
              "dtype: int64"
            ]
          },
          "metadata": {},
          "execution_count": 18
        }
      ]
    },
    {
      "cell_type": "markdown",
      "source": [
        "Another feature to be interesting to see the effect in the model is competition price and ratings. This is interesting as it can have an effect when a customer decides to purchase or not. For example, if competition prices are higher the customer might choose the product with a lower price. Same happens with the competition ratings. If the competition has higher ratings the customer might trust the competition product and choose them reducing purchases. First we load data from Sinocare which is the biggest competitor in the market for the chosen products."
      ],
      "metadata": {
        "id": "Mk5IDUa1mvD5"
      }
    },
    {
      "cell_type": "code",
      "source": [
        "competition = pd.read_csv('/content/competition.csv')\n",
        "competition.head()"
      ],
      "metadata": {
        "colab": {
          "base_uri": "https://localhost:8080/",
          "height": 206
        },
        "id": "Zk0MOqEHfvI5",
        "outputId": "57a05f39-a8ba-4703-e24d-936a4182ab2e"
      },
      "execution_count": 19,
      "outputs": [
        {
          "output_type": "execute_result",
          "data": {
            "text/plain": [
              "         asin                 date      stat  value\n",
              "0  B08ZY7FSSX  2022-08-10 01:12:00  newprice  18.89\n",
              "1  B08ZY7FSSX  2022-08-09 10:24:00  newprice  18.49\n",
              "2  B08ZY7FSSX  2022-08-08 00:08:00  newprice  17.99\n",
              "3  B08ZY7FSSX  2022-08-07 22:06:00  newprice  18.99\n",
              "4  B08ZY7FSSX  2022-08-01 00:26:00  newprice  14.90"
            ],
            "text/html": [
              "\n",
              "  <div id=\"df-5bba9a16-5c37-4b0a-9848-24e1976d534f\">\n",
              "    <div class=\"colab-df-container\">\n",
              "      <div>\n",
              "<style scoped>\n",
              "    .dataframe tbody tr th:only-of-type {\n",
              "        vertical-align: middle;\n",
              "    }\n",
              "\n",
              "    .dataframe tbody tr th {\n",
              "        vertical-align: top;\n",
              "    }\n",
              "\n",
              "    .dataframe thead th {\n",
              "        text-align: right;\n",
              "    }\n",
              "</style>\n",
              "<table border=\"1\" class=\"dataframe\">\n",
              "  <thead>\n",
              "    <tr style=\"text-align: right;\">\n",
              "      <th></th>\n",
              "      <th>asin</th>\n",
              "      <th>date</th>\n",
              "      <th>stat</th>\n",
              "      <th>value</th>\n",
              "    </tr>\n",
              "  </thead>\n",
              "  <tbody>\n",
              "    <tr>\n",
              "      <th>0</th>\n",
              "      <td>B08ZY7FSSX</td>\n",
              "      <td>2022-08-10 01:12:00</td>\n",
              "      <td>newprice</td>\n",
              "      <td>18.89</td>\n",
              "    </tr>\n",
              "    <tr>\n",
              "      <th>1</th>\n",
              "      <td>B08ZY7FSSX</td>\n",
              "      <td>2022-08-09 10:24:00</td>\n",
              "      <td>newprice</td>\n",
              "      <td>18.49</td>\n",
              "    </tr>\n",
              "    <tr>\n",
              "      <th>2</th>\n",
              "      <td>B08ZY7FSSX</td>\n",
              "      <td>2022-08-08 00:08:00</td>\n",
              "      <td>newprice</td>\n",
              "      <td>17.99</td>\n",
              "    </tr>\n",
              "    <tr>\n",
              "      <th>3</th>\n",
              "      <td>B08ZY7FSSX</td>\n",
              "      <td>2022-08-07 22:06:00</td>\n",
              "      <td>newprice</td>\n",
              "      <td>18.99</td>\n",
              "    </tr>\n",
              "    <tr>\n",
              "      <th>4</th>\n",
              "      <td>B08ZY7FSSX</td>\n",
              "      <td>2022-08-01 00:26:00</td>\n",
              "      <td>newprice</td>\n",
              "      <td>14.90</td>\n",
              "    </tr>\n",
              "  </tbody>\n",
              "</table>\n",
              "</div>\n",
              "      <button class=\"colab-df-convert\" onclick=\"convertToInteractive('df-5bba9a16-5c37-4b0a-9848-24e1976d534f')\"\n",
              "              title=\"Convert this dataframe to an interactive table.\"\n",
              "              style=\"display:none;\">\n",
              "        \n",
              "  <svg xmlns=\"http://www.w3.org/2000/svg\" height=\"24px\"viewBox=\"0 0 24 24\"\n",
              "       width=\"24px\">\n",
              "    <path d=\"M0 0h24v24H0V0z\" fill=\"none\"/>\n",
              "    <path d=\"M18.56 5.44l.94 2.06.94-2.06 2.06-.94-2.06-.94-.94-2.06-.94 2.06-2.06.94zm-11 1L8.5 8.5l.94-2.06 2.06-.94-2.06-.94L8.5 2.5l-.94 2.06-2.06.94zm10 10l.94 2.06.94-2.06 2.06-.94-2.06-.94-.94-2.06-.94 2.06-2.06.94z\"/><path d=\"M17.41 7.96l-1.37-1.37c-.4-.4-.92-.59-1.43-.59-.52 0-1.04.2-1.43.59L10.3 9.45l-7.72 7.72c-.78.78-.78 2.05 0 2.83L4 21.41c.39.39.9.59 1.41.59.51 0 1.02-.2 1.41-.59l7.78-7.78 2.81-2.81c.8-.78.8-2.07 0-2.86zM5.41 20L4 18.59l7.72-7.72 1.47 1.35L5.41 20z\"/>\n",
              "  </svg>\n",
              "      </button>\n",
              "      \n",
              "  <style>\n",
              "    .colab-df-container {\n",
              "      display:flex;\n",
              "      flex-wrap:wrap;\n",
              "      gap: 12px;\n",
              "    }\n",
              "\n",
              "    .colab-df-convert {\n",
              "      background-color: #E8F0FE;\n",
              "      border: none;\n",
              "      border-radius: 50%;\n",
              "      cursor: pointer;\n",
              "      display: none;\n",
              "      fill: #1967D2;\n",
              "      height: 32px;\n",
              "      padding: 0 0 0 0;\n",
              "      width: 32px;\n",
              "    }\n",
              "\n",
              "    .colab-df-convert:hover {\n",
              "      background-color: #E2EBFA;\n",
              "      box-shadow: 0px 1px 2px rgba(60, 64, 67, 0.3), 0px 1px 3px 1px rgba(60, 64, 67, 0.15);\n",
              "      fill: #174EA6;\n",
              "    }\n",
              "\n",
              "    [theme=dark] .colab-df-convert {\n",
              "      background-color: #3B4455;\n",
              "      fill: #D2E3FC;\n",
              "    }\n",
              "\n",
              "    [theme=dark] .colab-df-convert:hover {\n",
              "      background-color: #434B5C;\n",
              "      box-shadow: 0px 1px 3px 1px rgba(0, 0, 0, 0.15);\n",
              "      filter: drop-shadow(0px 1px 2px rgba(0, 0, 0, 0.3));\n",
              "      fill: #FFFFFF;\n",
              "    }\n",
              "  </style>\n",
              "\n",
              "      <script>\n",
              "        const buttonEl =\n",
              "          document.querySelector('#df-5bba9a16-5c37-4b0a-9848-24e1976d534f button.colab-df-convert');\n",
              "        buttonEl.style.display =\n",
              "          google.colab.kernel.accessAllowed ? 'block' : 'none';\n",
              "\n",
              "        async function convertToInteractive(key) {\n",
              "          const element = document.querySelector('#df-5bba9a16-5c37-4b0a-9848-24e1976d534f');\n",
              "          const dataTable =\n",
              "            await google.colab.kernel.invokeFunction('convertToInteractive',\n",
              "                                                     [key], {});\n",
              "          if (!dataTable) return;\n",
              "\n",
              "          const docLinkHtml = 'Like what you see? Visit the ' +\n",
              "            '<a target=\"_blank\" href=https://colab.research.google.com/notebooks/data_table.ipynb>data table notebook</a>'\n",
              "            + ' to learn more about interactive tables.';\n",
              "          element.innerHTML = '';\n",
              "          dataTable['output_type'] = 'display_data';\n",
              "          await google.colab.output.renderOutput(dataTable, element);\n",
              "          const docLink = document.createElement('div');\n",
              "          docLink.innerHTML = docLinkHtml;\n",
              "          element.appendChild(docLink);\n",
              "        }\n",
              "      </script>\n",
              "    </div>\n",
              "  </div>\n",
              "  "
            ]
          },
          "metadata": {},
          "execution_count": 19
        }
      ]
    },
    {
      "cell_type": "code",
      "source": [
        "competition = competition.rename(columns = {'asin': 'ASIN'})"
      ],
      "metadata": {
        "id": "y51SX0YHhijg"
      },
      "execution_count": 20,
      "outputs": []
    },
    {
      "cell_type": "markdown",
      "source": [
        "Here we can observe that competition ASIN's and ours are different, it is very important to find a way they can be similar so we are able to match them with our products."
      ],
      "metadata": {
        "id": "FhZX2rx2n4CD"
      }
    },
    {
      "cell_type": "code",
      "source": [
        "competition['ASIN'].unique()"
      ],
      "metadata": {
        "colab": {
          "base_uri": "https://localhost:8080/"
        },
        "id": "70Zk6zUl_jvM",
        "outputId": "ecd461d8-9bda-4134-ece3-448bd81c3786"
      },
      "execution_count": 21,
      "outputs": [
        {
          "output_type": "execute_result",
          "data": {
            "text/plain": [
              "array(['B08ZY7FSSX', 'B00FXVXRRY', 'B006B8JO98', 'B00FWSK1UE',\n",
              "       'B09TBF4YBR', 'B00FYU5QRI', 'B01MT5PO4E', 'B08ZXY3BY9',\n",
              "       'B091T5RVST'], dtype=object)"
            ]
          },
          "metadata": {},
          "execution_count": 21
        }
      ]
    },
    {
      "cell_type": "code",
      "source": [
        "df2['ASIN'].unique()"
      ],
      "metadata": {
        "colab": {
          "base_uri": "https://localhost:8080/"
        },
        "id": "cWKE4OsuAt2p",
        "outputId": "1ebe911e-3dff-4ae8-fe2b-78c0deb6c529"
      },
      "execution_count": 22,
      "outputs": [
        {
          "output_type": "execute_result",
          "data": {
            "text/plain": [
              "array(['B00FWSK1UE', 'B00FYU5QRI', 'B01N1YYIVZ', 'B01MT5PO4E',\n",
              "       'B01N4KNHZI', 'B088LQWL3P'], dtype=object)"
            ]
          },
          "metadata": {},
          "execution_count": 22
        }
      ]
    },
    {
      "cell_type": "markdown",
      "source": [
        "First we change Date datatype to Datetime and split the date by day, month and year."
      ],
      "metadata": {
        "id": "U0h-U9t1oQ7U"
      }
    },
    {
      "cell_type": "code",
      "source": [
        "competition['Date'] = pd.to_datetime(competition['date'])\n",
        "competition['day'] = competition['Date'].dt.day\n",
        "competition['month'] = competition['Date'].dt.month\n",
        "competition['year'] = competition['Date'].dt.year"
      ],
      "metadata": {
        "id": "k_SWj1VrcMyO"
      },
      "execution_count": 23,
      "outputs": []
    },
    {
      "cell_type": "markdown",
      "source": [
        "The data has different values such as newprice and rating. This is why we have to filter each of them to merge them with our data."
      ],
      "metadata": {
        "id": "c9874h2MoZfP"
      }
    },
    {
      "cell_type": "code",
      "source": [
        "competition.loc[competition['stat']== 'rating'].describe()"
      ],
      "metadata": {
        "colab": {
          "base_uri": "https://localhost:8080/",
          "height": 300
        },
        "id": "xSvHSSJbw8AG",
        "outputId": "13d4ae5a-2708-445a-9e77-d74580cd5461"
      },
      "execution_count": 24,
      "outputs": [
        {
          "output_type": "execute_result",
          "data": {
            "text/plain": [
              "            value         day       month         year\n",
              "count  286.000000  286.000000  286.000000   286.000000\n",
              "mean    15.580769   16.034965    6.437063  2021.157343\n",
              "std     18.161220    9.405047    3.055261     0.905964\n",
              "min     -1.000000    1.000000    1.000000  2017.000000\n",
              "25%      4.300000    8.000000    4.000000  2021.000000\n",
              "50%      4.400000   16.500000    6.000000  2021.000000\n",
              "75%     40.000000   25.750000    9.000000  2022.000000\n",
              "max     49.000000   31.000000   12.000000  2022.000000"
            ],
            "text/html": [
              "\n",
              "  <div id=\"df-16b5d147-e5c8-4cb9-893e-08364f1da3b0\">\n",
              "    <div class=\"colab-df-container\">\n",
              "      <div>\n",
              "<style scoped>\n",
              "    .dataframe tbody tr th:only-of-type {\n",
              "        vertical-align: middle;\n",
              "    }\n",
              "\n",
              "    .dataframe tbody tr th {\n",
              "        vertical-align: top;\n",
              "    }\n",
              "\n",
              "    .dataframe thead th {\n",
              "        text-align: right;\n",
              "    }\n",
              "</style>\n",
              "<table border=\"1\" class=\"dataframe\">\n",
              "  <thead>\n",
              "    <tr style=\"text-align: right;\">\n",
              "      <th></th>\n",
              "      <th>value</th>\n",
              "      <th>day</th>\n",
              "      <th>month</th>\n",
              "      <th>year</th>\n",
              "    </tr>\n",
              "  </thead>\n",
              "  <tbody>\n",
              "    <tr>\n",
              "      <th>count</th>\n",
              "      <td>286.000000</td>\n",
              "      <td>286.000000</td>\n",
              "      <td>286.000000</td>\n",
              "      <td>286.000000</td>\n",
              "    </tr>\n",
              "    <tr>\n",
              "      <th>mean</th>\n",
              "      <td>15.580769</td>\n",
              "      <td>16.034965</td>\n",
              "      <td>6.437063</td>\n",
              "      <td>2021.157343</td>\n",
              "    </tr>\n",
              "    <tr>\n",
              "      <th>std</th>\n",
              "      <td>18.161220</td>\n",
              "      <td>9.405047</td>\n",
              "      <td>3.055261</td>\n",
              "      <td>0.905964</td>\n",
              "    </tr>\n",
              "    <tr>\n",
              "      <th>min</th>\n",
              "      <td>-1.000000</td>\n",
              "      <td>1.000000</td>\n",
              "      <td>1.000000</td>\n",
              "      <td>2017.000000</td>\n",
              "    </tr>\n",
              "    <tr>\n",
              "      <th>25%</th>\n",
              "      <td>4.300000</td>\n",
              "      <td>8.000000</td>\n",
              "      <td>4.000000</td>\n",
              "      <td>2021.000000</td>\n",
              "    </tr>\n",
              "    <tr>\n",
              "      <th>50%</th>\n",
              "      <td>4.400000</td>\n",
              "      <td>16.500000</td>\n",
              "      <td>6.000000</td>\n",
              "      <td>2021.000000</td>\n",
              "    </tr>\n",
              "    <tr>\n",
              "      <th>75%</th>\n",
              "      <td>40.000000</td>\n",
              "      <td>25.750000</td>\n",
              "      <td>9.000000</td>\n",
              "      <td>2022.000000</td>\n",
              "    </tr>\n",
              "    <tr>\n",
              "      <th>max</th>\n",
              "      <td>49.000000</td>\n",
              "      <td>31.000000</td>\n",
              "      <td>12.000000</td>\n",
              "      <td>2022.000000</td>\n",
              "    </tr>\n",
              "  </tbody>\n",
              "</table>\n",
              "</div>\n",
              "      <button class=\"colab-df-convert\" onclick=\"convertToInteractive('df-16b5d147-e5c8-4cb9-893e-08364f1da3b0')\"\n",
              "              title=\"Convert this dataframe to an interactive table.\"\n",
              "              style=\"display:none;\">\n",
              "        \n",
              "  <svg xmlns=\"http://www.w3.org/2000/svg\" height=\"24px\"viewBox=\"0 0 24 24\"\n",
              "       width=\"24px\">\n",
              "    <path d=\"M0 0h24v24H0V0z\" fill=\"none\"/>\n",
              "    <path d=\"M18.56 5.44l.94 2.06.94-2.06 2.06-.94-2.06-.94-.94-2.06-.94 2.06-2.06.94zm-11 1L8.5 8.5l.94-2.06 2.06-.94-2.06-.94L8.5 2.5l-.94 2.06-2.06.94zm10 10l.94 2.06.94-2.06 2.06-.94-2.06-.94-.94-2.06-.94 2.06-2.06.94z\"/><path d=\"M17.41 7.96l-1.37-1.37c-.4-.4-.92-.59-1.43-.59-.52 0-1.04.2-1.43.59L10.3 9.45l-7.72 7.72c-.78.78-.78 2.05 0 2.83L4 21.41c.39.39.9.59 1.41.59.51 0 1.02-.2 1.41-.59l7.78-7.78 2.81-2.81c.8-.78.8-2.07 0-2.86zM5.41 20L4 18.59l7.72-7.72 1.47 1.35L5.41 20z\"/>\n",
              "  </svg>\n",
              "      </button>\n",
              "      \n",
              "  <style>\n",
              "    .colab-df-container {\n",
              "      display:flex;\n",
              "      flex-wrap:wrap;\n",
              "      gap: 12px;\n",
              "    }\n",
              "\n",
              "    .colab-df-convert {\n",
              "      background-color: #E8F0FE;\n",
              "      border: none;\n",
              "      border-radius: 50%;\n",
              "      cursor: pointer;\n",
              "      display: none;\n",
              "      fill: #1967D2;\n",
              "      height: 32px;\n",
              "      padding: 0 0 0 0;\n",
              "      width: 32px;\n",
              "    }\n",
              "\n",
              "    .colab-df-convert:hover {\n",
              "      background-color: #E2EBFA;\n",
              "      box-shadow: 0px 1px 2px rgba(60, 64, 67, 0.3), 0px 1px 3px 1px rgba(60, 64, 67, 0.15);\n",
              "      fill: #174EA6;\n",
              "    }\n",
              "\n",
              "    [theme=dark] .colab-df-convert {\n",
              "      background-color: #3B4455;\n",
              "      fill: #D2E3FC;\n",
              "    }\n",
              "\n",
              "    [theme=dark] .colab-df-convert:hover {\n",
              "      background-color: #434B5C;\n",
              "      box-shadow: 0px 1px 3px 1px rgba(0, 0, 0, 0.15);\n",
              "      filter: drop-shadow(0px 1px 2px rgba(0, 0, 0, 0.3));\n",
              "      fill: #FFFFFF;\n",
              "    }\n",
              "  </style>\n",
              "\n",
              "      <script>\n",
              "        const buttonEl =\n",
              "          document.querySelector('#df-16b5d147-e5c8-4cb9-893e-08364f1da3b0 button.colab-df-convert');\n",
              "        buttonEl.style.display =\n",
              "          google.colab.kernel.accessAllowed ? 'block' : 'none';\n",
              "\n",
              "        async function convertToInteractive(key) {\n",
              "          const element = document.querySelector('#df-16b5d147-e5c8-4cb9-893e-08364f1da3b0');\n",
              "          const dataTable =\n",
              "            await google.colab.kernel.invokeFunction('convertToInteractive',\n",
              "                                                     [key], {});\n",
              "          if (!dataTable) return;\n",
              "\n",
              "          const docLinkHtml = 'Like what you see? Visit the ' +\n",
              "            '<a target=\"_blank\" href=https://colab.research.google.com/notebooks/data_table.ipynb>data table notebook</a>'\n",
              "            + ' to learn more about interactive tables.';\n",
              "          element.innerHTML = '';\n",
              "          dataTable['output_type'] = 'display_data';\n",
              "          await google.colab.output.renderOutput(dataTable, element);\n",
              "          const docLink = document.createElement('div');\n",
              "          docLink.innerHTML = docLinkHtml;\n",
              "          element.appendChild(docLink);\n",
              "        }\n",
              "      </script>\n",
              "    </div>\n",
              "  </div>\n",
              "  "
            ]
          },
          "metadata": {},
          "execution_count": 24
        }
      ]
    },
    {
      "cell_type": "markdown",
      "source": [
        "We create a copy of the original data and we start replacing ASIN's from the competition with our ASIN's. This is done for merging purposes. We also start renaming columns for better understanding of the data. We create different dataframes for each group of ASIN replacement. A Date split was done for day, month and year."
      ],
      "metadata": {
        "id": "mM2WFPQ-orL2"
      }
    },
    {
      "cell_type": "code",
      "source": [
        "competition2 = competition.copy()\n",
        "competition3 = competition.copy()\n",
        "competition4 = competition.copy()"
      ],
      "metadata": {
        "id": "SlqXK6POa50k"
      },
      "execution_count": 25,
      "outputs": []
    },
    {
      "cell_type": "code",
      "source": [
        "competition2['ASIN'] = competition2['ASIN'].replace(['B08ZY7FSSX','B08ZXY3BY9','B091T5RVST'],['B00FYU5QRI', 'B01MT5PO4E', 'B00FXVXRRY'])\n",
        "competition3['ASIN'] = competition3['ASIN'].replace(['B08ZY7FSSX','B091T5RVST'],['B00FWSK1UE', 'B006B8JO98'])\n",
        "competition4['ASIN'] = competition4['ASIN'].replace(['B091T5RVST'],'B09TBF4YBR')"
      ],
      "metadata": {
        "id": "cnhcjEzLZFvp"
      },
      "execution_count": 26,
      "outputs": []
    },
    {
      "cell_type": "code",
      "source": [
        "competition_price = competition2.loc[competition['stat'] == 'newprice']\n",
        "competition_price2 = competition3.loc[competition['stat'] == 'newprice']\n",
        "competition_price3 = competition4.loc[competition['stat'] == 'newprice']\n",
        "competition_price = competition_price[['ASIN', 'value', 'day', 'month', 'year']]\n",
        "competition_price2 = competition_price2[['ASIN', 'value', 'day', 'month', 'year']]\n",
        "competition_price3 = competition_price3[['ASIN', 'value', 'day', 'month', 'year']]\n",
        "competition_rating = competition2.loc[competition['stat'] == 'rating']\n",
        "competition_rating2 = competition3.loc[competition['stat'] == 'rating']\n",
        "competition_rating3 = competition4.loc[competition['stat'] == 'rating']\n",
        "competition_rating = competition_rating[['ASIN', 'value', 'day', 'month', 'year']]\n",
        "competition_rating2 = competition_rating2[['ASIN', 'value', 'day', 'month', 'year']]\n",
        "competition_rating3 = competition_rating3[['ASIN', 'value', 'day', 'month', 'year']]"
      ],
      "metadata": {
        "id": "dbqxlK7Vf5au"
      },
      "execution_count": 27,
      "outputs": []
    },
    {
      "cell_type": "code",
      "source": [
        "competition_rating = competition_rating.reset_index()\n",
        "competition_rating2 = competition_rating2.reset_index()\n",
        "competition_rating3 = competition_rating3.reset_index()\n",
        "competition_price = competition_price.reset_index()\n",
        "competition_price2 = competition_price2.reset_index()\n",
        "competition_price3 = competition_price3.reset_index()\n",
        "competition_rating = competition_rating.drop(columns = 'index')\n",
        "competition_rating2 = competition_rating2.drop(columns = 'index')\n",
        "competition_rating3 = competition_rating3.drop(columns = 'index')\n",
        "competition_price = competition_price.drop(columns = 'index')\n",
        "competition_price2 = competition_price2.drop(columns = 'index')\n",
        "competition_price3 = competition_price3.drop(columns = 'index')"
      ],
      "metadata": {
        "id": "qtvW_GErhO0h"
      },
      "execution_count": 28,
      "outputs": []
    },
    {
      "cell_type": "code",
      "source": [
        "competition_rating = competition_rating.rename(columns = {'value': 'competition_rating'})\n",
        "competition_rating2 = competition_rating2.rename(columns = {'value': 'competition_rating'})\n",
        "competition_rating3 = competition_rating3.rename(columns = {'value': 'competition_rating'})\n",
        "competition_price = competition_price.rename(columns = {'value': 'competition_price'})\n",
        "competition_price2 = competition_price2.rename(columns = {'value': 'competition_price'})\n",
        "competition_price3 = competition_price3.rename(columns = {'value': 'competition_price'})\n",
        "competition_rating.head()"
      ],
      "metadata": {
        "colab": {
          "base_uri": "https://localhost:8080/",
          "height": 206
        },
        "id": "iBtlYnihjKfX",
        "outputId": "f4a1175c-b24e-43ae-ac44-10d6fbb823e2"
      },
      "execution_count": 29,
      "outputs": [
        {
          "output_type": "execute_result",
          "data": {
            "text/plain": [
              "         ASIN  competition_rating  day  month  year\n",
              "0  B00FYU5QRI                 4.3   28      6  2022\n",
              "1  B00FYU5QRI                 4.2   27      6  2022\n",
              "2  B00FYU5QRI                 4.3   21      5  2022\n",
              "3  B00FYU5QRI                 4.2   18      5  2022\n",
              "4  B00FYU5QRI                 4.3   30      4  2022"
            ],
            "text/html": [
              "\n",
              "  <div id=\"df-d22366e5-4f3e-4241-9dd0-8aa6edefa25b\">\n",
              "    <div class=\"colab-df-container\">\n",
              "      <div>\n",
              "<style scoped>\n",
              "    .dataframe tbody tr th:only-of-type {\n",
              "        vertical-align: middle;\n",
              "    }\n",
              "\n",
              "    .dataframe tbody tr th {\n",
              "        vertical-align: top;\n",
              "    }\n",
              "\n",
              "    .dataframe thead th {\n",
              "        text-align: right;\n",
              "    }\n",
              "</style>\n",
              "<table border=\"1\" class=\"dataframe\">\n",
              "  <thead>\n",
              "    <tr style=\"text-align: right;\">\n",
              "      <th></th>\n",
              "      <th>ASIN</th>\n",
              "      <th>competition_rating</th>\n",
              "      <th>day</th>\n",
              "      <th>month</th>\n",
              "      <th>year</th>\n",
              "    </tr>\n",
              "  </thead>\n",
              "  <tbody>\n",
              "    <tr>\n",
              "      <th>0</th>\n",
              "      <td>B00FYU5QRI</td>\n",
              "      <td>4.3</td>\n",
              "      <td>28</td>\n",
              "      <td>6</td>\n",
              "      <td>2022</td>\n",
              "    </tr>\n",
              "    <tr>\n",
              "      <th>1</th>\n",
              "      <td>B00FYU5QRI</td>\n",
              "      <td>4.2</td>\n",
              "      <td>27</td>\n",
              "      <td>6</td>\n",
              "      <td>2022</td>\n",
              "    </tr>\n",
              "    <tr>\n",
              "      <th>2</th>\n",
              "      <td>B00FYU5QRI</td>\n",
              "      <td>4.3</td>\n",
              "      <td>21</td>\n",
              "      <td>5</td>\n",
              "      <td>2022</td>\n",
              "    </tr>\n",
              "    <tr>\n",
              "      <th>3</th>\n",
              "      <td>B00FYU5QRI</td>\n",
              "      <td>4.2</td>\n",
              "      <td>18</td>\n",
              "      <td>5</td>\n",
              "      <td>2022</td>\n",
              "    </tr>\n",
              "    <tr>\n",
              "      <th>4</th>\n",
              "      <td>B00FYU5QRI</td>\n",
              "      <td>4.3</td>\n",
              "      <td>30</td>\n",
              "      <td>4</td>\n",
              "      <td>2022</td>\n",
              "    </tr>\n",
              "  </tbody>\n",
              "</table>\n",
              "</div>\n",
              "      <button class=\"colab-df-convert\" onclick=\"convertToInteractive('df-d22366e5-4f3e-4241-9dd0-8aa6edefa25b')\"\n",
              "              title=\"Convert this dataframe to an interactive table.\"\n",
              "              style=\"display:none;\">\n",
              "        \n",
              "  <svg xmlns=\"http://www.w3.org/2000/svg\" height=\"24px\"viewBox=\"0 0 24 24\"\n",
              "       width=\"24px\">\n",
              "    <path d=\"M0 0h24v24H0V0z\" fill=\"none\"/>\n",
              "    <path d=\"M18.56 5.44l.94 2.06.94-2.06 2.06-.94-2.06-.94-.94-2.06-.94 2.06-2.06.94zm-11 1L8.5 8.5l.94-2.06 2.06-.94-2.06-.94L8.5 2.5l-.94 2.06-2.06.94zm10 10l.94 2.06.94-2.06 2.06-.94-2.06-.94-.94-2.06-.94 2.06-2.06.94z\"/><path d=\"M17.41 7.96l-1.37-1.37c-.4-.4-.92-.59-1.43-.59-.52 0-1.04.2-1.43.59L10.3 9.45l-7.72 7.72c-.78.78-.78 2.05 0 2.83L4 21.41c.39.39.9.59 1.41.59.51 0 1.02-.2 1.41-.59l7.78-7.78 2.81-2.81c.8-.78.8-2.07 0-2.86zM5.41 20L4 18.59l7.72-7.72 1.47 1.35L5.41 20z\"/>\n",
              "  </svg>\n",
              "      </button>\n",
              "      \n",
              "  <style>\n",
              "    .colab-df-container {\n",
              "      display:flex;\n",
              "      flex-wrap:wrap;\n",
              "      gap: 12px;\n",
              "    }\n",
              "\n",
              "    .colab-df-convert {\n",
              "      background-color: #E8F0FE;\n",
              "      border: none;\n",
              "      border-radius: 50%;\n",
              "      cursor: pointer;\n",
              "      display: none;\n",
              "      fill: #1967D2;\n",
              "      height: 32px;\n",
              "      padding: 0 0 0 0;\n",
              "      width: 32px;\n",
              "    }\n",
              "\n",
              "    .colab-df-convert:hover {\n",
              "      background-color: #E2EBFA;\n",
              "      box-shadow: 0px 1px 2px rgba(60, 64, 67, 0.3), 0px 1px 3px 1px rgba(60, 64, 67, 0.15);\n",
              "      fill: #174EA6;\n",
              "    }\n",
              "\n",
              "    [theme=dark] .colab-df-convert {\n",
              "      background-color: #3B4455;\n",
              "      fill: #D2E3FC;\n",
              "    }\n",
              "\n",
              "    [theme=dark] .colab-df-convert:hover {\n",
              "      background-color: #434B5C;\n",
              "      box-shadow: 0px 1px 3px 1px rgba(0, 0, 0, 0.15);\n",
              "      filter: drop-shadow(0px 1px 2px rgba(0, 0, 0, 0.3));\n",
              "      fill: #FFFFFF;\n",
              "    }\n",
              "  </style>\n",
              "\n",
              "      <script>\n",
              "        const buttonEl =\n",
              "          document.querySelector('#df-d22366e5-4f3e-4241-9dd0-8aa6edefa25b button.colab-df-convert');\n",
              "        buttonEl.style.display =\n",
              "          google.colab.kernel.accessAllowed ? 'block' : 'none';\n",
              "\n",
              "        async function convertToInteractive(key) {\n",
              "          const element = document.querySelector('#df-d22366e5-4f3e-4241-9dd0-8aa6edefa25b');\n",
              "          const dataTable =\n",
              "            await google.colab.kernel.invokeFunction('convertToInteractive',\n",
              "                                                     [key], {});\n",
              "          if (!dataTable) return;\n",
              "\n",
              "          const docLinkHtml = 'Like what you see? Visit the ' +\n",
              "            '<a target=\"_blank\" href=https://colab.research.google.com/notebooks/data_table.ipynb>data table notebook</a>'\n",
              "            + ' to learn more about interactive tables.';\n",
              "          element.innerHTML = '';\n",
              "          dataTable['output_type'] = 'display_data';\n",
              "          await google.colab.output.renderOutput(dataTable, element);\n",
              "          const docLink = document.createElement('div');\n",
              "          docLink.innerHTML = docLinkHtml;\n",
              "          element.appendChild(docLink);\n",
              "        }\n",
              "      </script>\n",
              "    </div>\n",
              "  </div>\n",
              "  "
            ]
          },
          "metadata": {},
          "execution_count": 29
        }
      ]
    },
    {
      "cell_type": "code",
      "source": [
        "competition_price.head()"
      ],
      "metadata": {
        "colab": {
          "base_uri": "https://localhost:8080/",
          "height": 206
        },
        "id": "sUOMvia54tdH",
        "outputId": "24e00cfc-1523-41d3-ece1-b3c47d779ae2"
      },
      "execution_count": 30,
      "outputs": [
        {
          "output_type": "execute_result",
          "data": {
            "text/plain": [
              "         ASIN  competition_price  day  month  year\n",
              "0  B00FYU5QRI              18.89   10      8  2022\n",
              "1  B00FYU5QRI              18.49    9      8  2022\n",
              "2  B00FYU5QRI              17.99    8      8  2022\n",
              "3  B00FYU5QRI              18.99    7      8  2022\n",
              "4  B00FYU5QRI              14.90    1      8  2022"
            ],
            "text/html": [
              "\n",
              "  <div id=\"df-a330d8ed-2720-4bc8-841b-fac70d025113\">\n",
              "    <div class=\"colab-df-container\">\n",
              "      <div>\n",
              "<style scoped>\n",
              "    .dataframe tbody tr th:only-of-type {\n",
              "        vertical-align: middle;\n",
              "    }\n",
              "\n",
              "    .dataframe tbody tr th {\n",
              "        vertical-align: top;\n",
              "    }\n",
              "\n",
              "    .dataframe thead th {\n",
              "        text-align: right;\n",
              "    }\n",
              "</style>\n",
              "<table border=\"1\" class=\"dataframe\">\n",
              "  <thead>\n",
              "    <tr style=\"text-align: right;\">\n",
              "      <th></th>\n",
              "      <th>ASIN</th>\n",
              "      <th>competition_price</th>\n",
              "      <th>day</th>\n",
              "      <th>month</th>\n",
              "      <th>year</th>\n",
              "    </tr>\n",
              "  </thead>\n",
              "  <tbody>\n",
              "    <tr>\n",
              "      <th>0</th>\n",
              "      <td>B00FYU5QRI</td>\n",
              "      <td>18.89</td>\n",
              "      <td>10</td>\n",
              "      <td>8</td>\n",
              "      <td>2022</td>\n",
              "    </tr>\n",
              "    <tr>\n",
              "      <th>1</th>\n",
              "      <td>B00FYU5QRI</td>\n",
              "      <td>18.49</td>\n",
              "      <td>9</td>\n",
              "      <td>8</td>\n",
              "      <td>2022</td>\n",
              "    </tr>\n",
              "    <tr>\n",
              "      <th>2</th>\n",
              "      <td>B00FYU5QRI</td>\n",
              "      <td>17.99</td>\n",
              "      <td>8</td>\n",
              "      <td>8</td>\n",
              "      <td>2022</td>\n",
              "    </tr>\n",
              "    <tr>\n",
              "      <th>3</th>\n",
              "      <td>B00FYU5QRI</td>\n",
              "      <td>18.99</td>\n",
              "      <td>7</td>\n",
              "      <td>8</td>\n",
              "      <td>2022</td>\n",
              "    </tr>\n",
              "    <tr>\n",
              "      <th>4</th>\n",
              "      <td>B00FYU5QRI</td>\n",
              "      <td>14.90</td>\n",
              "      <td>1</td>\n",
              "      <td>8</td>\n",
              "      <td>2022</td>\n",
              "    </tr>\n",
              "  </tbody>\n",
              "</table>\n",
              "</div>\n",
              "      <button class=\"colab-df-convert\" onclick=\"convertToInteractive('df-a330d8ed-2720-4bc8-841b-fac70d025113')\"\n",
              "              title=\"Convert this dataframe to an interactive table.\"\n",
              "              style=\"display:none;\">\n",
              "        \n",
              "  <svg xmlns=\"http://www.w3.org/2000/svg\" height=\"24px\"viewBox=\"0 0 24 24\"\n",
              "       width=\"24px\">\n",
              "    <path d=\"M0 0h24v24H0V0z\" fill=\"none\"/>\n",
              "    <path d=\"M18.56 5.44l.94 2.06.94-2.06 2.06-.94-2.06-.94-.94-2.06-.94 2.06-2.06.94zm-11 1L8.5 8.5l.94-2.06 2.06-.94-2.06-.94L8.5 2.5l-.94 2.06-2.06.94zm10 10l.94 2.06.94-2.06 2.06-.94-2.06-.94-.94-2.06-.94 2.06-2.06.94z\"/><path d=\"M17.41 7.96l-1.37-1.37c-.4-.4-.92-.59-1.43-.59-.52 0-1.04.2-1.43.59L10.3 9.45l-7.72 7.72c-.78.78-.78 2.05 0 2.83L4 21.41c.39.39.9.59 1.41.59.51 0 1.02-.2 1.41-.59l7.78-7.78 2.81-2.81c.8-.78.8-2.07 0-2.86zM5.41 20L4 18.59l7.72-7.72 1.47 1.35L5.41 20z\"/>\n",
              "  </svg>\n",
              "      </button>\n",
              "      \n",
              "  <style>\n",
              "    .colab-df-container {\n",
              "      display:flex;\n",
              "      flex-wrap:wrap;\n",
              "      gap: 12px;\n",
              "    }\n",
              "\n",
              "    .colab-df-convert {\n",
              "      background-color: #E8F0FE;\n",
              "      border: none;\n",
              "      border-radius: 50%;\n",
              "      cursor: pointer;\n",
              "      display: none;\n",
              "      fill: #1967D2;\n",
              "      height: 32px;\n",
              "      padding: 0 0 0 0;\n",
              "      width: 32px;\n",
              "    }\n",
              "\n",
              "    .colab-df-convert:hover {\n",
              "      background-color: #E2EBFA;\n",
              "      box-shadow: 0px 1px 2px rgba(60, 64, 67, 0.3), 0px 1px 3px 1px rgba(60, 64, 67, 0.15);\n",
              "      fill: #174EA6;\n",
              "    }\n",
              "\n",
              "    [theme=dark] .colab-df-convert {\n",
              "      background-color: #3B4455;\n",
              "      fill: #D2E3FC;\n",
              "    }\n",
              "\n",
              "    [theme=dark] .colab-df-convert:hover {\n",
              "      background-color: #434B5C;\n",
              "      box-shadow: 0px 1px 3px 1px rgba(0, 0, 0, 0.15);\n",
              "      filter: drop-shadow(0px 1px 2px rgba(0, 0, 0, 0.3));\n",
              "      fill: #FFFFFF;\n",
              "    }\n",
              "  </style>\n",
              "\n",
              "      <script>\n",
              "        const buttonEl =\n",
              "          document.querySelector('#df-a330d8ed-2720-4bc8-841b-fac70d025113 button.colab-df-convert');\n",
              "        buttonEl.style.display =\n",
              "          google.colab.kernel.accessAllowed ? 'block' : 'none';\n",
              "\n",
              "        async function convertToInteractive(key) {\n",
              "          const element = document.querySelector('#df-a330d8ed-2720-4bc8-841b-fac70d025113');\n",
              "          const dataTable =\n",
              "            await google.colab.kernel.invokeFunction('convertToInteractive',\n",
              "                                                     [key], {});\n",
              "          if (!dataTable) return;\n",
              "\n",
              "          const docLinkHtml = 'Like what you see? Visit the ' +\n",
              "            '<a target=\"_blank\" href=https://colab.research.google.com/notebooks/data_table.ipynb>data table notebook</a>'\n",
              "            + ' to learn more about interactive tables.';\n",
              "          element.innerHTML = '';\n",
              "          dataTable['output_type'] = 'display_data';\n",
              "          await google.colab.output.renderOutput(dataTable, element);\n",
              "          const docLink = document.createElement('div');\n",
              "          docLink.innerHTML = docLinkHtml;\n",
              "          element.appendChild(docLink);\n",
              "        }\n",
              "      </script>\n",
              "    </div>\n",
              "  </div>\n",
              "  "
            ]
          },
          "metadata": {},
          "execution_count": 30
        }
      ]
    },
    {
      "cell_type": "code",
      "source": [
        "competition_rating.shape"
      ],
      "metadata": {
        "colab": {
          "base_uri": "https://localhost:8080/"
        },
        "id": "aDasv__lg2VS",
        "outputId": "dcf14ec0-cf55-4e4e-ef48-ad2d989014b6"
      },
      "execution_count": 31,
      "outputs": [
        {
          "output_type": "execute_result",
          "data": {
            "text/plain": [
              "(286, 5)"
            ]
          },
          "metadata": {},
          "execution_count": 31
        }
      ]
    },
    {
      "cell_type": "markdown",
      "source": [
        "When replacing the ASIN there are going to be some duplicated values. Thats why we drop them so it doesn't affect when doing merging."
      ],
      "metadata": {
        "id": "2WCyIfjSpqEf"
      }
    },
    {
      "cell_type": "code",
      "source": [
        "competition_rating = competition_rating.drop_duplicates(subset=['ASIN', 'day', 'month',  'year'])\n",
        "competition_rating2 = competition_rating2.drop_duplicates(subset=['ASIN', 'day', 'month',  'year'])\n",
        "competition_rating3 = competition_rating3.drop_duplicates(subset=['ASIN', 'day', 'month',  'year'])\n",
        "competition_price = competition_price.drop_duplicates(subset=['ASIN', 'day', 'month',  'year'])\n",
        "competition_price2 = competition_price2.drop_duplicates(subset=['ASIN', 'day', 'month',  'year'])\n",
        "competition_price3 = competition_price3.drop_duplicates(subset=['ASIN', 'day', 'month',  'year'])"
      ],
      "metadata": {
        "id": "qesxD3cbfH6Z"
      },
      "execution_count": 32,
      "outputs": []
    },
    {
      "cell_type": "markdown",
      "source": [
        "We concat \"join\" the different dataframes created for ASIN replacement to make merging easier. This will make one dataframe for ratings and another dataframe for prices."
      ],
      "metadata": {
        "id": "qKWiEwuLp6vG"
      }
    },
    {
      "cell_type": "code",
      "source": [
        "competition_rating = pd.concat([competition_rating, competition_rating2, competition_rating3], ignore_index=True)\n",
        "#competition_rating = competition_rating.drop_duplicates(subset=['ASIN', 'day', 'month',  'year'])\n",
        "competition_price = pd.concat([competition_price, competition_price2, competition_price3], ignore_index=True)\n",
        "#competition_price = competition_price.drop_duplicates(subset=['ASIN', 'day', 'month',  'year'])"
      ],
      "metadata": {
        "id": "MFhCwrGDo5XI"
      },
      "execution_count": 33,
      "outputs": []
    },
    {
      "cell_type": "code",
      "source": [
        "competition_price"
      ],
      "metadata": {
        "colab": {
          "base_uri": "https://localhost:8080/",
          "height": 424
        },
        "id": "ZxnwjuaQ45PD",
        "outputId": "75128885-ba2d-4827-8d29-81de98f5564d"
      },
      "execution_count": 34,
      "outputs": [
        {
          "output_type": "execute_result",
          "data": {
            "text/plain": [
              "            ASIN  competition_price  day  month  year\n",
              "0     B00FYU5QRI              18.89   10      8  2022\n",
              "1     B00FYU5QRI              18.49    9      8  2022\n",
              "2     B00FYU5QRI              17.99    8      8  2022\n",
              "3     B00FYU5QRI              18.99    7      8  2022\n",
              "4     B00FYU5QRI              14.90    1      8  2022\n",
              "...          ...                ...  ...    ...   ...\n",
              "1057  B09TBF4YBR              27.19   23      7  2021\n",
              "1058  B09TBF4YBR              -1.00   16      7  2021\n",
              "1059  B09TBF4YBR              31.99    5      7  2021\n",
              "1060  B09TBF4YBR              27.19   28      6  2021\n",
              "1061  B09TBF4YBR              31.99   10      4  2021\n",
              "\n",
              "[1062 rows x 5 columns]"
            ],
            "text/html": [
              "\n",
              "  <div id=\"df-237708a8-70a7-4529-bbdc-8577c3e3b83c\">\n",
              "    <div class=\"colab-df-container\">\n",
              "      <div>\n",
              "<style scoped>\n",
              "    .dataframe tbody tr th:only-of-type {\n",
              "        vertical-align: middle;\n",
              "    }\n",
              "\n",
              "    .dataframe tbody tr th {\n",
              "        vertical-align: top;\n",
              "    }\n",
              "\n",
              "    .dataframe thead th {\n",
              "        text-align: right;\n",
              "    }\n",
              "</style>\n",
              "<table border=\"1\" class=\"dataframe\">\n",
              "  <thead>\n",
              "    <tr style=\"text-align: right;\">\n",
              "      <th></th>\n",
              "      <th>ASIN</th>\n",
              "      <th>competition_price</th>\n",
              "      <th>day</th>\n",
              "      <th>month</th>\n",
              "      <th>year</th>\n",
              "    </tr>\n",
              "  </thead>\n",
              "  <tbody>\n",
              "    <tr>\n",
              "      <th>0</th>\n",
              "      <td>B00FYU5QRI</td>\n",
              "      <td>18.89</td>\n",
              "      <td>10</td>\n",
              "      <td>8</td>\n",
              "      <td>2022</td>\n",
              "    </tr>\n",
              "    <tr>\n",
              "      <th>1</th>\n",
              "      <td>B00FYU5QRI</td>\n",
              "      <td>18.49</td>\n",
              "      <td>9</td>\n",
              "      <td>8</td>\n",
              "      <td>2022</td>\n",
              "    </tr>\n",
              "    <tr>\n",
              "      <th>2</th>\n",
              "      <td>B00FYU5QRI</td>\n",
              "      <td>17.99</td>\n",
              "      <td>8</td>\n",
              "      <td>8</td>\n",
              "      <td>2022</td>\n",
              "    </tr>\n",
              "    <tr>\n",
              "      <th>3</th>\n",
              "      <td>B00FYU5QRI</td>\n",
              "      <td>18.99</td>\n",
              "      <td>7</td>\n",
              "      <td>8</td>\n",
              "      <td>2022</td>\n",
              "    </tr>\n",
              "    <tr>\n",
              "      <th>4</th>\n",
              "      <td>B00FYU5QRI</td>\n",
              "      <td>14.90</td>\n",
              "      <td>1</td>\n",
              "      <td>8</td>\n",
              "      <td>2022</td>\n",
              "    </tr>\n",
              "    <tr>\n",
              "      <th>...</th>\n",
              "      <td>...</td>\n",
              "      <td>...</td>\n",
              "      <td>...</td>\n",
              "      <td>...</td>\n",
              "      <td>...</td>\n",
              "    </tr>\n",
              "    <tr>\n",
              "      <th>1057</th>\n",
              "      <td>B09TBF4YBR</td>\n",
              "      <td>27.19</td>\n",
              "      <td>23</td>\n",
              "      <td>7</td>\n",
              "      <td>2021</td>\n",
              "    </tr>\n",
              "    <tr>\n",
              "      <th>1058</th>\n",
              "      <td>B09TBF4YBR</td>\n",
              "      <td>-1.00</td>\n",
              "      <td>16</td>\n",
              "      <td>7</td>\n",
              "      <td>2021</td>\n",
              "    </tr>\n",
              "    <tr>\n",
              "      <th>1059</th>\n",
              "      <td>B09TBF4YBR</td>\n",
              "      <td>31.99</td>\n",
              "      <td>5</td>\n",
              "      <td>7</td>\n",
              "      <td>2021</td>\n",
              "    </tr>\n",
              "    <tr>\n",
              "      <th>1060</th>\n",
              "      <td>B09TBF4YBR</td>\n",
              "      <td>27.19</td>\n",
              "      <td>28</td>\n",
              "      <td>6</td>\n",
              "      <td>2021</td>\n",
              "    </tr>\n",
              "    <tr>\n",
              "      <th>1061</th>\n",
              "      <td>B09TBF4YBR</td>\n",
              "      <td>31.99</td>\n",
              "      <td>10</td>\n",
              "      <td>4</td>\n",
              "      <td>2021</td>\n",
              "    </tr>\n",
              "  </tbody>\n",
              "</table>\n",
              "<p>1062 rows × 5 columns</p>\n",
              "</div>\n",
              "      <button class=\"colab-df-convert\" onclick=\"convertToInteractive('df-237708a8-70a7-4529-bbdc-8577c3e3b83c')\"\n",
              "              title=\"Convert this dataframe to an interactive table.\"\n",
              "              style=\"display:none;\">\n",
              "        \n",
              "  <svg xmlns=\"http://www.w3.org/2000/svg\" height=\"24px\"viewBox=\"0 0 24 24\"\n",
              "       width=\"24px\">\n",
              "    <path d=\"M0 0h24v24H0V0z\" fill=\"none\"/>\n",
              "    <path d=\"M18.56 5.44l.94 2.06.94-2.06 2.06-.94-2.06-.94-.94-2.06-.94 2.06-2.06.94zm-11 1L8.5 8.5l.94-2.06 2.06-.94-2.06-.94L8.5 2.5l-.94 2.06-2.06.94zm10 10l.94 2.06.94-2.06 2.06-.94-2.06-.94-.94-2.06-.94 2.06-2.06.94z\"/><path d=\"M17.41 7.96l-1.37-1.37c-.4-.4-.92-.59-1.43-.59-.52 0-1.04.2-1.43.59L10.3 9.45l-7.72 7.72c-.78.78-.78 2.05 0 2.83L4 21.41c.39.39.9.59 1.41.59.51 0 1.02-.2 1.41-.59l7.78-7.78 2.81-2.81c.8-.78.8-2.07 0-2.86zM5.41 20L4 18.59l7.72-7.72 1.47 1.35L5.41 20z\"/>\n",
              "  </svg>\n",
              "      </button>\n",
              "      \n",
              "  <style>\n",
              "    .colab-df-container {\n",
              "      display:flex;\n",
              "      flex-wrap:wrap;\n",
              "      gap: 12px;\n",
              "    }\n",
              "\n",
              "    .colab-df-convert {\n",
              "      background-color: #E8F0FE;\n",
              "      border: none;\n",
              "      border-radius: 50%;\n",
              "      cursor: pointer;\n",
              "      display: none;\n",
              "      fill: #1967D2;\n",
              "      height: 32px;\n",
              "      padding: 0 0 0 0;\n",
              "      width: 32px;\n",
              "    }\n",
              "\n",
              "    .colab-df-convert:hover {\n",
              "      background-color: #E2EBFA;\n",
              "      box-shadow: 0px 1px 2px rgba(60, 64, 67, 0.3), 0px 1px 3px 1px rgba(60, 64, 67, 0.15);\n",
              "      fill: #174EA6;\n",
              "    }\n",
              "\n",
              "    [theme=dark] .colab-df-convert {\n",
              "      background-color: #3B4455;\n",
              "      fill: #D2E3FC;\n",
              "    }\n",
              "\n",
              "    [theme=dark] .colab-df-convert:hover {\n",
              "      background-color: #434B5C;\n",
              "      box-shadow: 0px 1px 3px 1px rgba(0, 0, 0, 0.15);\n",
              "      filter: drop-shadow(0px 1px 2px rgba(0, 0, 0, 0.3));\n",
              "      fill: #FFFFFF;\n",
              "    }\n",
              "  </style>\n",
              "\n",
              "      <script>\n",
              "        const buttonEl =\n",
              "          document.querySelector('#df-237708a8-70a7-4529-bbdc-8577c3e3b83c button.colab-df-convert');\n",
              "        buttonEl.style.display =\n",
              "          google.colab.kernel.accessAllowed ? 'block' : 'none';\n",
              "\n",
              "        async function convertToInteractive(key) {\n",
              "          const element = document.querySelector('#df-237708a8-70a7-4529-bbdc-8577c3e3b83c');\n",
              "          const dataTable =\n",
              "            await google.colab.kernel.invokeFunction('convertToInteractive',\n",
              "                                                     [key], {});\n",
              "          if (!dataTable) return;\n",
              "\n",
              "          const docLinkHtml = 'Like what you see? Visit the ' +\n",
              "            '<a target=\"_blank\" href=https://colab.research.google.com/notebooks/data_table.ipynb>data table notebook</a>'\n",
              "            + ' to learn more about interactive tables.';\n",
              "          element.innerHTML = '';\n",
              "          dataTable['output_type'] = 'display_data';\n",
              "          await google.colab.output.renderOutput(dataTable, element);\n",
              "          const docLink = document.createElement('div');\n",
              "          docLink.innerHTML = docLinkHtml;\n",
              "          element.appendChild(docLink);\n",
              "        }\n",
              "      </script>\n",
              "    </div>\n",
              "  </div>\n",
              "  "
            ]
          },
          "metadata": {},
          "execution_count": 34
        }
      ]
    },
    {
      "cell_type": "markdown",
      "source": [
        "We can observe that competition prices are really high as its mean is 1036. This can bring problem when comparing to ours as ours have a mean of 157."
      ],
      "metadata": {
        "id": "LiV0oFDZqZQK"
      }
    },
    {
      "cell_type": "code",
      "source": [
        "competition_price.describe()"
      ],
      "metadata": {
        "colab": {
          "base_uri": "https://localhost:8080/",
          "height": 300
        },
        "id": "I9ctyrzB4_lP",
        "outputId": "05a7e010-e91f-43c2-f162-e495740f8d89"
      },
      "execution_count": 35,
      "outputs": [
        {
          "output_type": "execute_result",
          "data": {
            "text/plain": [
              "       competition_price          day        month         year\n",
              "count        1062.000000  1062.000000  1062.000000  1062.000000\n",
              "mean         1036.245951    15.722222     6.625235  2020.756121\n",
              "std          1502.104898     8.886501     3.284907     1.874436\n",
              "min            -1.000000     1.000000     1.000000  2013.000000\n",
              "25%            18.990000     8.000000     4.000000  2021.000000\n",
              "50%            27.990000    16.000000     7.000000  2021.000000\n",
              "75%          2527.000000    24.000000     9.000000  2022.000000\n",
              "max          6799.000000    31.000000    12.000000  2022.000000"
            ],
            "text/html": [
              "\n",
              "  <div id=\"df-2f62b16c-7f20-4b33-b7e3-cd0d55f78e6c\">\n",
              "    <div class=\"colab-df-container\">\n",
              "      <div>\n",
              "<style scoped>\n",
              "    .dataframe tbody tr th:only-of-type {\n",
              "        vertical-align: middle;\n",
              "    }\n",
              "\n",
              "    .dataframe tbody tr th {\n",
              "        vertical-align: top;\n",
              "    }\n",
              "\n",
              "    .dataframe thead th {\n",
              "        text-align: right;\n",
              "    }\n",
              "</style>\n",
              "<table border=\"1\" class=\"dataframe\">\n",
              "  <thead>\n",
              "    <tr style=\"text-align: right;\">\n",
              "      <th></th>\n",
              "      <th>competition_price</th>\n",
              "      <th>day</th>\n",
              "      <th>month</th>\n",
              "      <th>year</th>\n",
              "    </tr>\n",
              "  </thead>\n",
              "  <tbody>\n",
              "    <tr>\n",
              "      <th>count</th>\n",
              "      <td>1062.000000</td>\n",
              "      <td>1062.000000</td>\n",
              "      <td>1062.000000</td>\n",
              "      <td>1062.000000</td>\n",
              "    </tr>\n",
              "    <tr>\n",
              "      <th>mean</th>\n",
              "      <td>1036.245951</td>\n",
              "      <td>15.722222</td>\n",
              "      <td>6.625235</td>\n",
              "      <td>2020.756121</td>\n",
              "    </tr>\n",
              "    <tr>\n",
              "      <th>std</th>\n",
              "      <td>1502.104898</td>\n",
              "      <td>8.886501</td>\n",
              "      <td>3.284907</td>\n",
              "      <td>1.874436</td>\n",
              "    </tr>\n",
              "    <tr>\n",
              "      <th>min</th>\n",
              "      <td>-1.000000</td>\n",
              "      <td>1.000000</td>\n",
              "      <td>1.000000</td>\n",
              "      <td>2013.000000</td>\n",
              "    </tr>\n",
              "    <tr>\n",
              "      <th>25%</th>\n",
              "      <td>18.990000</td>\n",
              "      <td>8.000000</td>\n",
              "      <td>4.000000</td>\n",
              "      <td>2021.000000</td>\n",
              "    </tr>\n",
              "    <tr>\n",
              "      <th>50%</th>\n",
              "      <td>27.990000</td>\n",
              "      <td>16.000000</td>\n",
              "      <td>7.000000</td>\n",
              "      <td>2021.000000</td>\n",
              "    </tr>\n",
              "    <tr>\n",
              "      <th>75%</th>\n",
              "      <td>2527.000000</td>\n",
              "      <td>24.000000</td>\n",
              "      <td>9.000000</td>\n",
              "      <td>2022.000000</td>\n",
              "    </tr>\n",
              "    <tr>\n",
              "      <th>max</th>\n",
              "      <td>6799.000000</td>\n",
              "      <td>31.000000</td>\n",
              "      <td>12.000000</td>\n",
              "      <td>2022.000000</td>\n",
              "    </tr>\n",
              "  </tbody>\n",
              "</table>\n",
              "</div>\n",
              "      <button class=\"colab-df-convert\" onclick=\"convertToInteractive('df-2f62b16c-7f20-4b33-b7e3-cd0d55f78e6c')\"\n",
              "              title=\"Convert this dataframe to an interactive table.\"\n",
              "              style=\"display:none;\">\n",
              "        \n",
              "  <svg xmlns=\"http://www.w3.org/2000/svg\" height=\"24px\"viewBox=\"0 0 24 24\"\n",
              "       width=\"24px\">\n",
              "    <path d=\"M0 0h24v24H0V0z\" fill=\"none\"/>\n",
              "    <path d=\"M18.56 5.44l.94 2.06.94-2.06 2.06-.94-2.06-.94-.94-2.06-.94 2.06-2.06.94zm-11 1L8.5 8.5l.94-2.06 2.06-.94-2.06-.94L8.5 2.5l-.94 2.06-2.06.94zm10 10l.94 2.06.94-2.06 2.06-.94-2.06-.94-.94-2.06-.94 2.06-2.06.94z\"/><path d=\"M17.41 7.96l-1.37-1.37c-.4-.4-.92-.59-1.43-.59-.52 0-1.04.2-1.43.59L10.3 9.45l-7.72 7.72c-.78.78-.78 2.05 0 2.83L4 21.41c.39.39.9.59 1.41.59.51 0 1.02-.2 1.41-.59l7.78-7.78 2.81-2.81c.8-.78.8-2.07 0-2.86zM5.41 20L4 18.59l7.72-7.72 1.47 1.35L5.41 20z\"/>\n",
              "  </svg>\n",
              "      </button>\n",
              "      \n",
              "  <style>\n",
              "    .colab-df-container {\n",
              "      display:flex;\n",
              "      flex-wrap:wrap;\n",
              "      gap: 12px;\n",
              "    }\n",
              "\n",
              "    .colab-df-convert {\n",
              "      background-color: #E8F0FE;\n",
              "      border: none;\n",
              "      border-radius: 50%;\n",
              "      cursor: pointer;\n",
              "      display: none;\n",
              "      fill: #1967D2;\n",
              "      height: 32px;\n",
              "      padding: 0 0 0 0;\n",
              "      width: 32px;\n",
              "    }\n",
              "\n",
              "    .colab-df-convert:hover {\n",
              "      background-color: #E2EBFA;\n",
              "      box-shadow: 0px 1px 2px rgba(60, 64, 67, 0.3), 0px 1px 3px 1px rgba(60, 64, 67, 0.15);\n",
              "      fill: #174EA6;\n",
              "    }\n",
              "\n",
              "    [theme=dark] .colab-df-convert {\n",
              "      background-color: #3B4455;\n",
              "      fill: #D2E3FC;\n",
              "    }\n",
              "\n",
              "    [theme=dark] .colab-df-convert:hover {\n",
              "      background-color: #434B5C;\n",
              "      box-shadow: 0px 1px 3px 1px rgba(0, 0, 0, 0.15);\n",
              "      filter: drop-shadow(0px 1px 2px rgba(0, 0, 0, 0.3));\n",
              "      fill: #FFFFFF;\n",
              "    }\n",
              "  </style>\n",
              "\n",
              "      <script>\n",
              "        const buttonEl =\n",
              "          document.querySelector('#df-2f62b16c-7f20-4b33-b7e3-cd0d55f78e6c button.colab-df-convert');\n",
              "        buttonEl.style.display =\n",
              "          google.colab.kernel.accessAllowed ? 'block' : 'none';\n",
              "\n",
              "        async function convertToInteractive(key) {\n",
              "          const element = document.querySelector('#df-2f62b16c-7f20-4b33-b7e3-cd0d55f78e6c');\n",
              "          const dataTable =\n",
              "            await google.colab.kernel.invokeFunction('convertToInteractive',\n",
              "                                                     [key], {});\n",
              "          if (!dataTable) return;\n",
              "\n",
              "          const docLinkHtml = 'Like what you see? Visit the ' +\n",
              "            '<a target=\"_blank\" href=https://colab.research.google.com/notebooks/data_table.ipynb>data table notebook</a>'\n",
              "            + ' to learn more about interactive tables.';\n",
              "          element.innerHTML = '';\n",
              "          dataTable['output_type'] = 'display_data';\n",
              "          await google.colab.output.renderOutput(dataTable, element);\n",
              "          const docLink = document.createElement('div');\n",
              "          docLink.innerHTML = docLinkHtml;\n",
              "          element.appendChild(docLink);\n",
              "        }\n",
              "      </script>\n",
              "    </div>\n",
              "  </div>\n",
              "  "
            ]
          },
          "metadata": {},
          "execution_count": 35
        }
      ]
    },
    {
      "cell_type": "code",
      "source": [
        "plt.figure(figsize=(9,6))\n",
        "\n",
        "sns.lineplot(data=competition_price, x=\"year\", y=\"competition_price\")"
      ],
      "metadata": {
        "colab": {
          "base_uri": "https://localhost:8080/",
          "height": 405
        },
        "id": "onD1-M1M54No",
        "outputId": "1c8a9b12-4dd2-4678-d296-a03174a9fbe5"
      },
      "execution_count": 36,
      "outputs": [
        {
          "output_type": "execute_result",
          "data": {
            "text/plain": [
              "<matplotlib.axes._subplots.AxesSubplot at 0x7f97bd0bdc50>"
            ]
          },
          "metadata": {},
          "execution_count": 36
        },
        {
          "output_type": "display_data",
          "data": {
            "text/plain": [
              "<Figure size 648x432 with 1 Axes>"
            ],
            "image/png": "[encoded data removed]"
          },
          "metadata": {
            "needs_background": "light"
          }
        }
      ]
    },
    {
      "cell_type": "code",
      "source": [
        "#competition_price = competition_price.loc[competition_price['year']>=2022]\n",
        "#competition_rating = competition_rating.loc[competition_rating['year']>=20]"
      ],
      "metadata": {
        "id": "SsHcRd312vwM"
      },
      "execution_count": 37,
      "outputs": []
    },
    {
      "cell_type": "markdown",
      "source": [
        "To merge it was decided to do a group by ASIN and month to prevent big amount of null values when merging with our data. Even though ratings are not going to be precise they will give an estimate which can provide similar impact."
      ],
      "metadata": {
        "id": "fDHsW3hBq1o_"
      }
    },
    {
      "cell_type": "code",
      "source": [
        "competition_rating = competition_rating.groupby(by = ['ASIN', 'month']).mean().reset_index()\n",
        "#competition_price = competition_price.groupby(by = ['ASIN', 'year']).mean().reset_index()"
      ],
      "metadata": {
        "id": "ozCLR2ixtZuA"
      },
      "execution_count": 38,
      "outputs": []
    },
    {
      "cell_type": "code",
      "source": [
        "competition_rating = competition_rating.drop(columns = ['day', 'year'])\n",
        "#competition_price = competition_price.drop(columns = ['day', 'month'])"
      ],
      "metadata": {
        "id": "geXGOnIVudaD"
      },
      "execution_count": 39,
      "outputs": []
    },
    {
      "cell_type": "markdown",
      "source": [
        "Here we can observe that competition ratings are not in the range of 0-5. This should be fixed. However, by doing standarization it might fix the problem as data is scaled. But is better to have them with the proper rating scale of 0-5."
      ],
      "metadata": {
        "id": "oHv1cx_3ramM"
      }
    },
    {
      "cell_type": "code",
      "source": [
        "competition_rating"
      ],
      "metadata": {
        "colab": {
          "base_uri": "https://localhost:8080/",
          "height": 424
        },
        "id": "zQpQ81x-vHn7",
        "outputId": "b7842cf7-ebe9-44c1-fe81-d893baca15e7"
      },
      "execution_count": 40,
      "outputs": [
        {
          "output_type": "execute_result",
          "data": {
            "text/plain": [
              "          ASIN  month  competition_rating\n",
              "0   B006B8JO98      1           18.700000\n",
              "1   B006B8JO98      2            4.250000\n",
              "2   B006B8JO98      3           16.480000\n",
              "3   B006B8JO98      4           18.500000\n",
              "4   B006B8JO98      5           14.825000\n",
              "..         ...    ...                 ...\n",
              "86  B09TBF4YBR      8            4.400000\n",
              "87  B09TBF4YBR      9            4.433333\n",
              "88  B09TBF4YBR     10            4.340000\n",
              "89  B09TBF4YBR     11            4.350000\n",
              "90  B09TBF4YBR     12            4.250000\n",
              "\n",
              "[91 rows x 3 columns]"
            ],
            "text/html": [
              "\n",
              "  <div id=\"df-53f5ec88-c709-4efe-85f2-d5dc5217eaee\">\n",
              "    <div class=\"colab-df-container\">\n",
              "      <div>\n",
              "<style scoped>\n",
              "    .dataframe tbody tr th:only-of-type {\n",
              "        vertical-align: middle;\n",
              "    }\n",
              "\n",
              "    .dataframe tbody tr th {\n",
              "        vertical-align: top;\n",
              "    }\n",
              "\n",
              "    .dataframe thead th {\n",
              "        text-align: right;\n",
              "    }\n",
              "</style>\n",
              "<table border=\"1\" class=\"dataframe\">\n",
              "  <thead>\n",
              "    <tr style=\"text-align: right;\">\n",
              "      <th></th>\n",
              "      <th>ASIN</th>\n",
              "      <th>month</th>\n",
              "      <th>competition_rating</th>\n",
              "    </tr>\n",
              "  </thead>\n",
              "  <tbody>\n",
              "    <tr>\n",
              "      <th>0</th>\n",
              "      <td>B006B8JO98</td>\n",
              "      <td>1</td>\n",
              "      <td>18.700000</td>\n",
              "    </tr>\n",
              "    <tr>\n",
              "      <th>1</th>\n",
              "      <td>B006B8JO98</td>\n",
              "      <td>2</td>\n",
              "      <td>4.250000</td>\n",
              "    </tr>\n",
              "    <tr>\n",
              "      <th>2</th>\n",
              "      <td>B006B8JO98</td>\n",
              "      <td>3</td>\n",
              "      <td>16.480000</td>\n",
              "    </tr>\n",
              "    <tr>\n",
              "      <th>3</th>\n",
              "      <td>B006B8JO98</td>\n",
              "      <td>4</td>\n",
              "      <td>18.500000</td>\n",
              "    </tr>\n",
              "    <tr>\n",
              "      <th>4</th>\n",
              "      <td>B006B8JO98</td>\n",
              "      <td>5</td>\n",
              "      <td>14.825000</td>\n",
              "    </tr>\n",
              "    <tr>\n",
              "      <th>...</th>\n",
              "      <td>...</td>\n",
              "      <td>...</td>\n",
              "      <td>...</td>\n",
              "    </tr>\n",
              "    <tr>\n",
              "      <th>86</th>\n",
              "      <td>B09TBF4YBR</td>\n",
              "      <td>8</td>\n",
              "      <td>4.400000</td>\n",
              "    </tr>\n",
              "    <tr>\n",
              "      <th>87</th>\n",
              "      <td>B09TBF4YBR</td>\n",
              "      <td>9</td>\n",
              "      <td>4.433333</td>\n",
              "    </tr>\n",
              "    <tr>\n",
              "      <th>88</th>\n",
              "      <td>B09TBF4YBR</td>\n",
              "      <td>10</td>\n",
              "      <td>4.340000</td>\n",
              "    </tr>\n",
              "    <tr>\n",
              "      <th>89</th>\n",
              "      <td>B09TBF4YBR</td>\n",
              "      <td>11</td>\n",
              "      <td>4.350000</td>\n",
              "    </tr>\n",
              "    <tr>\n",
              "      <th>90</th>\n",
              "      <td>B09TBF4YBR</td>\n",
              "      <td>12</td>\n",
              "      <td>4.250000</td>\n",
              "    </tr>\n",
              "  </tbody>\n",
              "</table>\n",
              "<p>91 rows × 3 columns</p>\n",
              "</div>\n",
              "      <button class=\"colab-df-convert\" onclick=\"convertToInteractive('df-53f5ec88-c709-4efe-85f2-d5dc5217eaee')\"\n",
              "              title=\"Convert this dataframe to an interactive table.\"\n",
              "              style=\"display:none;\">\n",
              "        \n",
              "  <svg xmlns=\"http://www.w3.org/2000/svg\" height=\"24px\"viewBox=\"0 0 24 24\"\n",
              "       width=\"24px\">\n",
              "    <path d=\"M0 0h24v24H0V0z\" fill=\"none\"/>\n",
              "    <path d=\"M18.56 5.44l.94 2.06.94-2.06 2.06-.94-2.06-.94-.94-2.06-.94 2.06-2.06.94zm-11 1L8.5 8.5l.94-2.06 2.06-.94-2.06-.94L8.5 2.5l-.94 2.06-2.06.94zm10 10l.94 2.06.94-2.06 2.06-.94-2.06-.94-.94-2.06-.94 2.06-2.06.94z\"/><path d=\"M17.41 7.96l-1.37-1.37c-.4-.4-.92-.59-1.43-.59-.52 0-1.04.2-1.43.59L10.3 9.45l-7.72 7.72c-.78.78-.78 2.05 0 2.83L4 21.41c.39.39.9.59 1.41.59.51 0 1.02-.2 1.41-.59l7.78-7.78 2.81-2.81c.8-.78.8-2.07 0-2.86zM5.41 20L4 18.59l7.72-7.72 1.47 1.35L5.41 20z\"/>\n",
              "  </svg>\n",
              "      </button>\n",
              "      \n",
              "  <style>\n",
              "    .colab-df-container {\n",
              "      display:flex;\n",
              "      flex-wrap:wrap;\n",
              "      gap: 12px;\n",
              "    }\n",
              "\n",
              "    .colab-df-convert {\n",
              "      background-color: #E8F0FE;\n",
              "      border: none;\n",
              "      border-radius: 50%;\n",
              "      cursor: pointer;\n",
              "      display: none;\n",
              "      fill: #1967D2;\n",
              "      height: 32px;\n",
              "      padding: 0 0 0 0;\n",
              "      width: 32px;\n",
              "    }\n",
              "\n",
              "    .colab-df-convert:hover {\n",
              "      background-color: #E2EBFA;\n",
              "      box-shadow: 0px 1px 2px rgba(60, 64, 67, 0.3), 0px 1px 3px 1px rgba(60, 64, 67, 0.15);\n",
              "      fill: #174EA6;\n",
              "    }\n",
              "\n",
              "    [theme=dark] .colab-df-convert {\n",
              "      background-color: #3B4455;\n",
              "      fill: #D2E3FC;\n",
              "    }\n",
              "\n",
              "    [theme=dark] .colab-df-convert:hover {\n",
              "      background-color: #434B5C;\n",
              "      box-shadow: 0px 1px 3px 1px rgba(0, 0, 0, 0.15);\n",
              "      filter: drop-shadow(0px 1px 2px rgba(0, 0, 0, 0.3));\n",
              "      fill: #FFFFFF;\n",
              "    }\n",
              "  </style>\n",
              "\n",
              "      <script>\n",
              "        const buttonEl =\n",
              "          document.querySelector('#df-53f5ec88-c709-4efe-85f2-d5dc5217eaee button.colab-df-convert');\n",
              "        buttonEl.style.display =\n",
              "          google.colab.kernel.accessAllowed ? 'block' : 'none';\n",
              "\n",
              "        async function convertToInteractive(key) {\n",
              "          const element = document.querySelector('#df-53f5ec88-c709-4efe-85f2-d5dc5217eaee');\n",
              "          const dataTable =\n",
              "            await google.colab.kernel.invokeFunction('convertToInteractive',\n",
              "                                                     [key], {});\n",
              "          if (!dataTable) return;\n",
              "\n",
              "          const docLinkHtml = 'Like what you see? Visit the ' +\n",
              "            '<a target=\"_blank\" href=https://colab.research.google.com/notebooks/data_table.ipynb>data table notebook</a>'\n",
              "            + ' to learn more about interactive tables.';\n",
              "          element.innerHTML = '';\n",
              "          dataTable['output_type'] = 'display_data';\n",
              "          await google.colab.output.renderOutput(dataTable, element);\n",
              "          const docLink = document.createElement('div');\n",
              "          docLink.innerHTML = docLinkHtml;\n",
              "          element.appendChild(docLink);\n",
              "        }\n",
              "      </script>\n",
              "    </div>\n",
              "  </div>\n",
              "  "
            ]
          },
          "metadata": {},
          "execution_count": 40
        }
      ]
    },
    {
      "cell_type": "markdown",
      "source": [
        "We merge competition ratings with our data by ASIN and month. Then a new column is created called competition_ratings."
      ],
      "metadata": {
        "id": "bxXEmWResHWT"
      }
    },
    {
      "cell_type": "code",
      "source": [
        "df2 = pd.merge(df2, competition_rating, how = 'left', on = ['ASIN', 'month'])\n",
        "#df2 = pd.merge(df2, competition_price, how = 'left', on = ['ASIN', 'year', 'month'])"
      ],
      "metadata": {
        "id": "beKaw5oah59W"
      },
      "execution_count": 41,
      "outputs": []
    },
    {
      "cell_type": "code",
      "source": [
        "df2"
      ],
      "metadata": {
        "colab": {
          "base_uri": "https://localhost:8080/",
          "height": 1000
        },
        "id": "kWF__CSwm_nu",
        "outputId": "55353832-5f2d-4abe-853e-99818cb40558"
      },
      "execution_count": 42,
      "outputs": [
        {
          "output_type": "execute_result",
          "data": {
            "text/plain": [
              "          Date        ASIN                 TaxCode  \\\n",
              "0   2019-01-13  B00FWSK1UE          A_GEN_STANDARD   \n",
              "1   2019-01-13  B00FYU5QRI          A_GEN_STANDARD   \n",
              "2   2019-01-13  B01N1YYIVZ          A_GEN_STANDARD   \n",
              "3   2019-01-14  B00FWSK1UE          A_GEN_STANDARD   \n",
              "4   2019-01-14  B00FYU5QRI          A_GEN_STANDARD   \n",
              "..         ...         ...                     ...   \n",
              "663 2022-07-23  B00FWSK1UE  A_HPC_SANITARYPRODUCTS   \n",
              "664 2022-07-25  B00FWSK1UE  A_HPC_SANITARYPRODUCTS   \n",
              "665 2022-07-28  B00FWSK1UE  A_HPC_SANITARYPRODUCTS   \n",
              "666 2022-07-29  B00FWSK1UE  A_HPC_SANITARYPRODUCTS   \n",
              "667 2022-08-01  B00FYU5QRI  A_HPC_SANITARYPRODUCTS   \n",
              "\n",
              "                                                  Name  Qty  RegularPrice  \\\n",
              "0    Codefree Kit SD - Medidor de glucosa en sangre...    2         57.84   \n",
              "1    Codefree Kit SD - Medidor de glucosa en sangre...    3         90.48   \n",
              "2    SD Codefree - Estuche que contiene Monitor de ...    6        290.04   \n",
              "3    Codefree Kit SD - Medidor de glucosa en sangre...    1         28.92   \n",
              "4    Codefree Kit SD - Medidor de glucosa en sangre...    1         30.16   \n",
              "..                                                 ...  ...           ...   \n",
              "663  Codefree Kit SD - Medidor de glucosa en sangre...    1         24.54   \n",
              "664  Codefree Kit SD - Medidor de glucosa en sangre...    1         24.54   \n",
              "665  Codefree Kit SD - Medidor de glucosa en sangre...    1         24.54   \n",
              "666  Codefree Kit SD - Medidor de glucosa en sangre...    1         24.54   \n",
              "667  Codefree Kit SD - Medidor de glucosa en sangre...    2         49.08   \n",
              "\n",
              "     Total Discount  Sale Price  Perc. Discount   Cost  day  week_of_year  \\\n",
              "0             0.000      57.840               0  23.52   13             2   \n",
              "1             0.000      90.480               0  35.28   13             2   \n",
              "2             0.000     290.040               0  46.00   13             2   \n",
              "3             0.000      28.920               0  11.76   14             3   \n",
              "4             0.000      30.160               0  11.76   14             3   \n",
              "..              ...         ...             ...    ...  ...           ...   \n",
              "663           0.000      24.540               0  11.76   23            29   \n",
              "664           0.000      24.540               0  11.76   25            30   \n",
              "665           2.454      22.086              10  11.76   28            30   \n",
              "666           0.000      24.540               0  11.76   29            30   \n",
              "667           2.454      46.626               5  23.52    1            31   \n",
              "\n",
              "     month  month_start  month_end  year  quarter     Sales    rating  \\\n",
              "0        1        False      False  2019        1   115.680  4.000000   \n",
              "1        1        False      False  2019        1   271.440  4.300000   \n",
              "2        1        False      False  2019        1  1740.240  4.600000   \n",
              "3        1        False      False  2019        1    28.920  4.000000   \n",
              "4        1        False      False  2019        1    30.160  4.300000   \n",
              "..     ...          ...        ...   ...      ...       ...       ...   \n",
              "663      7        False      False  2022        3    24.540  2.176111   \n",
              "664      7        False      False  2022        3    24.540  2.176111   \n",
              "665      7        False      False  2022        3    22.086  2.171667   \n",
              "666      7        False      False  2022        3    24.540  2.176111   \n",
              "667      8         True      False  2022        3    93.252  4.145222   \n",
              "\n",
              "     competition_rating  \n",
              "0                   NaN  \n",
              "1                   NaN  \n",
              "2                   NaN  \n",
              "3                   NaN  \n",
              "4                   NaN  \n",
              "..                  ...  \n",
              "663           11.326667  \n",
              "664           11.326667  \n",
              "665           11.326667  \n",
              "666           11.326667  \n",
              "667           15.970000  \n",
              "\n",
              "[668 rows x 20 columns]"
            ],
            "text/html": [
              "\n",
              "  <div id=\"df-8ad1b3ae-a678-4a28-9cc0-4fae1d938877\">\n",
              "    <div class=\"colab-df-container\">\n",
              "      <div>\n",
              "<style scoped>\n",
              "    .dataframe tbody tr th:only-of-type {\n",
              "        vertical-align: middle;\n",
              "    }\n",
              "\n",
              "    .dataframe tbody tr th {\n",
              "        vertical-align: top;\n",
              "    }\n",
              "\n",
              "    .dataframe thead th {\n",
              "        text-align: right;\n",
              "    }\n",
              "</style>\n",
              "<table border=\"1\" class=\"dataframe\">\n",
              "  <thead>\n",
              "    <tr style=\"text-align: right;\">\n",
              "      <th></th>\n",
              "      <th>Date</th>\n",
              "      <th>ASIN</th>\n",
              "      <th>TaxCode</th>\n",
              "      <th>Name</th>\n",
              "      <th>Qty</th>\n",
              "      <th>RegularPrice</th>\n",
              "      <th>Total Discount</th>\n",
              "      <th>Sale Price</th>\n",
              "      <th>Perc. Discount</th>\n",
              "      <th>Cost</th>\n",
              "      <th>day</th>\n",
              "      <th>week_of_year</th>\n",
              "      <th>month</th>\n",
              "      <th>month_start</th>\n",
              "      <th>month_end</th>\n",
              "      <th>year</th>\n",
              "      <th>quarter</th>\n",
              "      <th>Sales</th>\n",
              "      <th>rating</th>\n",
              "      <th>competition_rating</th>\n",
              "    </tr>\n",
              "  </thead>\n",
              "  <tbody>\n",
              "    <tr>\n",
              "      <th>0</th>\n",
              "      <td>2019-01-13</td>\n",
              "      <td>B00FWSK1UE</td>\n",
              "      <td>A_GEN_STANDARD</td>\n",
              "      <td>Codefree Kit SD - Medidor de glucosa en sangre...</td>\n",
              "      <td>2</td>\n",
              "      <td>57.84</td>\n",
              "      <td>0.000</td>\n",
              "      <td>57.840</td>\n",
              "      <td>0</td>\n",
              "      <td>23.52</td>\n",
              "      <td>13</td>\n",
              "      <td>2</td>\n",
              "      <td>1</td>\n",
              "      <td>False</td>\n",
              "      <td>False</td>\n",
              "      <td>2019</td>\n",
              "      <td>1</td>\n",
              "      <td>115.680</td>\n",
              "      <td>4.000000</td>\n",
              "      <td>NaN</td>\n",
              "    </tr>\n",
              "    <tr>\n",
              "      <th>1</th>\n",
              "      <td>2019-01-13</td>\n",
              "      <td>B00FYU5QRI</td>\n",
              "      <td>A_GEN_STANDARD</td>\n",
              "      <td>Codefree Kit SD - Medidor de glucosa en sangre...</td>\n",
              "      <td>3</td>\n",
              "      <td>90.48</td>\n",
              "      <td>0.000</td>\n",
              "      <td>90.480</td>\n",
              "      <td>0</td>\n",
              "      <td>35.28</td>\n",
              "      <td>13</td>\n",
              "      <td>2</td>\n",
              "      <td>1</td>\n",
              "      <td>False</td>\n",
              "      <td>False</td>\n",
              "      <td>2019</td>\n",
              "      <td>1</td>\n",
              "      <td>271.440</td>\n",
              "      <td>4.300000</td>\n",
              "      <td>NaN</td>\n",
              "    </tr>\n",
              "    <tr>\n",
              "      <th>2</th>\n",
              "      <td>2019-01-13</td>\n",
              "      <td>B01N1YYIVZ</td>\n",
              "      <td>A_GEN_STANDARD</td>\n",
              "      <td>SD Codefree - Estuche que contiene Monitor de ...</td>\n",
              "      <td>6</td>\n",
              "      <td>290.04</td>\n",
              "      <td>0.000</td>\n",
              "      <td>290.040</td>\n",
              "      <td>0</td>\n",
              "      <td>46.00</td>\n",
              "      <td>13</td>\n",
              "      <td>2</td>\n",
              "      <td>1</td>\n",
              "      <td>False</td>\n",
              "      <td>False</td>\n",
              "      <td>2019</td>\n",
              "      <td>1</td>\n",
              "      <td>1740.240</td>\n",
              "      <td>4.600000</td>\n",
              "      <td>NaN</td>\n",
              "    </tr>\n",
              "    <tr>\n",
              "      <th>3</th>\n",
              "      <td>2019-01-14</td>\n",
              "      <td>B00FWSK1UE</td>\n",
              "      <td>A_GEN_STANDARD</td>\n",
              "      <td>Codefree Kit SD - Medidor de glucosa en sangre...</td>\n",
              "      <td>1</td>\n",
              "      <td>28.92</td>\n",
              "      <td>0.000</td>\n",
              "      <td>28.920</td>\n",
              "      <td>0</td>\n",
              "      <td>11.76</td>\n",
              "      <td>14</td>\n",
              "      <td>3</td>\n",
              "      <td>1</td>\n",
              "      <td>False</td>\n",
              "      <td>False</td>\n",
              "      <td>2019</td>\n",
              "      <td>1</td>\n",
              "      <td>28.920</td>\n",
              "      <td>4.000000</td>\n",
              "      <td>NaN</td>\n",
              "    </tr>\n",
              "    <tr>\n",
              "      <th>4</th>\n",
              "      <td>2019-01-14</td>\n",
              "      <td>B00FYU5QRI</td>\n",
              "      <td>A_GEN_STANDARD</td>\n",
              "      <td>Codefree Kit SD - Medidor de glucosa en sangre...</td>\n",
              "      <td>1</td>\n",
              "      <td>30.16</td>\n",
              "      <td>0.000</td>\n",
              "      <td>30.160</td>\n",
              "      <td>0</td>\n",
              "      <td>11.76</td>\n",
              "      <td>14</td>\n",
              "      <td>3</td>\n",
              "      <td>1</td>\n",
              "      <td>False</td>\n",
              "      <td>False</td>\n",
              "      <td>2019</td>\n",
              "      <td>1</td>\n",
              "      <td>30.160</td>\n",
              "      <td>4.300000</td>\n",
              "      <td>NaN</td>\n",
              "    </tr>\n",
              "    <tr>\n",
              "      <th>...</th>\n",
              "      <td>...</td>\n",
              "      <td>...</td>\n",
              "      <td>...</td>\n",
              "      <td>...</td>\n",
              "      <td>...</td>\n",
              "      <td>...</td>\n",
              "      <td>...</td>\n",
              "      <td>...</td>\n",
              "      <td>...</td>\n",
              "      <td>...</td>\n",
              "      <td>...</td>\n",
              "      <td>...</td>\n",
              "      <td>...</td>\n",
              "      <td>...</td>\n",
              "      <td>...</td>\n",
              "      <td>...</td>\n",
              "      <td>...</td>\n",
              "      <td>...</td>\n",
              "      <td>...</td>\n",
              "      <td>...</td>\n",
              "    </tr>\n",
              "    <tr>\n",
              "      <th>663</th>\n",
              "      <td>2022-07-23</td>\n",
              "      <td>B00FWSK1UE</td>\n",
              "      <td>A_HPC_SANITARYPRODUCTS</td>\n",
              "      <td>Codefree Kit SD - Medidor de glucosa en sangre...</td>\n",
              "      <td>1</td>\n",
              "      <td>24.54</td>\n",
              "      <td>0.000</td>\n",
              "      <td>24.540</td>\n",
              "      <td>0</td>\n",
              "      <td>11.76</td>\n",
              "      <td>23</td>\n",
              "      <td>29</td>\n",
              "      <td>7</td>\n",
              "      <td>False</td>\n",
              "      <td>False</td>\n",
              "      <td>2022</td>\n",
              "      <td>3</td>\n",
              "      <td>24.540</td>\n",
              "      <td>2.176111</td>\n",
              "      <td>11.326667</td>\n",
              "    </tr>\n",
              "    <tr>\n",
              "      <th>664</th>\n",
              "      <td>2022-07-25</td>\n",
              "      <td>B00FWSK1UE</td>\n",
              "      <td>A_HPC_SANITARYPRODUCTS</td>\n",
              "      <td>Codefree Kit SD - Medidor de glucosa en sangre...</td>\n",
              "      <td>1</td>\n",
              "      <td>24.54</td>\n",
              "      <td>0.000</td>\n",
              "      <td>24.540</td>\n",
              "      <td>0</td>\n",
              "      <td>11.76</td>\n",
              "      <td>25</td>\n",
              "      <td>30</td>\n",
              "      <td>7</td>\n",
              "      <td>False</td>\n",
              "      <td>False</td>\n",
              "      <td>2022</td>\n",
              "      <td>3</td>\n",
              "      <td>24.540</td>\n",
              "      <td>2.176111</td>\n",
              "      <td>11.326667</td>\n",
              "    </tr>\n",
              "    <tr>\n",
              "      <th>665</th>\n",
              "      <td>2022-07-28</td>\n",
              "      <td>B00FWSK1UE</td>\n",
              "      <td>A_HPC_SANITARYPRODUCTS</td>\n",
              "      <td>Codefree Kit SD - Medidor de glucosa en sangre...</td>\n",
              "      <td>1</td>\n",
              "      <td>24.54</td>\n",
              "      <td>2.454</td>\n",
              "      <td>22.086</td>\n",
              "      <td>10</td>\n",
              "      <td>11.76</td>\n",
              "      <td>28</td>\n",
              "      <td>30</td>\n",
              "      <td>7</td>\n",
              "      <td>False</td>\n",
              "      <td>False</td>\n",
              "      <td>2022</td>\n",
              "      <td>3</td>\n",
              "      <td>22.086</td>\n",
              "      <td>2.171667</td>\n",
              "      <td>11.326667</td>\n",
              "    </tr>\n",
              "    <tr>\n",
              "      <th>666</th>\n",
              "      <td>2022-07-29</td>\n",
              "      <td>B00FWSK1UE</td>\n",
              "      <td>A_HPC_SANITARYPRODUCTS</td>\n",
              "      <td>Codefree Kit SD - Medidor de glucosa en sangre...</td>\n",
              "      <td>1</td>\n",
              "      <td>24.54</td>\n",
              "      <td>0.000</td>\n",
              "      <td>24.540</td>\n",
              "      <td>0</td>\n",
              "      <td>11.76</td>\n",
              "      <td>29</td>\n",
              "      <td>30</td>\n",
              "      <td>7</td>\n",
              "      <td>False</td>\n",
              "      <td>False</td>\n",
              "      <td>2022</td>\n",
              "      <td>3</td>\n",
              "      <td>24.540</td>\n",
              "      <td>2.176111</td>\n",
              "      <td>11.326667</td>\n",
              "    </tr>\n",
              "    <tr>\n",
              "      <th>667</th>\n",
              "      <td>2022-08-01</td>\n",
              "      <td>B00FYU5QRI</td>\n",
              "      <td>A_HPC_SANITARYPRODUCTS</td>\n",
              "      <td>Codefree Kit SD - Medidor de glucosa en sangre...</td>\n",
              "      <td>2</td>\n",
              "      <td>49.08</td>\n",
              "      <td>2.454</td>\n",
              "      <td>46.626</td>\n",
              "      <td>5</td>\n",
              "      <td>23.52</td>\n",
              "      <td>1</td>\n",
              "      <td>31</td>\n",
              "      <td>8</td>\n",
              "      <td>True</td>\n",
              "      <td>False</td>\n",
              "      <td>2022</td>\n",
              "      <td>3</td>\n",
              "      <td>93.252</td>\n",
              "      <td>4.145222</td>\n",
              "      <td>15.970000</td>\n",
              "    </tr>\n",
              "  </tbody>\n",
              "</table>\n",
              "<p>668 rows × 20 columns</p>\n",
              "</div>\n",
              "      <button class=\"colab-df-convert\" onclick=\"convertToInteractive('df-8ad1b3ae-a678-4a28-9cc0-4fae1d938877')\"\n",
              "              title=\"Convert this dataframe to an interactive table.\"\n",
              "              style=\"display:none;\">\n",
              "        \n",
              "  <svg xmlns=\"http://www.w3.org/2000/svg\" height=\"24px\"viewBox=\"0 0 24 24\"\n",
              "       width=\"24px\">\n",
              "    <path d=\"M0 0h24v24H0V0z\" fill=\"none\"/>\n",
              "    <path d=\"M18.56 5.44l.94 2.06.94-2.06 2.06-.94-2.06-.94-.94-2.06-.94 2.06-2.06.94zm-11 1L8.5 8.5l.94-2.06 2.06-.94-2.06-.94L8.5 2.5l-.94 2.06-2.06.94zm10 10l.94 2.06.94-2.06 2.06-.94-2.06-.94-.94-2.06-.94 2.06-2.06.94z\"/><path d=\"M17.41 7.96l-1.37-1.37c-.4-.4-.92-.59-1.43-.59-.52 0-1.04.2-1.43.59L10.3 9.45l-7.72 7.72c-.78.78-.78 2.05 0 2.83L4 21.41c.39.39.9.59 1.41.59.51 0 1.02-.2 1.41-.59l7.78-7.78 2.81-2.81c.8-.78.8-2.07 0-2.86zM5.41 20L4 18.59l7.72-7.72 1.47 1.35L5.41 20z\"/>\n",
              "  </svg>\n",
              "      </button>\n",
              "      \n",
              "  <style>\n",
              "    .colab-df-container {\n",
              "      display:flex;\n",
              "      flex-wrap:wrap;\n",
              "      gap: 12px;\n",
              "    }\n",
              "\n",
              "    .colab-df-convert {\n",
              "      background-color: #E8F0FE;\n",
              "      border: none;\n",
              "      border-radius: 50%;\n",
              "      cursor: pointer;\n",
              "      display: none;\n",
              "      fill: #1967D2;\n",
              "      height: 32px;\n",
              "      padding: 0 0 0 0;\n",
              "      width: 32px;\n",
              "    }\n",
              "\n",
              "    .colab-df-convert:hover {\n",
              "      background-color: #E2EBFA;\n",
              "      box-shadow: 0px 1px 2px rgba(60, 64, 67, 0.3), 0px 1px 3px 1px rgba(60, 64, 67, 0.15);\n",
              "      fill: #174EA6;\n",
              "    }\n",
              "\n",
              "    [theme=dark] .colab-df-convert {\n",
              "      background-color: #3B4455;\n",
              "      fill: #D2E3FC;\n",
              "    }\n",
              "\n",
              "    [theme=dark] .colab-df-convert:hover {\n",
              "      background-color: #434B5C;\n",
              "      box-shadow: 0px 1px 3px 1px rgba(0, 0, 0, 0.15);\n",
              "      filter: drop-shadow(0px 1px 2px rgba(0, 0, 0, 0.3));\n",
              "      fill: #FFFFFF;\n",
              "    }\n",
              "  </style>\n",
              "\n",
              "      <script>\n",
              "        const buttonEl =\n",
              "          document.querySelector('#df-8ad1b3ae-a678-4a28-9cc0-4fae1d938877 button.colab-df-convert');\n",
              "        buttonEl.style.display =\n",
              "          google.colab.kernel.accessAllowed ? 'block' : 'none';\n",
              "\n",
              "        async function convertToInteractive(key) {\n",
              "          const element = document.querySelector('#df-8ad1b3ae-a678-4a28-9cc0-4fae1d938877');\n",
              "          const dataTable =\n",
              "            await google.colab.kernel.invokeFunction('convertToInteractive',\n",
              "                                                     [key], {});\n",
              "          if (!dataTable) return;\n",
              "\n",
              "          const docLinkHtml = 'Like what you see? Visit the ' +\n",
              "            '<a target=\"_blank\" href=https://colab.research.google.com/notebooks/data_table.ipynb>data table notebook</a>'\n",
              "            + ' to learn more about interactive tables.';\n",
              "          element.innerHTML = '';\n",
              "          dataTable['output_type'] = 'display_data';\n",
              "          await google.colab.output.renderOutput(dataTable, element);\n",
              "          const docLink = document.createElement('div');\n",
              "          docLink.innerHTML = docLinkHtml;\n",
              "          element.appendChild(docLink);\n",
              "        }\n",
              "      </script>\n",
              "    </div>\n",
              "  </div>\n",
              "  "
            ]
          },
          "metadata": {},
          "execution_count": 42
        }
      ]
    },
    {
      "cell_type": "code",
      "source": [
        "df2.isnull().sum()"
      ],
      "metadata": {
        "colab": {
          "base_uri": "https://localhost:8080/"
        },
        "id": "zPGDWQbr3m2H",
        "outputId": "0a563b36-8e25-4375-a970-d9f09dd136a8"
      },
      "execution_count": 43,
      "outputs": [
        {
          "output_type": "execute_result",
          "data": {
            "text/plain": [
              "Date                    0\n",
              "ASIN                    0\n",
              "TaxCode                 0\n",
              "Name                    0\n",
              "Qty                     0\n",
              "RegularPrice            0\n",
              "Total Discount          0\n",
              "Sale Price              0\n",
              "Perc. Discount          0\n",
              "Cost                    0\n",
              "day                     0\n",
              "week_of_year            0\n",
              "month                   0\n",
              "month_start             0\n",
              "month_end               0\n",
              "year                    0\n",
              "quarter                 0\n",
              "Sales                   0\n",
              "rating                  0\n",
              "competition_rating    285\n",
              "dtype: int64"
            ]
          },
          "metadata": {},
          "execution_count": 43
        }
      ]
    },
    {
      "cell_type": "markdown",
      "source": [
        "We can see that during the merging there are 285 null values, this is because there was no matching for ASIN and months. This might be because not all ASIN from the competition are part of our ASIN's. To fix this instead of filling those null values with the mean, we predict them doing Machine Learning using a Random Forest Regressor Model. This will provide more diversified and precise values for competition Ratings."
      ],
      "metadata": {
        "id": "0Zd3j9OlsXuc"
      }
    },
    {
      "cell_type": "code",
      "source": [
        "#lg_n = LGBMRegressor(n_estimators=1000, learning_rate=0.05, n_jobs=-1)\n",
        "lg_n = RandomForestRegressor(n_estimators=100, random_state=42)\n",
        "#df.head()\n",
        "regression_df = df2.drop(columns = [ 'Date', 'Name'])\n",
        "testdf = regression_df[regression_df['competition_rating'].isnull()==True]\n",
        "traindf = regression_df[regression_df['competition_rating'].isnull()==False]\n",
        "#testdf.shape\n",
        "X_train_reg = traindf.drop(columns = ['competition_rating'])\n",
        "y_train_reg = traindf['competition_rating']\n",
        "X_test_reg = testdf.drop(columns = ['competition_rating'])\n",
        "y_test_reg = testdf['competition_rating']\n",
        "num_attribs = ['Perc. Discount', 'day', 'week_of_year', 'month', 'year', 'quarter', 'RegularPrice', 'Sale Price', 'Sales', 'rating']\n",
        "dummy_attribs = ['month_start','month_end']\n",
        "cat_attribs = ['ASIN', 'TaxCode']\n",
        "\n",
        "full_pipeline = ColumnTransformer([\n",
        "        (\"num\", StandardScaler(), num_attribs),\n",
        "        (\"cat_encoder\", OneHotEncoder(), dummy_attribs),\n",
        "        (\"cat\", OrdinalEncoder(), cat_attribs)\n",
        "    ])\n",
        "\n",
        "X_train_reg_tr = full_pipeline.fit_transform(X_train_reg)\n",
        "X_test_reg_tr = full_pipeline.fit_transform(X_test_reg)\n",
        "lg_n.fit(X_train_reg_tr,y_train_reg)\n",
        "pred = lg_n.predict(X_test_reg_tr)\n",
        "testdf['competition_rating']= pred\n",
        "list1 = []\n",
        "index = (testdf.index)\n",
        "list1 = index.append(list1)\n",
        "df2.loc[list1,'competition_rating'] = testdf['competition_rating']"
      ],
      "metadata": {
        "colab": {
          "base_uri": "https://localhost:8080/"
        },
        "id": "mSECPmlf4GSg",
        "outputId": "fca1723c-8da6-456d-8378-49a556b48b6f"
      },
      "execution_count": 44,
      "outputs": [
        {
          "output_type": "stream",
          "name": "stderr",
          "text": [
            "/usr/local/lib/python3.7/dist-packages/ipykernel_launcher.py:26: SettingWithCopyWarning: \n",
            "A value is trying to be set on a copy of a slice from a DataFrame.\n",
            "Try using .loc[row_indexer,col_indexer] = value instead\n",
            "\n",
            "See the caveats in the documentation: https://pandas.pydata.org/pandas-docs/stable/user_guide/indexing.html#returning-a-view-versus-a-copy\n"
          ]
        }
      ]
    },
    {
      "cell_type": "markdown",
      "source": [
        "After predicting the null values for competition ratings we can observe that there are no more null values. "
      ],
      "metadata": {
        "id": "Q6Lcafl4tFEI"
      }
    },
    {
      "cell_type": "code",
      "source": [
        "df2.isnull().sum()"
      ],
      "metadata": {
        "colab": {
          "base_uri": "https://localhost:8080/"
        },
        "id": "CTHPrTAaEdK9",
        "outputId": "96504036-65f3-4299-8dd8-c4634cb36864"
      },
      "execution_count": 45,
      "outputs": [
        {
          "output_type": "execute_result",
          "data": {
            "text/plain": [
              "Date                  0\n",
              "ASIN                  0\n",
              "TaxCode               0\n",
              "Name                  0\n",
              "Qty                   0\n",
              "RegularPrice          0\n",
              "Total Discount        0\n",
              "Sale Price            0\n",
              "Perc. Discount        0\n",
              "Cost                  0\n",
              "day                   0\n",
              "week_of_year          0\n",
              "month                 0\n",
              "month_start           0\n",
              "month_end             0\n",
              "year                  0\n",
              "quarter               0\n",
              "Sales                 0\n",
              "rating                0\n",
              "competition_rating    0\n",
              "dtype: int64"
            ]
          },
          "metadata": {},
          "execution_count": 45
        }
      ]
    },
    {
      "cell_type": "code",
      "source": [
        "#not_null = df2.loc[df2['competition_rating'].isnull()== False]\n",
        "#not_null['ASIN'].unique()    "
      ],
      "metadata": {
        "id": "MCK_JkViq_zB"
      },
      "execution_count": 46,
      "outputs": []
    },
    {
      "cell_type": "markdown",
      "source": [
        "##### Data Visualization"
      ],
      "metadata": {
        "id": "OKVQXOxboEHl"
      }
    },
    {
      "cell_type": "markdown",
      "source": [
        "Before doing some Machine Learning we should understand first our Data. The best way to understand data is by visualizing. We can observe that increasing the prices also increases the sales."
      ],
      "metadata": {
        "id": "ZAUS8-o6tUrh"
      }
    },
    {
      "cell_type": "code",
      "execution_count": 47,
      "metadata": {
        "colab": {
          "base_uri": "https://localhost:8080/",
          "height": 408
        },
        "id": "PVTyv0-Zn8Q_",
        "outputId": "e0814f26-602b-48e1-ac1c-86cb9f3c65c2"
      },
      "outputs": [
        {
          "output_type": "execute_result",
          "data": {
            "text/plain": [
              "<matplotlib.axes._subplots.AxesSubplot at 0x7f97bd135550>"
            ]
          },
          "metadata": {},
          "execution_count": 47
        },
        {
          "output_type": "display_data",
          "data": {
            "text/plain": [
              "<Figure size 648x432 with 1 Axes>"
            ],
            "image/png": "[encoded data removed]"
          },
          "metadata": {
            "needs_background": "light"
          }
        }
      ],
      "source": [
        "plt.figure(figsize=(9,6))\n",
        "\n",
        "sns.lineplot(data=df2, x=\"Sale Price\", y=\"Sales\")"
      ]
    },
    {
      "cell_type": "markdown",
      "source": [
        "Here we can see that with the data we have that with no discounts Sales were bigger, however, the second with most sales was with the 30% discount."
      ],
      "metadata": {
        "id": "hlGBSKTltwSU"
      }
    },
    {
      "cell_type": "code",
      "execution_count": 48,
      "metadata": {
        "colab": {
          "base_uri": "https://localhost:8080/",
          "height": 405
        },
        "id": "87H2iJYvoSRW",
        "outputId": "7346f363-28df-4f84-ee68-28d9509f0f14"
      },
      "outputs": [
        {
          "output_type": "execute_result",
          "data": {
            "text/plain": [
              "<matplotlib.axes._subplots.AxesSubplot at 0x7f97bcb44990>"
            ]
          },
          "metadata": {},
          "execution_count": 48
        },
        {
          "output_type": "display_data",
          "data": {
            "text/plain": [
              "<Figure size 648x432 with 1 Axes>"
            ],
            "image/png": "[encoded data removed]"
          },
          "metadata": {
            "needs_background": "light"
          }
        }
      ],
      "source": [
        "plt.figure(figsize=(9,6))\n",
        "\n",
        "sns.barplot(data=df2, x=\"Perc. Discount\", y=\"Sales\")"
      ]
    },
    {
      "cell_type": "markdown",
      "source": [
        "With time series visualizations we can observe that Sales where really high in 2019, after that Sales dropped by a lot, starting to have more variation in year 2022."
      ],
      "metadata": {
        "id": "4ZAjY7lVuJ28"
      }
    },
    {
      "cell_type": "code",
      "execution_count": 49,
      "metadata": {
        "colab": {
          "base_uri": "https://localhost:8080/",
          "height": 405
        },
        "id": "ByBWWHn6p5Rs",
        "outputId": "65fd4b20-65d7-4b08-b3ab-325c6e9c632a"
      },
      "outputs": [
        {
          "output_type": "execute_result",
          "data": {
            "text/plain": [
              "<matplotlib.axes._subplots.AxesSubplot at 0x7f97bca7a8d0>"
            ]
          },
          "metadata": {},
          "execution_count": 49
        },
        {
          "output_type": "display_data",
          "data": {
            "text/plain": [
              "<Figure size 648x432 with 1 Axes>"
            ],
            "image/png": "[encoded data removed]"
          },
          "metadata": {
            "needs_background": "light"
          }
        }
      ],
      "source": [
        "plt.figure(figsize=(9,6))\n",
        "\n",
        "sns.lineplot(data=df2, x=\"Date\", y=\"Sales\")"
      ]
    },
    {
      "cell_type": "markdown",
      "source": [
        "The months that sales were bigger were at the first months of the year, being March the month with a higher amount of Sales."
      ],
      "metadata": {
        "id": "8NmTuRTYudFL"
      }
    },
    {
      "cell_type": "code",
      "execution_count": 50,
      "metadata": {
        "colab": {
          "base_uri": "https://localhost:8080/",
          "height": 405
        },
        "id": "9LeD0aUgqK5Y",
        "outputId": "90764a61-97c1-406a-d523-5762b7c63e5c"
      },
      "outputs": [
        {
          "output_type": "execute_result",
          "data": {
            "text/plain": [
              "<matplotlib.axes._subplots.AxesSubplot at 0x7f97bc9ef450>"
            ]
          },
          "metadata": {},
          "execution_count": 50
        },
        {
          "output_type": "display_data",
          "data": {
            "text/plain": [
              "<Figure size 648x432 with 1 Axes>"
            ],
            "image/png": "[encoded data removed]"
          },
          "metadata": {
            "needs_background": "light"
          }
        }
      ],
      "source": [
        "plt.figure(figsize=(9,6))\n",
        "\n",
        "sns.barplot(data=df2, x=\"month\", y=\"Sales\")"
      ]
    },
    {
      "cell_type": "markdown",
      "source": [
        "For daily Sales, the results showed that the first week of each month had higher amount of sales."
      ],
      "metadata": {
        "id": "6qWzHMq8utAn"
      }
    },
    {
      "cell_type": "code",
      "execution_count": 51,
      "metadata": {
        "colab": {
          "base_uri": "https://localhost:8080/",
          "height": 405
        },
        "id": "YA3lGkvUqkT7",
        "outputId": "7bf56079-5074-4bc3-fbaa-2426b7657405"
      },
      "outputs": [
        {
          "output_type": "execute_result",
          "data": {
            "text/plain": [
              "<matplotlib.axes._subplots.AxesSubplot at 0x7f97bc902550>"
            ]
          },
          "metadata": {},
          "execution_count": 51
        },
        {
          "output_type": "display_data",
          "data": {
            "text/plain": [
              "<Figure size 648x432 with 1 Axes>"
            ],
            "image/png": "[encoded data removed]"
          },
          "metadata": {
            "needs_background": "light"
          }
        }
      ],
      "source": [
        "plt.figure(figsize=(9,6))\n",
        "\n",
        "sns.lineplot(data=df2, x=\"day\", y=\"Sales\")"
      ]
    },
    {
      "cell_type": "code",
      "execution_count": 52,
      "metadata": {
        "id": "pkjMfZZgqVyk"
      },
      "outputs": [],
      "source": [
        "df2 = df2.drop(columns = ['Date', 'Name'])"
      ]
    },
    {
      "cell_type": "markdown",
      "metadata": {
        "id": "HSK7PbJRIUw1"
      },
      "source": [
        "#### Data Preprocessing"
      ]
    },
    {
      "cell_type": "markdown",
      "source": [
        "To start doing Machine Learning to predict Quantities Sold first we should do some Data Preprocessing. The first step is to split data into Training set and Test Set. We do a split of the data with a test set representing a 20% of the data."
      ],
      "metadata": {
        "id": "CrSDsg4hvR6G"
      }
    },
    {
      "cell_type": "code",
      "execution_count": 53,
      "metadata": {
        "id": "RyOCYs5MoQ52"
      },
      "outputs": [],
      "source": [
        "train, test = train_test_split(df2, test_size = 0.2, random_state = 42)"
      ]
    },
    {
      "cell_type": "code",
      "execution_count": 54,
      "metadata": {
        "colab": {
          "base_uri": "https://localhost:8080/",
          "height": 287
        },
        "id": "scf5mZgKyByg",
        "outputId": "5750cc73-9fbb-42aa-f612-7db8473da066"
      },
      "outputs": [
        {
          "output_type": "execute_result",
          "data": {
            "text/plain": [
              "           ASIN                 TaxCode  Qty  RegularPrice  Total Discount  \\\n",
              "235  B01N1YYIVZ  A_HPC_SANITARYPRODUCTS    6        321.78             0.0   \n",
              "399  B00FYU5QRI           A_GEN_REDUCED    1         28.36             0.0   \n",
              "602  B00FYU5QRI  A_HPC_SANITARYPRODUCTS    1         24.54             0.0   \n",
              "61   B00FYU5QRI  A_HPC_SANITARYPRODUCTS    8        196.32             0.0   \n",
              "145  B00FYU5QRI  A_HPC_SANITARYPRODUCTS    7        171.78             0.0   \n",
              "\n",
              "     Sale Price  Perc. Discount   Cost  day  week_of_year  month  month_start  \\\n",
              "235      321.78               0  46.00   12            15      4        False   \n",
              "399       28.36               0  11.76    1             1      1         True   \n",
              "602       24.54               0  11.76   31            22      5        False   \n",
              "61       196.32               0  94.08    4             6      2        False   \n",
              "145      171.78               0  82.32    7            10      3        False   \n",
              "\n",
              "     month_end  year  quarter    Sales    rating  competition_rating  \n",
              "235      False  2019        2  1930.68  4.500000            4.551813  \n",
              "399      False  2020        1    28.36  3.750000            5.002608  \n",
              "602       True  2022        2    24.54  4.579667            4.425000  \n",
              "61       False  2019        1  1570.56  4.466667           28.250000  \n",
              "145      False  2019        1  1202.46  4.500000            4.250000  "
            ],
            "text/html": [
              "\n",
              "  <div id=\"df-9baa7f05-ef71-4d3a-a2b4-efacd86d3ec0\">\n",
              "    <div class=\"colab-df-container\">\n",
              "      <div>\n",
              "<style scoped>\n",
              "    .dataframe tbody tr th:only-of-type {\n",
              "        vertical-align: middle;\n",
              "    }\n",
              "\n",
              "    .dataframe tbody tr th {\n",
              "        vertical-align: top;\n",
              "    }\n",
              "\n",
              "    .dataframe thead th {\n",
              "        text-align: right;\n",
              "    }\n",
              "</style>\n",
              "<table border=\"1\" class=\"dataframe\">\n",
              "  <thead>\n",
              "    <tr style=\"text-align: right;\">\n",
              "      <th></th>\n",
              "      <th>ASIN</th>\n",
              "      <th>TaxCode</th>\n",
              "      <th>Qty</th>\n",
              "      <th>RegularPrice</th>\n",
              "      <th>Total Discount</th>\n",
              "      <th>Sale Price</th>\n",
              "      <th>Perc. Discount</th>\n",
              "      <th>Cost</th>\n",
              "      <th>day</th>\n",
              "      <th>week_of_year</th>\n",
              "      <th>month</th>\n",
              "      <th>month_start</th>\n",
              "      <th>month_end</th>\n",
              "      <th>year</th>\n",
              "      <th>quarter</th>\n",
              "      <th>Sales</th>\n",
              "      <th>rating</th>\n",
              "      <th>competition_rating</th>\n",
              "    </tr>\n",
              "  </thead>\n",
              "  <tbody>\n",
              "    <tr>\n",
              "      <th>235</th>\n",
              "      <td>B01N1YYIVZ</td>\n",
              "      <td>A_HPC_SANITARYPRODUCTS</td>\n",
              "      <td>6</td>\n",
              "      <td>321.78</td>\n",
              "      <td>0.0</td>\n",
              "      <td>321.78</td>\n",
              "      <td>0</td>\n",
              "      <td>46.00</td>\n",
              "      <td>12</td>\n",
              "      <td>15</td>\n",
              "      <td>4</td>\n",
              "      <td>False</td>\n",
              "      <td>False</td>\n",
              "      <td>2019</td>\n",
              "      <td>2</td>\n",
              "      <td>1930.68</td>\n",
              "      <td>4.500000</td>\n",
              "      <td>4.551813</td>\n",
              "    </tr>\n",
              "    <tr>\n",
              "      <th>399</th>\n",
              "      <td>B00FYU5QRI</td>\n",
              "      <td>A_GEN_REDUCED</td>\n",
              "      <td>1</td>\n",
              "      <td>28.36</td>\n",
              "      <td>0.0</td>\n",
              "      <td>28.36</td>\n",
              "      <td>0</td>\n",
              "      <td>11.76</td>\n",
              "      <td>1</td>\n",
              "      <td>1</td>\n",
              "      <td>1</td>\n",
              "      <td>True</td>\n",
              "      <td>False</td>\n",
              "      <td>2020</td>\n",
              "      <td>1</td>\n",
              "      <td>28.36</td>\n",
              "      <td>3.750000</td>\n",
              "      <td>5.002608</td>\n",
              "    </tr>\n",
              "    <tr>\n",
              "      <th>602</th>\n",
              "      <td>B00FYU5QRI</td>\n",
              "      <td>A_HPC_SANITARYPRODUCTS</td>\n",
              "      <td>1</td>\n",
              "      <td>24.54</td>\n",
              "      <td>0.0</td>\n",
              "      <td>24.54</td>\n",
              "      <td>0</td>\n",
              "      <td>11.76</td>\n",
              "      <td>31</td>\n",
              "      <td>22</td>\n",
              "      <td>5</td>\n",
              "      <td>False</td>\n",
              "      <td>True</td>\n",
              "      <td>2022</td>\n",
              "      <td>2</td>\n",
              "      <td>24.54</td>\n",
              "      <td>4.579667</td>\n",
              "      <td>4.425000</td>\n",
              "    </tr>\n",
              "    <tr>\n",
              "      <th>61</th>\n",
              "      <td>B00FYU5QRI</td>\n",
              "      <td>A_HPC_SANITARYPRODUCTS</td>\n",
              "      <td>8</td>\n",
              "      <td>196.32</td>\n",
              "      <td>0.0</td>\n",
              "      <td>196.32</td>\n",
              "      <td>0</td>\n",
              "      <td>94.08</td>\n",
              "      <td>4</td>\n",
              "      <td>6</td>\n",
              "      <td>2</td>\n",
              "      <td>False</td>\n",
              "      <td>False</td>\n",
              "      <td>2019</td>\n",
              "      <td>1</td>\n",
              "      <td>1570.56</td>\n",
              "      <td>4.466667</td>\n",
              "      <td>28.250000</td>\n",
              "    </tr>\n",
              "    <tr>\n",
              "      <th>145</th>\n",
              "      <td>B00FYU5QRI</td>\n",
              "      <td>A_HPC_SANITARYPRODUCTS</td>\n",
              "      <td>7</td>\n",
              "      <td>171.78</td>\n",
              "      <td>0.0</td>\n",
              "      <td>171.78</td>\n",
              "      <td>0</td>\n",
              "      <td>82.32</td>\n",
              "      <td>7</td>\n",
              "      <td>10</td>\n",
              "      <td>3</td>\n",
              "      <td>False</td>\n",
              "      <td>False</td>\n",
              "      <td>2019</td>\n",
              "      <td>1</td>\n",
              "      <td>1202.46</td>\n",
              "      <td>4.500000</td>\n",
              "      <td>4.250000</td>\n",
              "    </tr>\n",
              "  </tbody>\n",
              "</table>\n",
              "</div>\n",
              "      <button class=\"colab-df-convert\" onclick=\"convertToInteractive('df-9baa7f05-ef71-4d3a-a2b4-efacd86d3ec0')\"\n",
              "              title=\"Convert this dataframe to an interactive table.\"\n",
              "              style=\"display:none;\">\n",
              "        \n",
              "  <svg xmlns=\"http://www.w3.org/2000/svg\" height=\"24px\"viewBox=\"0 0 24 24\"\n",
              "       width=\"24px\">\n",
              "    <path d=\"M0 0h24v24H0V0z\" fill=\"none\"/>\n",
              "    <path d=\"M18.56 5.44l.94 2.06.94-2.06 2.06-.94-2.06-.94-.94-2.06-.94 2.06-2.06.94zm-11 1L8.5 8.5l.94-2.06 2.06-.94-2.06-.94L8.5 2.5l-.94 2.06-2.06.94zm10 10l.94 2.06.94-2.06 2.06-.94-2.06-.94-.94-2.06-.94 2.06-2.06.94z\"/><path d=\"M17.41 7.96l-1.37-1.37c-.4-.4-.92-.59-1.43-.59-.52 0-1.04.2-1.43.59L10.3 9.45l-7.72 7.72c-.78.78-.78 2.05 0 2.83L4 21.41c.39.39.9.59 1.41.59.51 0 1.02-.2 1.41-.59l7.78-7.78 2.81-2.81c.8-.78.8-2.07 0-2.86zM5.41 20L4 18.59l7.72-7.72 1.47 1.35L5.41 20z\"/>\n",
              "  </svg>\n",
              "      </button>\n",
              "      \n",
              "  <style>\n",
              "    .colab-df-container {\n",
              "      display:flex;\n",
              "      flex-wrap:wrap;\n",
              "      gap: 12px;\n",
              "    }\n",
              "\n",
              "    .colab-df-convert {\n",
              "      background-color: #E8F0FE;\n",
              "      border: none;\n",
              "      border-radius: 50%;\n",
              "      cursor: pointer;\n",
              "      display: none;\n",
              "      fill: #1967D2;\n",
              "      height: 32px;\n",
              "      padding: 0 0 0 0;\n",
              "      width: 32px;\n",
              "    }\n",
              "\n",
              "    .colab-df-convert:hover {\n",
              "      background-color: #E2EBFA;\n",
              "      box-shadow: 0px 1px 2px rgba(60, 64, 67, 0.3), 0px 1px 3px 1px rgba(60, 64, 67, 0.15);\n",
              "      fill: #174EA6;\n",
              "    }\n",
              "\n",
              "    [theme=dark] .colab-df-convert {\n",
              "      background-color: #3B4455;\n",
              "      fill: #D2E3FC;\n",
              "    }\n",
              "\n",
              "    [theme=dark] .colab-df-convert:hover {\n",
              "      background-color: #434B5C;\n",
              "      box-shadow: 0px 1px 3px 1px rgba(0, 0, 0, 0.15);\n",
              "      filter: drop-shadow(0px 1px 2px rgba(0, 0, 0, 0.3));\n",
              "      fill: #FFFFFF;\n",
              "    }\n",
              "  </style>\n",
              "\n",
              "      <script>\n",
              "        const buttonEl =\n",
              "          document.querySelector('#df-9baa7f05-ef71-4d3a-a2b4-efacd86d3ec0 button.colab-df-convert');\n",
              "        buttonEl.style.display =\n",
              "          google.colab.kernel.accessAllowed ? 'block' : 'none';\n",
              "\n",
              "        async function convertToInteractive(key) {\n",
              "          const element = document.querySelector('#df-9baa7f05-ef71-4d3a-a2b4-efacd86d3ec0');\n",
              "          const dataTable =\n",
              "            await google.colab.kernel.invokeFunction('convertToInteractive',\n",
              "                                                     [key], {});\n",
              "          if (!dataTable) return;\n",
              "\n",
              "          const docLinkHtml = 'Like what you see? Visit the ' +\n",
              "            '<a target=\"_blank\" href=https://colab.research.google.com/notebooks/data_table.ipynb>data table notebook</a>'\n",
              "            + ' to learn more about interactive tables.';\n",
              "          element.innerHTML = '';\n",
              "          dataTable['output_type'] = 'display_data';\n",
              "          await google.colab.output.renderOutput(dataTable, element);\n",
              "          const docLink = document.createElement('div');\n",
              "          docLink.innerHTML = docLinkHtml;\n",
              "          element.appendChild(docLink);\n",
              "        }\n",
              "      </script>\n",
              "    </div>\n",
              "  </div>\n",
              "  "
            ]
          },
          "metadata": {},
          "execution_count": 54
        }
      ],
      "source": [
        "train.head()"
      ]
    },
    {
      "cell_type": "code",
      "execution_count": 55,
      "metadata": {
        "id": "xO-0Xhi9yHFa"
      },
      "outputs": [],
      "source": [
        "train = train.reset_index()\n",
        "train = train.drop(columns = ['index'])"
      ]
    },
    {
      "cell_type": "markdown",
      "source": [
        "When choosing the X and Y values. We drop Sales as they are dependent from quantities and Cost as they don't have impact on the predictions of Quantities. Y value is the Quantities."
      ],
      "metadata": {
        "id": "-Epu0ct5waE5"
      }
    },
    {
      "cell_type": "code",
      "execution_count": 56,
      "metadata": {
        "id": "WyAI2ekazYWe"
      },
      "outputs": [],
      "source": [
        "X_train = train.drop(columns = ['Qty', 'Sales', 'Cost'])\n",
        "X_test = test.drop(columns = ['Qty', 'Sales', 'Cost'])\n",
        "y_train = train['Qty']\n",
        "y_test = test['Qty']"
      ]
    },
    {
      "cell_type": "markdown",
      "source": [
        "Here we do some preprocessing such as One Hot Encoder for month_start and month_end as they are in a bool datatype, this will transform this values into 0 or 1. For ASIN and TaxCode we do an Ordinal Encoder to transform categories into a numerical value. For numerical features we have to scale data to improve results when doing Machine Learning, the scaling process chosen is Standarization."
      ],
      "metadata": {
        "id": "OJ-DJ38uwtfG"
      }
    },
    {
      "cell_type": "code",
      "execution_count": 57,
      "metadata": {
        "id": "SzET4Hv2penT"
      },
      "outputs": [],
      "source": [
        "num_attribs = ['Perc. Discount', 'day', 'week_of_year', 'month', 'year', 'quarter', 'RegularPrice', 'Sale Price', 'rating', 'competition_rating']\n",
        "dummy_attribs = ['month_start','month_end']\n",
        "cat_attribs = ['ASIN', 'TaxCode']\n",
        "\n",
        "full_pipeline = ColumnTransformer([\n",
        "        (\"num\", StandardScaler(), num_attribs),\n",
        "        (\"cat_encoder\", OneHotEncoder(), dummy_attribs),\n",
        "        (\"cat\", OrdinalEncoder(), cat_attribs)\n",
        "    ])\n",
        "\n",
        "X_train_tr = full_pipeline.fit_transform(X_train)\n",
        "X_test_tr = full_pipeline.fit_transform(X_test)"
      ]
    },
    {
      "cell_type": "markdown",
      "source": [
        "#### Model Evaluation"
      ],
      "metadata": {
        "id": "dbgbIxGMec1V"
      }
    },
    {
      "cell_type": "markdown",
      "source": [
        "Before choosing our Machine Learning model we first have to do evaluations with different models. The project is a regression problem, therefore the choosen Models to evaluate are Linear Regression, LightGBM regressor, Random Forest Regressor and XGBoost Regressor. The one with the lowest mean squared error is the one that performs the best and we can choose to predict quantities. When evaluating we do a Cross Validation of 10 and a number of estimators for tree models of 100."
      ],
      "metadata": {
        "id": "MtX4TDCOxpvc"
      }
    },
    {
      "cell_type": "code",
      "execution_count": 58,
      "metadata": {
        "colab": {
          "base_uri": "https://localhost:8080/"
        },
        "id": "OQChsNTNq2GM",
        "outputId": "0aa40734-0f79-426a-9273-fd73e8d70c31"
      },
      "outputs": [
        {
          "output_type": "execute_result",
          "data": {
            "text/plain": [
              "LinearRegression()"
            ]
          },
          "metadata": {},
          "execution_count": 58
        }
      ],
      "source": [
        "lin_reg = LinearRegression()\n",
        "lin_reg.fit(X_train_tr, y_train)"
      ]
    },
    {
      "cell_type": "code",
      "execution_count": 59,
      "metadata": {
        "id": "RklPhQNArYD_"
      },
      "outputs": [],
      "source": [
        "def display_scores(scores):\n",
        "    print(\"Scores:\", scores)\n",
        "    print(\"Mean:\", scores.mean())\n",
        "    print(\"Standard deviation:\", scores.std())"
      ]
    },
    {
      "cell_type": "code",
      "execution_count": 60,
      "metadata": {
        "colab": {
          "base_uri": "https://localhost:8080/"
        },
        "id": "ebnBJQ1qrpmE",
        "outputId": "79e3a417-0e6b-4a21-bb49-42c4ea49a6f0"
      },
      "outputs": [
        {
          "output_type": "stream",
          "name": "stdout",
          "text": [
            "Scores: [1.86898121 2.07592294 2.28812169 1.37434345 1.94418238 1.22966536\n",
            " 1.70056108 1.674033   1.60145976 1.46710809]\n",
            "Mean: 1.7224378954623993\n",
            "Standard deviation: 0.31020002347338077\n"
          ]
        }
      ],
      "source": [
        "lin_scores = cross_val_score(lin_reg, X_train_tr, y_train,\n",
        "                             scoring=\"neg_mean_squared_error\", cv=10)\n",
        "lin_rmse_scores = np.sqrt(-lin_scores)\n",
        "display_scores(lin_rmse_scores)"
      ]
    },
    {
      "cell_type": "code",
      "execution_count": 61,
      "metadata": {
        "colab": {
          "base_uri": "https://localhost:8080/"
        },
        "id": "MLb8rj9Kr3mO",
        "outputId": "e2f54241-c0b1-4fa6-b7c1-c6434dbb589e"
      },
      "outputs": [
        {
          "output_type": "execute_result",
          "data": {
            "text/plain": [
              "LGBMRegressor(learning_rate=0.05)"
            ]
          },
          "metadata": {},
          "execution_count": 61
        }
      ],
      "source": [
        "# define model\n",
        "lg = LGBMRegressor(n_estimators=100, learning_rate=0.05, n_jobs=-1)\n",
        "lg.fit(X_train_tr, y_train)"
      ]
    },
    {
      "cell_type": "code",
      "execution_count": 62,
      "metadata": {
        "colab": {
          "base_uri": "https://localhost:8080/"
        },
        "id": "3r5YJuVMsFg3",
        "outputId": "524d0b36-b580-41d0-9100-b577df25d9f1"
      },
      "outputs": [
        {
          "output_type": "stream",
          "name": "stdout",
          "text": [
            "Scores: [1.72390843 1.5619185  0.52314859 1.77915553 2.5460679  0.81858535\n",
            " 0.71125017 1.2021561  0.98060834 0.57940944]\n",
            "Mean: 1.2426208329841777\n",
            "Standard deviation: 0.6172820240517345\n"
          ]
        }
      ],
      "source": [
        "lg_scores = cross_val_score(lg, X_train_tr, y_train,\n",
        "                             scoring=\"neg_mean_squared_error\", cv=10)\n",
        "lg_rmse_scores = np.sqrt(-lg_scores)\n",
        "display_scores(lg_rmse_scores)"
      ]
    },
    {
      "cell_type": "code",
      "execution_count": 63,
      "metadata": {
        "colab": {
          "base_uri": "https://localhost:8080/"
        },
        "id": "We5zn9E2snWd",
        "outputId": "fe50fdcb-2051-4dc6-b189-de9d29f754e8"
      },
      "outputs": [
        {
          "output_type": "execute_result",
          "data": {
            "text/plain": [
              "RandomForestRegressor(random_state=42)"
            ]
          },
          "metadata": {},
          "execution_count": 63
        }
      ],
      "source": [
        "forest_reg = RandomForestRegressor(n_estimators=100, random_state=42)\n",
        "forest_reg.fit(X_train_tr, y_train)"
      ]
    },
    {
      "cell_type": "code",
      "execution_count": 64,
      "metadata": {
        "colab": {
          "base_uri": "https://localhost:8080/"
        },
        "id": "ovbUiK_Zt9mb",
        "outputId": "9734275a-a1c2-4a76-d040-11e9951eb637"
      },
      "outputs": [
        {
          "output_type": "stream",
          "name": "stdout",
          "text": [
            "Scores: [0.5395969  0.57315889 0.21235017 0.20316022 0.73081887 0.35880567\n",
            " 0.12992741 0.86476194 0.48616326 0.24146956]\n",
            "Mean: 0.4340212882809472\n",
            "Standard deviation: 0.23334355474379473\n"
          ]
        }
      ],
      "source": [
        "forest_scores = cross_val_score(forest_reg, X_train_tr, y_train,\n",
        "                                scoring=\"neg_mean_squared_error\", cv=10)\n",
        "forest_rmse_scores = np.sqrt(-forest_scores)\n",
        "display_scores(forest_rmse_scores)"
      ]
    },
    {
      "cell_type": "code",
      "source": [
        "xgb_r = xg.XGBRegressor(objective ='reg:squarederror',\n",
        "                  n_estimators = 100, seed = 42)\n",
        "xgb_r.fit(X_train_tr, y_train)"
      ],
      "metadata": {
        "colab": {
          "base_uri": "https://localhost:8080/"
        },
        "id": "oRxjqvmwg9Cb",
        "outputId": "ef7a17f3-e8db-4d47-8f4e-2d4594e36edf"
      },
      "execution_count": 65,
      "outputs": [
        {
          "output_type": "execute_result",
          "data": {
            "text/plain": [
              "XGBRegressor(objective='reg:squarederror', seed=42)"
            ]
          },
          "metadata": {},
          "execution_count": 65
        }
      ]
    },
    {
      "cell_type": "code",
      "source": [
        "xgb_scores = cross_val_score(xgb_r, X_train_tr, y_train,\n",
        "                                scoring=\"neg_mean_squared_error\", cv=10)\n",
        "xgb_rmse_scores = np.sqrt(-xgb_scores)\n",
        "display_scores(xgb_rmse_scores)"
      ],
      "metadata": {
        "colab": {
          "base_uri": "https://localhost:8080/"
        },
        "id": "BziQr-vchLbr",
        "outputId": "47bedfea-d041-478a-a37c-6bd2ad4fa0d1"
      },
      "execution_count": 66,
      "outputs": [
        {
          "output_type": "stream",
          "name": "stdout",
          "text": [
            "Scores: [0.52744114 0.35472445 0.28863611 0.19389424 0.61821659 0.3892088\n",
            " 0.25614825 0.6991738  0.54389837 0.28445475]\n",
            "Mean: 0.4155796490211401\n",
            "Standard deviation: 0.1620913406457341\n"
          ]
        }
      ]
    },
    {
      "cell_type": "code",
      "execution_count": 67,
      "metadata": {
        "colab": {
          "base_uri": "https://localhost:8080/"
        },
        "id": "PBVVa_MjCRK8",
        "outputId": "caf13ef8-4d07-4f10-df0e-eaa1cd41a8c8"
      },
      "outputs": [
        {
          "output_type": "execute_result",
          "data": {
            "text/plain": [
              "(534, 16)"
            ]
          },
          "metadata": {},
          "execution_count": 67
        }
      ],
      "source": [
        "X_train_tr.shape"
      ]
    },
    {
      "cell_type": "code",
      "source": [
        "X_test_tr.shape"
      ],
      "metadata": {
        "colab": {
          "base_uri": "https://localhost:8080/"
        },
        "id": "8ncSRADYYY0u",
        "outputId": "5eb22593-6c97-4130-8efc-dfef1cc15774"
      },
      "execution_count": 68,
      "outputs": [
        {
          "output_type": "execute_result",
          "data": {
            "text/plain": [
              "(134, 16)"
            ]
          },
          "metadata": {},
          "execution_count": 68
        }
      ]
    },
    {
      "cell_type": "code",
      "source": [
        "input_shape = X_train_tr.shape[1]"
      ],
      "metadata": {
        "id": "L6aaIeH6YY7m"
      },
      "execution_count": 69,
      "outputs": []
    },
    {
      "cell_type": "markdown",
      "source": [
        "### Model"
      ],
      "metadata": {
        "id": "OnZxoAtCou35"
      }
    },
    {
      "cell_type": "markdown",
      "source": [
        "The top performer models are Random Forest Regressor and XGBoost Regressor. The next step is to do some hyperparameter tuning to each model to see how can we improve the results by reducing prediction error. When choosing the best parameters for each model we are going to use Randomized Search CV which is a good optimizer."
      ],
      "metadata": {
        "id": "IAW-LGuuy8rT"
      }
    },
    {
      "cell_type": "markdown",
      "metadata": {
        "id": "MdF7B4SYuUEO"
      },
      "source": [
        "#### Random Forest Hyptertuning ASIN"
      ]
    },
    {
      "cell_type": "markdown",
      "source": [
        "The first Hyperparameter tuning is for Random Forest Regressor, here the chosen parameters are number of estimators and max features. The optimizer will find the parameters that gives a lower prediction error. For number of estimators the optimizer will choose between 1 and 200. For max features the optimizer will choose between 1 and the amount of features in the Data. The model is going to be fitted based on the training set."
      ],
      "metadata": {
        "id": "Of8kuHfAzw7P"
      }
    },
    {
      "cell_type": "code",
      "execution_count": 70,
      "metadata": {
        "id": "dUWuMlvLuGGb"
      },
      "outputs": [],
      "source": [
        "from scipy.stats import randint\n",
        "param_distribs = {\n",
        "        'n_estimators': randint(low=1, high=200),\n",
        "        'max_features': randint(low=1, high=(input_shape))}"
      ]
    },
    {
      "cell_type": "code",
      "execution_count": 71,
      "metadata": {
        "id": "2i1EDuOLvFtb"
      },
      "outputs": [],
      "source": [
        "rs = RandomizedSearchCV(\n",
        "    estimator=forest_reg, param_distributions=param_distribs, \n",
        "    n_iter=50,\n",
        "    scoring='neg_root_mean_squared_error',\n",
        "    cv=20,\n",
        "    refit=True,\n",
        "    random_state=42,\n",
        "    verbose=True,\n",
        "    n_jobs=-1,\n",
        "    pre_dispatch='2*n_jobs')"
      ]
    },
    {
      "cell_type": "code",
      "execution_count": 72,
      "metadata": {
        "colab": {
          "base_uri": "https://localhost:8080/"
        },
        "id": "q2DSz7IEwJY5",
        "outputId": "175d9e88-4a8b-49a1-8410-0214b4956ad9"
      },
      "outputs": [
        {
          "output_type": "stream",
          "name": "stdout",
          "text": [
            "Fitting 20 folds for each of 50 candidates, totalling 1000 fits\n",
            "Best score reached: -0.36424329752943685 with params: {'max_features': 15, 'n_estimators': 170} \n"
          ]
        }
      ],
      "source": [
        "rs.fit(X_train_tr, y_train)\n",
        "print('Best score reached: {} with params: {} '.format(rs.best_score_, rs.best_params_))"
      ]
    },
    {
      "cell_type": "code",
      "execution_count": 73,
      "metadata": {
        "id": "7nhHq2s5wXQG"
      },
      "outputs": [],
      "source": [
        "asin_best_model_rf = rs.best_estimator_"
      ]
    },
    {
      "cell_type": "markdown",
      "source": [
        "After optimizing with Randomized Search CV we select the best parameters for the model and we can do predictions based on the test set."
      ],
      "metadata": {
        "id": "JtmB9lD20w4v"
      }
    },
    {
      "cell_type": "code",
      "execution_count": 74,
      "metadata": {
        "id": "0lCryMGTwgUK"
      },
      "outputs": [],
      "source": [
        "asin_test_set_predictions_rf = asin_best_model_rf.predict(X_test_tr).flatten()"
      ]
    },
    {
      "cell_type": "markdown",
      "source": [
        "We can visualize the model performance. Also we can observe the error in predictions, and % of accuracy of the model. For error we can use as indicator Root Mean Squared Percentage Error and Root Mean Squared Error. For % accuracy we can use Coefficient of Determination or create a function that gives % accuracy of the model based on Mean Absolute Error. The last one is the one that gives a better understanding of the Model Performance."
      ],
      "metadata": {
        "id": "5-v-Zq4b1Kp4"
      }
    },
    {
      "cell_type": "code",
      "execution_count": 75,
      "metadata": {
        "colab": {
          "base_uri": "https://localhost:8080/",
          "height": 283
        },
        "id": "YxTJhNHbwvfq",
        "outputId": "e9e6eb3a-0d55-4e11-86ee-b5e10afcab4d"
      },
      "outputs": [
        {
          "output_type": "display_data",
          "data": {
            "text/plain": [
              "<Figure size 432x288 with 1 Axes>"
            ],
            "image/png": "[encoded data removed]"
          },
          "metadata": {
            "needs_background": "light"
          }
        }
      ],
      "source": [
        "a = plt.axes(aspect='equal')\n",
        "plt.scatter(y_test, asin_test_set_predictions_rf)\n",
        "plt.xlabel('True Values [Target]')\n",
        "plt.ylabel('Predictions [Target]')\n",
        "lims = [0, 50]\n",
        "plt.xlim(lims)\n",
        "plt.ylim(lims)\n",
        "_ = plt.plot(lims, lims)"
      ]
    },
    {
      "cell_type": "code",
      "execution_count": 76,
      "metadata": {
        "id": "fbQch9KMw-YB"
      },
      "outputs": [],
      "source": [
        "# Function to calculate the root mean squared percentage error\n",
        "def rmspe(y_true, y_pred):\n",
        "    return np.sqrt(np.mean(np.square((y_true - y_pred) / y_true)))"
      ]
    },
    {
      "cell_type": "code",
      "execution_count": 77,
      "metadata": {
        "colab": {
          "base_uri": "https://localhost:8080/"
        },
        "id": "q_G2MC9zxbnw",
        "outputId": "398128f3-ee70-467c-8bbb-4c37125ffd43"
      },
      "outputs": [
        {
          "output_type": "execute_result",
          "data": {
            "text/plain": [
              "0.20773571829215065"
            ]
          },
          "metadata": {},
          "execution_count": 77
        }
      ],
      "source": [
        "rmspe(y_test, asin_test_set_predictions_rf)"
      ]
    },
    {
      "cell_type": "code",
      "execution_count": 78,
      "metadata": {
        "colab": {
          "base_uri": "https://localhost:8080/"
        },
        "id": "TCy5Kq1jnagS",
        "outputId": "ee2a45ee-7ebb-45bd-e7d2-375adaeb511b"
      },
      "outputs": [
        {
          "output_type": "execute_result",
          "data": {
            "text/plain": [
              "1.2488036934081077"
            ]
          },
          "metadata": {},
          "execution_count": 78
        }
      ],
      "source": [
        "mean_squared_error(y_test, asin_test_set_predictions_rf, squared=False)"
      ]
    },
    {
      "cell_type": "code",
      "execution_count": 79,
      "metadata": {
        "colab": {
          "base_uri": "https://localhost:8080/"
        },
        "id": "xyScT5CR-eC_",
        "outputId": "4de5cabf-27ea-4baa-fc9b-740980e8accf"
      },
      "outputs": [
        {
          "output_type": "stream",
          "name": "stdout",
          "text": [
            "Coefficient of Determination 0.907318291057336\n"
          ]
        }
      ],
      "source": [
        "R_square = r2_score(y_test, asin_test_set_predictions_rf) \n",
        "print('Coefficient of Determination', R_square) "
      ]
    },
    {
      "cell_type": "code",
      "source": [
        "def evaluate(model, X_test, y_test) :\n",
        "    prediction = asin_best_model_rf.predict(X_test_tr).flatten()\n",
        "    error = abs(prediction - y_test)\n",
        "    mape = 100 * np.mean(error/y_test)\n",
        "    accuracy = 100 - mape\n",
        "    print('Model Performance')\n",
        "    print('Accuracy = {:0.2f}%.'.format(accuracy))\n",
        "    \n",
        "    return accuracy\n",
        "random_model = asin_best_model_rf\n",
        "evaluate(random_model, X_test_tr, y_test)"
      ],
      "metadata": {
        "colab": {
          "base_uri": "https://localhost:8080/"
        },
        "id": "QB8gAdeqAz47",
        "outputId": "178d160d-0b71-4530-c87e-bcd6b9e2a937"
      },
      "execution_count": 80,
      "outputs": [
        {
          "output_type": "stream",
          "name": "stdout",
          "text": [
            "Model Performance\n",
            "Accuracy = 88.44%.\n"
          ]
        },
        {
          "output_type": "execute_result",
          "data": {
            "text/plain": [
              "88.44341318616999"
            ]
          },
          "metadata": {},
          "execution_count": 80
        }
      ]
    },
    {
      "cell_type": "markdown",
      "source": [
        "#### XGBoost Regressor Hypertuning"
      ],
      "metadata": {
        "id": "1jPdbfa6ANB-"
      }
    },
    {
      "cell_type": "markdown",
      "source": [
        "Another model that performed good was XGBoost Regressor, now we are going to do some Hyerparameter tuning to see if we can improve the performance. To select the best parameters we are also going to use Randomized Search CV optimizer."
      ],
      "metadata": {
        "id": "A_-R2bWvDPPA"
      }
    },
    {
      "cell_type": "code",
      "source": [
        "params = {\n",
        "    'n_estimators':[500],\n",
        "    'min_child_weight':[4,5], \n",
        "    'gamma':[i/10.0 for i in range(3,6)],  \n",
        "    'subsample':[i/10.0 for i in range(6,11)],\n",
        "    'colsample_bytree':[i/10.0 for i in range(6,11)], \n",
        "    'max_depth': [2,3,4,6,7],\n",
        "    'objective': ['reg:squarederror', 'reg:tweedie'],\n",
        "    'booster': ['gbtree', 'gblinear'],\n",
        "    'eval_metric': ['rmse'],\n",
        "    'eta': [i/10.0 for i in range(3,6)],\n",
        "}"
      ],
      "metadata": {
        "id": "79geqsK0ASRd"
      },
      "execution_count": 81,
      "outputs": []
    },
    {
      "cell_type": "code",
      "execution_count": 82,
      "metadata": {
        "id": "aMdWQR78Ae89"
      },
      "outputs": [],
      "source": [
        "x_rc = RandomizedSearchCV(\n",
        "    estimator=xgb_r, param_distributions=params, \n",
        "    n_iter=50,\n",
        "    scoring='neg_root_mean_squared_error',\n",
        "    cv=20,\n",
        "    refit=True,\n",
        "    random_state=42,\n",
        "    verbose=True,\n",
        "    n_jobs=-1,\n",
        "    pre_dispatch='2*n_jobs')"
      ]
    },
    {
      "cell_type": "code",
      "execution_count": 83,
      "metadata": {
        "colab": {
          "base_uri": "https://localhost:8080/"
        },
        "outputId": "42100116-3ac8-4233-df07-c8675fd8e6c8",
        "id": "ZkJt9JlrAe8-"
      },
      "outputs": [
        {
          "output_type": "stream",
          "name": "stdout",
          "text": [
            "Fitting 20 folds for each of 50 candidates, totalling 1000 fits\n",
            "Best score reached: -0.36424329752943685 with params: {'max_features': 15, 'n_estimators': 170} \n"
          ]
        }
      ],
      "source": [
        "x_rc.fit(X_train_tr, y_train)\n",
        "print('Best score reached: {} with params: {} '.format(rs.best_score_, rs.best_params_))"
      ]
    },
    {
      "cell_type": "code",
      "execution_count": 84,
      "metadata": {
        "id": "Zk24P5y8Ae8_"
      },
      "outputs": [],
      "source": [
        "asin_best_model_xg = x_rc.best_estimator_"
      ]
    },
    {
      "cell_type": "markdown",
      "source": [
        "After optimizing with Randomized Search CV we select the best parameters for the model and we can do predictions based on the test set."
      ],
      "metadata": {
        "id": "2WaLxFk1Ae8_"
      }
    },
    {
      "cell_type": "code",
      "execution_count": 85,
      "metadata": {
        "id": "q2nQj1pLAe9A"
      },
      "outputs": [],
      "source": [
        "asin_test_set_predictions_xg = asin_best_model_xg.predict(X_test_tr).flatten()"
      ]
    },
    {
      "cell_type": "markdown",
      "source": [
        "We can visualize the model performance. Also we can observe the error in predictions, and % of accuracy of the model. For error we can use as indicator Root Mean Squared Percentage Error and Root Mean Squared Error. For % accuracy we can use Coefficient of Determination or create a function that gives % accuracy of the model based on Mean Absolute Error. The last one is the one that gives a better understanding of the Model Performance."
      ],
      "metadata": {
        "id": "jPWVJ6UZAe9A"
      }
    },
    {
      "cell_type": "code",
      "execution_count": 86,
      "metadata": {
        "colab": {
          "base_uri": "https://localhost:8080/",
          "height": 283
        },
        "outputId": "beb7648a-5d05-40e5-bc86-1682c67571ad",
        "id": "IYPy4DtRAe9A"
      },
      "outputs": [
        {
          "output_type": "display_data",
          "data": {
            "text/plain": [
              "<Figure size 432x288 with 1 Axes>"
            ],
            "image/png": "[encoded data removed]"
          },
          "metadata": {
            "needs_background": "light"
          }
        }
      ],
      "source": [
        "a = plt.axes(aspect='equal')\n",
        "plt.scatter(y_test, asin_test_set_predictions_xg)\n",
        "plt.xlabel('True Values [Target]')\n",
        "plt.ylabel('Predictions [Target]')\n",
        "lims = [0, 50]\n",
        "plt.xlim(lims)\n",
        "plt.ylim(lims)\n",
        "_ = plt.plot(lims, lims)"
      ]
    },
    {
      "cell_type": "code",
      "execution_count": 87,
      "metadata": {
        "id": "vM2LUQ6BAe9B"
      },
      "outputs": [],
      "source": [
        "# Function to calculate the root mean squared percentage error\n",
        "def rmspe(y_true, y_pred):\n",
        "    return np.sqrt(np.mean(np.square((y_true - y_pred) / y_true)))"
      ]
    },
    {
      "cell_type": "code",
      "execution_count": 88,
      "metadata": {
        "colab": {
          "base_uri": "https://localhost:8080/"
        },
        "outputId": "809e7f1e-5612-4428-b3eb-403d3ce2ea17",
        "id": "ZtpmuL45Ae9C"
      },
      "outputs": [
        {
          "output_type": "execute_result",
          "data": {
            "text/plain": [
              "0.2537502235803575"
            ]
          },
          "metadata": {},
          "execution_count": 88
        }
      ],
      "source": [
        "rmspe(y_test, asin_test_set_predictions_xg)"
      ]
    },
    {
      "cell_type": "code",
      "execution_count": 89,
      "metadata": {
        "colab": {
          "base_uri": "https://localhost:8080/"
        },
        "outputId": "95807124-ccdd-4760-86d0-4f7caad55d73",
        "id": "O-SQb6fhAe9D"
      },
      "outputs": [
        {
          "output_type": "execute_result",
          "data": {
            "text/plain": [
              "1.2723045535479438"
            ]
          },
          "metadata": {},
          "execution_count": 89
        }
      ],
      "source": [
        "mean_squared_error(y_test, asin_test_set_predictions_xg, squared=False)"
      ]
    },
    {
      "cell_type": "code",
      "execution_count": 90,
      "metadata": {
        "colab": {
          "base_uri": "https://localhost:8080/"
        },
        "outputId": "591a6d9c-1ca1-40fa-f9e0-6372b9f66d98",
        "id": "_r9uixYsAe9E"
      },
      "outputs": [
        {
          "output_type": "stream",
          "name": "stdout",
          "text": [
            "Coefficient of Determination 0.9037971701743516\n"
          ]
        }
      ],
      "source": [
        "R_square = r2_score(y_test, asin_test_set_predictions_xg) \n",
        "print('Coefficient of Determination', R_square) "
      ]
    },
    {
      "cell_type": "code",
      "source": [
        "def evaluate(model, X_test, y_test) :\n",
        "    prediction = asin_best_model_xg.predict(X_test_tr).flatten()\n",
        "    error = abs(prediction - y_test)\n",
        "    mape = 100 * np.mean(error/y_test)\n",
        "    accuracy = 100 - mape\n",
        "    print('Model Performance')\n",
        "    print('Accuracy = {:0.2f}%.'.format(accuracy))\n",
        "    \n",
        "    return accuracy\n",
        "random_model = asin_best_model_xg\n",
        "evaluate(random_model, X_test_tr, y_test)"
      ],
      "metadata": {
        "colab": {
          "base_uri": "https://localhost:8080/"
        },
        "outputId": "370d6b92-6c2f-4581-e0c4-712c13172430",
        "id": "SYx7UXGYAe9E"
      },
      "execution_count": 119,
      "outputs": [
        {
          "output_type": "stream",
          "name": "stdout",
          "text": [
            "Model Performance\n",
            "Accuracy = 83.10%.\n"
          ]
        },
        {
          "output_type": "execute_result",
          "data": {
            "text/plain": [
              "83.0969914385519"
            ]
          },
          "metadata": {},
          "execution_count": 119
        }
      ]
    },
    {
      "cell_type": "markdown",
      "metadata": {
        "id": "-iIbcGG08kqa"
      },
      "source": [
        "#### Discount Selection"
      ]
    },
    {
      "cell_type": "markdown",
      "source": [
        "After choosing the Model (Random Forest Regressor) and doing Hyperparameter tuning to improve the performance when predicting Quantities. We can start doing simulations for the Discount Selection. In the simulation the first step is to choose values for the X features to predict Quantities. After predicting Quantities sold we can create new columns to observe profit when applying different Discounts. There are different strategies to choose the best discounts based on a certain date, ASIN, TaxCode, regular price, rating and competition rating. These strategies can be Price Elasticity of Demand or Purchase Rate based on Volume. Now the only one we can try is with Price Elasticity of Demand."
      ],
      "metadata": {
        "id": "lj_sTFfI5eA8"
      }
    },
    {
      "cell_type": "code",
      "execution_count": 146,
      "metadata": {
        "id": "zY1g8cyOyV6l"
      },
      "outputs": [],
      "source": [
        "date = pd.date_range(start='03/01/2022', end='06/01/2022').strftime(\"%m-%d-%Y\").tolist()\n",
        "asin = 'B00FWSK1UE'\n",
        "taxcode = 'A_GEN_STANDARD'\n",
        "regular_price = 57.84\n",
        "competition_rating = 4.5\n",
        "zero = np.array([0])\n",
        "discount_perc = np.arange(10,36)\n",
        "discount_perc = np.append(zero, discount_perc)\n",
        "discount_perc = np.array(discount_perc)\n",
        "rating = 4\n",
        "#total_discount = regular_price * (discount_perc/100)\n",
        "#sale_price = regular_price - total_discount\n",
        "cost = 20"
      ]
    },
    {
      "cell_type": "markdown",
      "source": [
        "When doing the simulation we choose a range of Dates, an ASIN, a TaxCode, a Regular Price, rating, Competition Rating and a range of different discounts, as the purpose of the project is to choose discounts with a max of 35% we simulate with ranges of discounts from 0 to 35. We can choose a fix value of cost to calculate profit."
      ],
      "metadata": {
        "id": "BS__Fj_E6_Bv"
      }
    },
    {
      "cell_type": "code",
      "execution_count": 147,
      "metadata": {
        "colab": {
          "base_uri": "https://localhost:8080/"
        },
        "id": "vzM3nZB14Q08",
        "outputId": "e8ff0028-b3e1-4bcc-bdda-c6d8697a0196"
      },
      "outputs": [
        {
          "output_type": "execute_result",
          "data": {
            "text/plain": [
              "array([ 0, 10, 11, 12, 13, 14, 15, 16, 17, 18, 19, 20, 21, 22, 23, 24, 25,\n",
              "       26, 27, 28, 29, 30, 31, 32, 33, 34, 35])"
            ]
          },
          "metadata": {},
          "execution_count": 147
        }
      ],
      "source": [
        "discount_perc"
      ]
    },
    {
      "cell_type": "code",
      "execution_count": 148,
      "metadata": {
        "id": "GuX2Nkg56svv"
      },
      "outputs": [],
      "source": [
        "discount_shape = discount_perc.shape[0]"
      ]
    },
    {
      "cell_type": "code",
      "execution_count": 149,
      "metadata": {
        "id": "I49vkvPp6Fxk"
      },
      "outputs": [],
      "source": [
        "date = np.repeat(date, discount_shape)"
      ]
    },
    {
      "cell_type": "code",
      "execution_count": 150,
      "metadata": {
        "id": "tXdsfr400WPl"
      },
      "outputs": [],
      "source": [
        "columns = {'Date': date}\n",
        "date = pd.DataFrame(data = columns)"
      ]
    },
    {
      "cell_type": "code",
      "execution_count": 151,
      "metadata": {
        "colab": {
          "base_uri": "https://localhost:8080/",
          "height": 206
        },
        "id": "bOReDyhK7W43",
        "outputId": "d4ba2ff2-7b7a-40ec-d981-d0ba800927f7"
      },
      "outputs": [
        {
          "output_type": "execute_result",
          "data": {
            "text/plain": [
              "         Date\n",
              "0  03-01-2022\n",
              "1  03-01-2022\n",
              "2  03-01-2022\n",
              "3  03-01-2022\n",
              "4  03-01-2022"
            ],
            "text/html": [
              "\n",
              "  <div id=\"df-a7bcbe68-ea9b-4922-811b-b3fbc55f3fce\">\n",
              "    <div class=\"colab-df-container\">\n",
              "      <div>\n",
              "<style scoped>\n",
              "    .dataframe tbody tr th:only-of-type {\n",
              "        vertical-align: middle;\n",
              "    }\n",
              "\n",
              "    .dataframe tbody tr th {\n",
              "        vertical-align: top;\n",
              "    }\n",
              "\n",
              "    .dataframe thead th {\n",
              "        text-align: right;\n",
              "    }\n",
              "</style>\n",
              "<table border=\"1\" class=\"dataframe\">\n",
              "  <thead>\n",
              "    <tr style=\"text-align: right;\">\n",
              "      <th></th>\n",
              "      <th>Date</th>\n",
              "    </tr>\n",
              "  </thead>\n",
              "  <tbody>\n",
              "    <tr>\n",
              "      <th>0</th>\n",
              "      <td>03-01-2022</td>\n",
              "    </tr>\n",
              "    <tr>\n",
              "      <th>1</th>\n",
              "      <td>03-01-2022</td>\n",
              "    </tr>\n",
              "    <tr>\n",
              "      <th>2</th>\n",
              "      <td>03-01-2022</td>\n",
              "    </tr>\n",
              "    <tr>\n",
              "      <th>3</th>\n",
              "      <td>03-01-2022</td>\n",
              "    </tr>\n",
              "    <tr>\n",
              "      <th>4</th>\n",
              "      <td>03-01-2022</td>\n",
              "    </tr>\n",
              "  </tbody>\n",
              "</table>\n",
              "</div>\n",
              "      <button class=\"colab-df-convert\" onclick=\"convertToInteractive('df-a7bcbe68-ea9b-4922-811b-b3fbc55f3fce')\"\n",
              "              title=\"Convert this dataframe to an interactive table.\"\n",
              "              style=\"display:none;\">\n",
              "        \n",
              "  <svg xmlns=\"http://www.w3.org/2000/svg\" height=\"24px\"viewBox=\"0 0 24 24\"\n",
              "       width=\"24px\">\n",
              "    <path d=\"M0 0h24v24H0V0z\" fill=\"none\"/>\n",
              "    <path d=\"M18.56 5.44l.94 2.06.94-2.06 2.06-.94-2.06-.94-.94-2.06-.94 2.06-2.06.94zm-11 1L8.5 8.5l.94-2.06 2.06-.94-2.06-.94L8.5 2.5l-.94 2.06-2.06.94zm10 10l.94 2.06.94-2.06 2.06-.94-2.06-.94-.94-2.06-.94 2.06-2.06.94z\"/><path d=\"M17.41 7.96l-1.37-1.37c-.4-.4-.92-.59-1.43-.59-.52 0-1.04.2-1.43.59L10.3 9.45l-7.72 7.72c-.78.78-.78 2.05 0 2.83L4 21.41c.39.39.9.59 1.41.59.51 0 1.02-.2 1.41-.59l7.78-7.78 2.81-2.81c.8-.78.8-2.07 0-2.86zM5.41 20L4 18.59l7.72-7.72 1.47 1.35L5.41 20z\"/>\n",
              "  </svg>\n",
              "      </button>\n",
              "      \n",
              "  <style>\n",
              "    .colab-df-container {\n",
              "      display:flex;\n",
              "      flex-wrap:wrap;\n",
              "      gap: 12px;\n",
              "    }\n",
              "\n",
              "    .colab-df-convert {\n",
              "      background-color: #E8F0FE;\n",
              "      border: none;\n",
              "      border-radius: 50%;\n",
              "      cursor: pointer;\n",
              "      display: none;\n",
              "      fill: #1967D2;\n",
              "      height: 32px;\n",
              "      padding: 0 0 0 0;\n",
              "      width: 32px;\n",
              "    }\n",
              "\n",
              "    .colab-df-convert:hover {\n",
              "      background-color: #E2EBFA;\n",
              "      box-shadow: 0px 1px 2px rgba(60, 64, 67, 0.3), 0px 1px 3px 1px rgba(60, 64, 67, 0.15);\n",
              "      fill: #174EA6;\n",
              "    }\n",
              "\n",
              "    [theme=dark] .colab-df-convert {\n",
              "      background-color: #3B4455;\n",
              "      fill: #D2E3FC;\n",
              "    }\n",
              "\n",
              "    [theme=dark] .colab-df-convert:hover {\n",
              "      background-color: #434B5C;\n",
              "      box-shadow: 0px 1px 3px 1px rgba(0, 0, 0, 0.15);\n",
              "      filter: drop-shadow(0px 1px 2px rgba(0, 0, 0, 0.3));\n",
              "      fill: #FFFFFF;\n",
              "    }\n",
              "  </style>\n",
              "\n",
              "      <script>\n",
              "        const buttonEl =\n",
              "          document.querySelector('#df-a7bcbe68-ea9b-4922-811b-b3fbc55f3fce button.colab-df-convert');\n",
              "        buttonEl.style.display =\n",
              "          google.colab.kernel.accessAllowed ? 'block' : 'none';\n",
              "\n",
              "        async function convertToInteractive(key) {\n",
              "          const element = document.querySelector('#df-a7bcbe68-ea9b-4922-811b-b3fbc55f3fce');\n",
              "          const dataTable =\n",
              "            await google.colab.kernel.invokeFunction('convertToInteractive',\n",
              "                                                     [key], {});\n",
              "          if (!dataTable) return;\n",
              "\n",
              "          const docLinkHtml = 'Like what you see? Visit the ' +\n",
              "            '<a target=\"_blank\" href=https://colab.research.google.com/notebooks/data_table.ipynb>data table notebook</a>'\n",
              "            + ' to learn more about interactive tables.';\n",
              "          element.innerHTML = '';\n",
              "          dataTable['output_type'] = 'display_data';\n",
              "          await google.colab.output.renderOutput(dataTable, element);\n",
              "          const docLink = document.createElement('div');\n",
              "          docLink.innerHTML = docLinkHtml;\n",
              "          element.appendChild(docLink);\n",
              "        }\n",
              "      </script>\n",
              "    </div>\n",
              "  </div>\n",
              "  "
            ]
          },
          "metadata": {},
          "execution_count": 151
        }
      ],
      "source": [
        "date.head()"
      ]
    },
    {
      "cell_type": "code",
      "execution_count": 152,
      "metadata": {
        "id": "KN1bGvRQaKWR"
      },
      "outputs": [],
      "source": [
        "#date = [date[i:i+1] for i in range(0, len(date), 1)]\n",
        "#date"
      ]
    },
    {
      "cell_type": "code",
      "execution_count": 153,
      "metadata": {
        "id": "QfUSzW5RacJQ"
      },
      "outputs": [],
      "source": [
        "discount_perc = discount_perc.tolist()\n",
        "#total_discount = total_discount.tolist()\n",
        "#sale_price = sale_price.tolist()"
      ]
    },
    {
      "cell_type": "code",
      "execution_count": 154,
      "metadata": {
        "colab": {
          "base_uri": "https://localhost:8080/"
        },
        "id": "EWQXqyTOEoDt",
        "outputId": "238d0bf9-7a41-488d-b890-26cb48794a49"
      },
      "outputs": [
        {
          "output_type": "execute_result",
          "data": {
            "text/plain": [
              "93"
            ]
          },
          "metadata": {},
          "execution_count": 154
        }
      ],
      "source": [
        "count_unique_dates = date['Date'].nunique()\n",
        "count_unique_dates"
      ]
    },
    {
      "cell_type": "code",
      "execution_count": 155,
      "metadata": {
        "id": "SUXc4K6Uy5Hm"
      },
      "outputs": [],
      "source": [
        "date['Perc. Discount'] = discount_perc * count_unique_dates"
      ]
    },
    {
      "cell_type": "code",
      "execution_count": 156,
      "metadata": {
        "id": "Wri7mOAn9JXP"
      },
      "outputs": [],
      "source": [
        "maximization = date.copy()"
      ]
    },
    {
      "cell_type": "code",
      "execution_count": 157,
      "metadata": {
        "id": "iAUaWfpHeJRb"
      },
      "outputs": [],
      "source": [
        "#discount_perc = pd.DataFrame(discount_perc)\n",
        "#total_discount = pd.DataFrame(total_discount)\n",
        "#sale_price = pd.DataFrame(sale_price)"
      ]
    },
    {
      "cell_type": "markdown",
      "source": [
        "The first step is to create a Dataframe with the same X features as our training dataset. The reason for this is to be able to predict quantities sold. The Dataframe will include all the values used in the simulation."
      ],
      "metadata": {
        "id": "JHTpoAsJ7moZ"
      }
    },
    {
      "cell_type": "code",
      "execution_count": 158,
      "metadata": {
        "id": "vNcqFd87Y6ic"
      },
      "outputs": [],
      "source": [
        "maximization = pd.DataFrame(maximization)"
      ]
    },
    {
      "cell_type": "code",
      "execution_count": 159,
      "metadata": {
        "id": "9_5cwBLsfRDB"
      },
      "outputs": [],
      "source": [
        "#maximization['Perc. Discount'] = discount_perc\n",
        "#maximization['Date'] = date\n",
        "maximization['ASIN'] = [asin][0]    \n",
        "maximization['TaxCode'] = [taxcode][0]\n",
        "maximization['RegularPrice'] = [regular_price][0]\n",
        "maximization['Total Discount'] = maximization['RegularPrice'] * (maximization['Perc. Discount']/100)\n",
        "maximization['Sale Price'] = maximization['RegularPrice'] - maximization['Total Discount']\n",
        "maximization['competition_rating'] = [competition_rating][0]\n",
        "#maximization['Cost'] = [cost][0]"
      ]
    },
    {
      "cell_type": "code",
      "execution_count": 160,
      "metadata": {
        "id": "nURIF4534326"
      },
      "outputs": [],
      "source": [
        "maximization['Date'] = pd.to_datetime(maximization['Date'])\n",
        "maximization['day'] = maximization['Date'].dt.day\n",
        "maximization['week_of_year'] = maximization['Date'].dt.isocalendar().week\n",
        "maximization['month'] = maximization['Date'].dt.month\n",
        "maximization['month_start'] = maximization['Date'].dt.is_month_start\n",
        "maximization['month_end'] = maximization['Date'].dt.is_month_end\n",
        "maximization['year'] = maximization['Date'].dt.year\n",
        "maximization['quarter'] = maximization['Date'].dt.quarter\n",
        "maximization['rating'] = [rating][0] "
      ]
    },
    {
      "cell_type": "code",
      "execution_count": 161,
      "metadata": {
        "colab": {
          "base_uri": "https://localhost:8080/"
        },
        "id": "nmPbYqzm5lsD",
        "outputId": "d7a17565-f9de-475f-ee6d-73b1b2b752c5"
      },
      "outputs": [
        {
          "output_type": "execute_result",
          "data": {
            "text/plain": [
              "Index(['ASIN', 'TaxCode', 'RegularPrice', 'Total Discount', 'Sale Price',\n",
              "       'Perc. Discount', 'day', 'week_of_year', 'month', 'month_start',\n",
              "       'month_end', 'year', 'quarter', 'rating', 'competition_rating'],\n",
              "      dtype='object')"
            ]
          },
          "metadata": {},
          "execution_count": 161
        }
      ],
      "source": [
        "X_train.columns"
      ]
    },
    {
      "cell_type": "markdown",
      "source": [
        "Here we order the columns so there is no problem when predicting."
      ],
      "metadata": {
        "id": "Ycja5-Yq8Cj2"
      }
    },
    {
      "cell_type": "code",
      "execution_count": 162,
      "metadata": {
        "id": "9Rh__mqcD0LA"
      },
      "outputs": [],
      "source": [
        "maximization = maximization[['Date', 'ASIN', 'TaxCode', 'RegularPrice', 'Total Discount', 'Sale Price',\n",
        "       'Perc. Discount', 'day', 'week_of_year', 'month', 'month_start', 'month_end',\n",
        "       'year', 'quarter', 'rating', 'competition_rating']]   "
      ]
    },
    {
      "cell_type": "code",
      "execution_count": 163,
      "metadata": {
        "id": "YpCUMY8M84zL"
      },
      "outputs": [],
      "source": [
        "maximization = maximization.drop(columns =  ['Date'])"
      ]
    },
    {
      "cell_type": "code",
      "execution_count": 164,
      "metadata": {
        "id": "miQ8Gy2W9Llt"
      },
      "outputs": [],
      "source": [
        "maximization_tr = full_pipeline.fit_transform(maximization)"
      ]
    },
    {
      "cell_type": "markdown",
      "source": [
        "Here we predict quantities."
      ],
      "metadata": {
        "id": "qnoGi54A8Niu"
      }
    },
    {
      "cell_type": "code",
      "execution_count": 165,
      "metadata": {
        "id": "__qO4aOD9mIQ"
      },
      "outputs": [],
      "source": [
        "asin_max_set_predictions_rf = asin_best_model_rf.predict(maximization_tr).flatten()"
      ]
    },
    {
      "cell_type": "markdown",
      "source": [
        "After predicting quantities we can start creating new columns for analysis purposes. We can create one for sales, cost and profit."
      ],
      "metadata": {
        "id": "J-xEFe_Y8RW8"
      }
    },
    {
      "cell_type": "code",
      "execution_count": 166,
      "metadata": {
        "id": "MEx2mtjmDM7P"
      },
      "outputs": [],
      "source": [
        "maximization['Total Discount'] = maximization['RegularPrice'] * (maximization['Perc. Discount']/100)"
      ]
    },
    {
      "cell_type": "code",
      "execution_count": 167,
      "metadata": {
        "id": "jNiwny1Y-aUj"
      },
      "outputs": [],
      "source": [
        "maximization['Qty'] = asin_max_set_predictions_rf"
      ]
    },
    {
      "cell_type": "code",
      "execution_count": 168,
      "metadata": {
        "id": "taKLQEM8-v-y"
      },
      "outputs": [],
      "source": [
        "maximization['Sales'] = maximization['Qty'] * maximization['Sale Price']\n",
        "#maximization['revenue_discount'] = maximization['Sale Price'] * maximization['Qty']\n",
        "#maximization['revenue'] = (maximization['RegularPrice'] * maximization['Qty'])\n",
        "maximization['Cost'] = [cost][0]\n",
        "maximization['profit'] = maximization ['Sales'] - (maximization['Cost'] * maximization['Qty'])\n",
        "#maximization['profit_discount'] = maximization ['revenue_discount'] - (maximization['Cost'] * maximization['Qty'])\n",
        "#maximization['profit_gain'] = maximization['profit_discount'] - maximization['profit']"
      ]
    },
    {
      "cell_type": "markdown",
      "source": [
        "To do a simulation for a centain month we can do a group by, this simulation will help you choose which is going to be the best discount for a certain month in the year."
      ],
      "metadata": {
        "id": "1TQiJJnO8izy"
      }
    },
    {
      "cell_type": "code",
      "execution_count": 169,
      "metadata": {
        "id": "Gzadqi0d_0Rw"
      },
      "outputs": [],
      "source": [
        "maximization = maximization.groupby(by = ['month', 'Perc. Discount']).agg({'Sale Price': 'mean', 'Qty': 'sum',\n",
        "                                                                           'Sales': 'sum', 'Cost': 'sum', 'profit': 'sum'}).reset_index()\n",
        "#maximization_mes[['month', 'Perc. Discount', 'Sale Price', 'Qty', 'Sales', 'Cost', 'profit']]"
      ]
    },
    {
      "cell_type": "code",
      "execution_count": 170,
      "metadata": {
        "id": "pS975eBp8enM"
      },
      "outputs": [],
      "source": [
        "maximization_mes = maximization.loc[maximization['month']< maximization['month'].max()]"
      ]
    },
    {
      "cell_type": "markdown",
      "source": [
        "After doing the predictions of quantities sold and creating new columns we can start applying the strategy chosen for discount selection. The following strategy is Price Elasticity of Demand. Price elasticity of demand is the ratio of the percentage change in quantity demanded of a product to the percentage change in price. Economists employ it to understand how supply and demand change when a product's price changes. When Price Elasticity of Demand if greater or equal to 1 that means that demand is elastic, demand will be very sensitive to the change of prices. If price elasticity of demand is closer to 0 that means that demand is inelastic, when prices change demand is less sensitive to that change in prices. When Price elasticity of demand is 0 that means that is perfectly inelastic, meaning there is no change in demand when prices change. This is a good strategy when choosing discounts as it will tell how will customers will react when a discount is applied. However, other strategies can be used such as Purchase Rate, but to do this we need volume of people searching the product. How will the customer react to each discount?"
      ],
      "metadata": {
        "id": "TzPKPeQq9B7X"
      }
    },
    {
      "cell_type": "code",
      "execution_count": 171,
      "metadata": {
        "id": "I6l0AZ8F7NrB"
      },
      "outputs": [],
      "source": [
        "maximization_mes = maximization_mes.loc[(maximization_mes['month'] == 5) & (maximization_mes['Perc. Discount'] > 0)]\n",
        "maximization_mes[\"% Change in Demand\"] = maximization_mes[\"Qty\"].pct_change()\n",
        "maximization_mes[\"% Change in Price\"] = maximization_mes[\"Sale Price\"].pct_change()\n",
        "maximization_mes['price_elasticity'] = maximization_mes[\"% Change in Demand\"] / maximization_mes[\"% Change in Price\"]\n"
      ]
    },
    {
      "cell_type": "code",
      "source": [
        "maximization_mes"
      ],
      "metadata": {
        "colab": {
          "base_uri": "https://localhost:8080/",
          "height": 864
        },
        "id": "Dtty4DPiOmVF",
        "outputId": "17d162ee-5525-404e-ed8b-695e73aa5336"
      },
      "execution_count": 173,
      "outputs": [
        {
          "output_type": "execute_result",
          "data": {
            "text/plain": [
              "    month  Perc. Discount  Sale Price         Qty         Sales  Cost  \\\n",
              "55      5              10     52.0560  274.800000  14304.988800   620   \n",
              "56      5              11     51.4776  275.905882  14202.972649   620   \n",
              "57      5              12     50.8992  278.100000  14155.067520   620   \n",
              "58      5              13     50.3208  275.982353  13887.652786   620   \n",
              "59      5              14     49.7424  273.135294  13586.405054   620   \n",
              "60      5              15     49.1640  265.811765  13068.369600   620   \n",
              "61      5              16     48.5856  250.041176  12148.400584   620   \n",
              "62      5              17     48.0072  240.100000  11526.528720   620   \n",
              "63      5              18     47.4288  231.576471  10983.394108   620   \n",
              "64      5              19     46.8504  220.005882  10307.363591   620   \n",
              "65      5              20     46.2720  212.800000   9846.681600   620   \n",
              "66      5              21     45.6936  195.664706   8940.624805   620   \n",
              "67      5              22     45.1152  177.576471   8011.397986   620   \n",
              "68      5              23     44.5368  162.117647   7220.201224   620   \n",
              "69      5              24     43.9584  151.894118   6677.022381   620   \n",
              "70      5              25     43.3800  145.164706   6297.244941   620   \n",
              "71      5              26     42.8016  125.658824   5378.398701   620   \n",
              "72      5              27     42.2232  121.464706   5128.628569   620   \n",
              "73      5              28     41.6448  121.464706   5058.373384   620   \n",
              "74      5              29     41.0664  121.464706   4988.118198   620   \n",
              "75      5              30     40.4880  121.464706   4917.863012   620   \n",
              "76      5              31     39.9096  121.464706   4847.607826   620   \n",
              "77      5              32     39.3312  121.464706   4777.352640   620   \n",
              "78      5              33     38.7528  121.464706   4707.097454   620   \n",
              "79      5              34     38.1744  121.464706   4636.842268   620   \n",
              "80      5              35     37.5960  121.464706   4566.587082   620   \n",
              "\n",
              "         profit  % Change in Demand  % Change in Price  price_elasticity  \n",
              "55  8808.988800                 NaN                NaN               NaN  \n",
              "56  8684.855002            0.004024          -0.011111         -0.362189  \n",
              "57  8593.067520            0.007952          -0.011236         -0.707765  \n",
              "58  8368.005727           -0.007615          -0.011364          0.670093  \n",
              "59  8123.699172           -0.010316          -0.011494          0.897500  \n",
              "60  7752.134306           -0.026813          -0.011628          2.305903  \n",
              "61  7147.577054           -0.059330          -0.011765          5.043042  \n",
              "62  6724.528720           -0.039758          -0.011905          3.339685  \n",
              "63  6351.864696           -0.035500          -0.012048          2.946493  \n",
              "64  5907.245944           -0.049964          -0.012195          4.097084  \n",
              "65  5590.681600           -0.032753          -0.012346          2.653004  \n",
              "66  5027.330687           -0.080523          -0.012500          6.441840  \n",
              "67  4459.868574           -0.092445          -0.012658          7.303160  \n",
              "68  3977.848282           -0.087054          -0.012821          6.790248  \n",
              "69  3639.140028           -0.063062          -0.012987          4.855806  \n",
              "70  3393.950824           -0.044303          -0.013158          3.367051  \n",
              "71  2865.222231           -0.134371          -0.013333         10.077802  \n",
              "72  2699.334452           -0.033377          -0.013514          2.469900  \n",
              "73  2629.079266            0.000000          -0.013699         -0.000000  \n",
              "74  2558.824080            0.000000          -0.013889         -0.000000  \n",
              "75  2488.568894            0.000000          -0.014085         -0.000000  \n",
              "76  2418.313708            0.000000          -0.014286         -0.000000  \n",
              "77  2348.058522            0.000000          -0.014493         -0.000000  \n",
              "78  2277.803336            0.000000          -0.014706         -0.000000  \n",
              "79  2207.548151            0.000000          -0.014925         -0.000000  \n",
              "80  2137.292965            0.000000          -0.015152         -0.000000  "
            ],
            "text/html": [
              "\n",
              "  <div id=\"df-7c1a2c72-26b9-4902-9654-2b7dfcca790b\">\n",
              "    <div class=\"colab-df-container\">\n",
              "      <div>\n",
              "<style scoped>\n",
              "    .dataframe tbody tr th:only-of-type {\n",
              "        vertical-align: middle;\n",
              "    }\n",
              "\n",
              "    .dataframe tbody tr th {\n",
              "        vertical-align: top;\n",
              "    }\n",
              "\n",
              "    .dataframe thead th {\n",
              "        text-align: right;\n",
              "    }\n",
              "</style>\n",
              "<table border=\"1\" class=\"dataframe\">\n",
              "  <thead>\n",
              "    <tr style=\"text-align: right;\">\n",
              "      <th></th>\n",
              "      <th>month</th>\n",
              "      <th>Perc. Discount</th>\n",
              "      <th>Sale Price</th>\n",
              "      <th>Qty</th>\n",
              "      <th>Sales</th>\n",
              "      <th>Cost</th>\n",
              "      <th>profit</th>\n",
              "      <th>% Change in Demand</th>\n",
              "      <th>% Change in Price</th>\n",
              "      <th>price_elasticity</th>\n",
              "    </tr>\n",
              "  </thead>\n",
              "  <tbody>\n",
              "    <tr>\n",
              "      <th>55</th>\n",
              "      <td>5</td>\n",
              "      <td>10</td>\n",
              "      <td>52.0560</td>\n",
              "      <td>274.800000</td>\n",
              "      <td>14304.988800</td>\n",
              "      <td>620</td>\n",
              "      <td>8808.988800</td>\n",
              "      <td>NaN</td>\n",
              "      <td>NaN</td>\n",
              "      <td>NaN</td>\n",
              "    </tr>\n",
              "    <tr>\n",
              "      <th>56</th>\n",
              "      <td>5</td>\n",
              "      <td>11</td>\n",
              "      <td>51.4776</td>\n",
              "      <td>275.905882</td>\n",
              "      <td>14202.972649</td>\n",
              "      <td>620</td>\n",
              "      <td>8684.855002</td>\n",
              "      <td>0.004024</td>\n",
              "      <td>-0.011111</td>\n",
              "      <td>-0.362189</td>\n",
              "    </tr>\n",
              "    <tr>\n",
              "      <th>57</th>\n",
              "      <td>5</td>\n",
              "      <td>12</td>\n",
              "      <td>50.8992</td>\n",
              "      <td>278.100000</td>\n",
              "      <td>14155.067520</td>\n",
              "      <td>620</td>\n",
              "      <td>8593.067520</td>\n",
              "      <td>0.007952</td>\n",
              "      <td>-0.011236</td>\n",
              "      <td>-0.707765</td>\n",
              "    </tr>\n",
              "    <tr>\n",
              "      <th>58</th>\n",
              "      <td>5</td>\n",
              "      <td>13</td>\n",
              "      <td>50.3208</td>\n",
              "      <td>275.982353</td>\n",
              "      <td>13887.652786</td>\n",
              "      <td>620</td>\n",
              "      <td>8368.005727</td>\n",
              "      <td>-0.007615</td>\n",
              "      <td>-0.011364</td>\n",
              "      <td>0.670093</td>\n",
              "    </tr>\n",
              "    <tr>\n",
              "      <th>59</th>\n",
              "      <td>5</td>\n",
              "      <td>14</td>\n",
              "      <td>49.7424</td>\n",
              "      <td>273.135294</td>\n",
              "      <td>13586.405054</td>\n",
              "      <td>620</td>\n",
              "      <td>8123.699172</td>\n",
              "      <td>-0.010316</td>\n",
              "      <td>-0.011494</td>\n",
              "      <td>0.897500</td>\n",
              "    </tr>\n",
              "    <tr>\n",
              "      <th>60</th>\n",
              "      <td>5</td>\n",
              "      <td>15</td>\n",
              "      <td>49.1640</td>\n",
              "      <td>265.811765</td>\n",
              "      <td>13068.369600</td>\n",
              "      <td>620</td>\n",
              "      <td>7752.134306</td>\n",
              "      <td>-0.026813</td>\n",
              "      <td>-0.011628</td>\n",
              "      <td>2.305903</td>\n",
              "    </tr>\n",
              "    <tr>\n",
              "      <th>61</th>\n",
              "      <td>5</td>\n",
              "      <td>16</td>\n",
              "      <td>48.5856</td>\n",
              "      <td>250.041176</td>\n",
              "      <td>12148.400584</td>\n",
              "      <td>620</td>\n",
              "      <td>7147.577054</td>\n",
              "      <td>-0.059330</td>\n",
              "      <td>-0.011765</td>\n",
              "      <td>5.043042</td>\n",
              "    </tr>\n",
              "    <tr>\n",
              "      <th>62</th>\n",
              "      <td>5</td>\n",
              "      <td>17</td>\n",
              "      <td>48.0072</td>\n",
              "      <td>240.100000</td>\n",
              "      <td>11526.528720</td>\n",
              "      <td>620</td>\n",
              "      <td>6724.528720</td>\n",
              "      <td>-0.039758</td>\n",
              "      <td>-0.011905</td>\n",
              "      <td>3.339685</td>\n",
              "    </tr>\n",
              "    <tr>\n",
              "      <th>63</th>\n",
              "      <td>5</td>\n",
              "      <td>18</td>\n",
              "      <td>47.4288</td>\n",
              "      <td>231.576471</td>\n",
              "      <td>10983.394108</td>\n",
              "      <td>620</td>\n",
              "      <td>6351.864696</td>\n",
              "      <td>-0.035500</td>\n",
              "      <td>-0.012048</td>\n",
              "      <td>2.946493</td>\n",
              "    </tr>\n",
              "    <tr>\n",
              "      <th>64</th>\n",
              "      <td>5</td>\n",
              "      <td>19</td>\n",
              "      <td>46.8504</td>\n",
              "      <td>220.005882</td>\n",
              "      <td>10307.363591</td>\n",
              "      <td>620</td>\n",
              "      <td>5907.245944</td>\n",
              "      <td>-0.049964</td>\n",
              "      <td>-0.012195</td>\n",
              "      <td>4.097084</td>\n",
              "    </tr>\n",
              "    <tr>\n",
              "      <th>65</th>\n",
              "      <td>5</td>\n",
              "      <td>20</td>\n",
              "      <td>46.2720</td>\n",
              "      <td>212.800000</td>\n",
              "      <td>9846.681600</td>\n",
              "      <td>620</td>\n",
              "      <td>5590.681600</td>\n",
              "      <td>-0.032753</td>\n",
              "      <td>-0.012346</td>\n",
              "      <td>2.653004</td>\n",
              "    </tr>\n",
              "    <tr>\n",
              "      <th>66</th>\n",
              "      <td>5</td>\n",
              "      <td>21</td>\n",
              "      <td>45.6936</td>\n",
              "      <td>195.664706</td>\n",
              "      <td>8940.624805</td>\n",
              "      <td>620</td>\n",
              "      <td>5027.330687</td>\n",
              "      <td>-0.080523</td>\n",
              "      <td>-0.012500</td>\n",
              "      <td>6.441840</td>\n",
              "    </tr>\n",
              "    <tr>\n",
              "      <th>67</th>\n",
              "      <td>5</td>\n",
              "      <td>22</td>\n",
              "      <td>45.1152</td>\n",
              "      <td>177.576471</td>\n",
              "      <td>8011.397986</td>\n",
              "      <td>620</td>\n",
              "      <td>4459.868574</td>\n",
              "      <td>-0.092445</td>\n",
              "      <td>-0.012658</td>\n",
              "      <td>7.303160</td>\n",
              "    </tr>\n",
              "    <tr>\n",
              "      <th>68</th>\n",
              "      <td>5</td>\n",
              "      <td>23</td>\n",
              "      <td>44.5368</td>\n",
              "      <td>162.117647</td>\n",
              "      <td>7220.201224</td>\n",
              "      <td>620</td>\n",
              "      <td>3977.848282</td>\n",
              "      <td>-0.087054</td>\n",
              "      <td>-0.012821</td>\n",
              "      <td>6.790248</td>\n",
              "    </tr>\n",
              "    <tr>\n",
              "      <th>69</th>\n",
              "      <td>5</td>\n",
              "      <td>24</td>\n",
              "      <td>43.9584</td>\n",
              "      <td>151.894118</td>\n",
              "      <td>6677.022381</td>\n",
              "      <td>620</td>\n",
              "      <td>3639.140028</td>\n",
              "      <td>-0.063062</td>\n",
              "      <td>-0.012987</td>\n",
              "      <td>4.855806</td>\n",
              "    </tr>\n",
              "    <tr>\n",
              "      <th>70</th>\n",
              "      <td>5</td>\n",
              "      <td>25</td>\n",
              "      <td>43.3800</td>\n",
              "      <td>145.164706</td>\n",
              "      <td>6297.244941</td>\n",
              "      <td>620</td>\n",
              "      <td>3393.950824</td>\n",
              "      <td>-0.044303</td>\n",
              "      <td>-0.013158</td>\n",
              "      <td>3.367051</td>\n",
              "    </tr>\n",
              "    <tr>\n",
              "      <th>71</th>\n",
              "      <td>5</td>\n",
              "      <td>26</td>\n",
              "      <td>42.8016</td>\n",
              "      <td>125.658824</td>\n",
              "      <td>5378.398701</td>\n",
              "      <td>620</td>\n",
              "      <td>2865.222231</td>\n",
              "      <td>-0.134371</td>\n",
              "      <td>-0.013333</td>\n",
              "      <td>10.077802</td>\n",
              "    </tr>\n",
              "    <tr>\n",
              "      <th>72</th>\n",
              "      <td>5</td>\n",
              "      <td>27</td>\n",
              "      <td>42.2232</td>\n",
              "      <td>121.464706</td>\n",
              "      <td>5128.628569</td>\n",
              "      <td>620</td>\n",
              "      <td>2699.334452</td>\n",
              "      <td>-0.033377</td>\n",
              "      <td>-0.013514</td>\n",
              "      <td>2.469900</td>\n",
              "    </tr>\n",
              "    <tr>\n",
              "      <th>73</th>\n",
              "      <td>5</td>\n",
              "      <td>28</td>\n",
              "      <td>41.6448</td>\n",
              "      <td>121.464706</td>\n",
              "      <td>5058.373384</td>\n",
              "      <td>620</td>\n",
              "      <td>2629.079266</td>\n",
              "      <td>0.000000</td>\n",
              "      <td>-0.013699</td>\n",
              "      <td>-0.000000</td>\n",
              "    </tr>\n",
              "    <tr>\n",
              "      <th>74</th>\n",
              "      <td>5</td>\n",
              "      <td>29</td>\n",
              "      <td>41.0664</td>\n",
              "      <td>121.464706</td>\n",
              "      <td>4988.118198</td>\n",
              "      <td>620</td>\n",
              "      <td>2558.824080</td>\n",
              "      <td>0.000000</td>\n",
              "      <td>-0.013889</td>\n",
              "      <td>-0.000000</td>\n",
              "    </tr>\n",
              "    <tr>\n",
              "      <th>75</th>\n",
              "      <td>5</td>\n",
              "      <td>30</td>\n",
              "      <td>40.4880</td>\n",
              "      <td>121.464706</td>\n",
              "      <td>4917.863012</td>\n",
              "      <td>620</td>\n",
              "      <td>2488.568894</td>\n",
              "      <td>0.000000</td>\n",
              "      <td>-0.014085</td>\n",
              "      <td>-0.000000</td>\n",
              "    </tr>\n",
              "    <tr>\n",
              "      <th>76</th>\n",
              "      <td>5</td>\n",
              "      <td>31</td>\n",
              "      <td>39.9096</td>\n",
              "      <td>121.464706</td>\n",
              "      <td>4847.607826</td>\n",
              "      <td>620</td>\n",
              "      <td>2418.313708</td>\n",
              "      <td>0.000000</td>\n",
              "      <td>-0.014286</td>\n",
              "      <td>-0.000000</td>\n",
              "    </tr>\n",
              "    <tr>\n",
              "      <th>77</th>\n",
              "      <td>5</td>\n",
              "      <td>32</td>\n",
              "      <td>39.3312</td>\n",
              "      <td>121.464706</td>\n",
              "      <td>4777.352640</td>\n",
              "      <td>620</td>\n",
              "      <td>2348.058522</td>\n",
              "      <td>0.000000</td>\n",
              "      <td>-0.014493</td>\n",
              "      <td>-0.000000</td>\n",
              "    </tr>\n",
              "    <tr>\n",
              "      <th>78</th>\n",
              "      <td>5</td>\n",
              "      <td>33</td>\n",
              "      <td>38.7528</td>\n",
              "      <td>121.464706</td>\n",
              "      <td>4707.097454</td>\n",
              "      <td>620</td>\n",
              "      <td>2277.803336</td>\n",
              "      <td>0.000000</td>\n",
              "      <td>-0.014706</td>\n",
              "      <td>-0.000000</td>\n",
              "    </tr>\n",
              "    <tr>\n",
              "      <th>79</th>\n",
              "      <td>5</td>\n",
              "      <td>34</td>\n",
              "      <td>38.1744</td>\n",
              "      <td>121.464706</td>\n",
              "      <td>4636.842268</td>\n",
              "      <td>620</td>\n",
              "      <td>2207.548151</td>\n",
              "      <td>0.000000</td>\n",
              "      <td>-0.014925</td>\n",
              "      <td>-0.000000</td>\n",
              "    </tr>\n",
              "    <tr>\n",
              "      <th>80</th>\n",
              "      <td>5</td>\n",
              "      <td>35</td>\n",
              "      <td>37.5960</td>\n",
              "      <td>121.464706</td>\n",
              "      <td>4566.587082</td>\n",
              "      <td>620</td>\n",
              "      <td>2137.292965</td>\n",
              "      <td>0.000000</td>\n",
              "      <td>-0.015152</td>\n",
              "      <td>-0.000000</td>\n",
              "    </tr>\n",
              "  </tbody>\n",
              "</table>\n",
              "</div>\n",
              "      <button class=\"colab-df-convert\" onclick=\"convertToInteractive('df-7c1a2c72-26b9-4902-9654-2b7dfcca790b')\"\n",
              "              title=\"Convert this dataframe to an interactive table.\"\n",
              "              style=\"display:none;\">\n",
              "        \n",
              "  <svg xmlns=\"http://www.w3.org/2000/svg\" height=\"24px\"viewBox=\"0 0 24 24\"\n",
              "       width=\"24px\">\n",
              "    <path d=\"M0 0h24v24H0V0z\" fill=\"none\"/>\n",
              "    <path d=\"M18.56 5.44l.94 2.06.94-2.06 2.06-.94-2.06-.94-.94-2.06-.94 2.06-2.06.94zm-11 1L8.5 8.5l.94-2.06 2.06-.94-2.06-.94L8.5 2.5l-.94 2.06-2.06.94zm10 10l.94 2.06.94-2.06 2.06-.94-2.06-.94-.94-2.06-.94 2.06-2.06.94z\"/><path d=\"M17.41 7.96l-1.37-1.37c-.4-.4-.92-.59-1.43-.59-.52 0-1.04.2-1.43.59L10.3 9.45l-7.72 7.72c-.78.78-.78 2.05 0 2.83L4 21.41c.39.39.9.59 1.41.59.51 0 1.02-.2 1.41-.59l7.78-7.78 2.81-2.81c.8-.78.8-2.07 0-2.86zM5.41 20L4 18.59l7.72-7.72 1.47 1.35L5.41 20z\"/>\n",
              "  </svg>\n",
              "      </button>\n",
              "      \n",
              "  <style>\n",
              "    .colab-df-container {\n",
              "      display:flex;\n",
              "      flex-wrap:wrap;\n",
              "      gap: 12px;\n",
              "    }\n",
              "\n",
              "    .colab-df-convert {\n",
              "      background-color: #E8F0FE;\n",
              "      border: none;\n",
              "      border-radius: 50%;\n",
              "      cursor: pointer;\n",
              "      display: none;\n",
              "      fill: #1967D2;\n",
              "      height: 32px;\n",
              "      padding: 0 0 0 0;\n",
              "      width: 32px;\n",
              "    }\n",
              "\n",
              "    .colab-df-convert:hover {\n",
              "      background-color: #E2EBFA;\n",
              "      box-shadow: 0px 1px 2px rgba(60, 64, 67, 0.3), 0px 1px 3px 1px rgba(60, 64, 67, 0.15);\n",
              "      fill: #174EA6;\n",
              "    }\n",
              "\n",
              "    [theme=dark] .colab-df-convert {\n",
              "      background-color: #3B4455;\n",
              "      fill: #D2E3FC;\n",
              "    }\n",
              "\n",
              "    [theme=dark] .colab-df-convert:hover {\n",
              "      background-color: #434B5C;\n",
              "      box-shadow: 0px 1px 3px 1px rgba(0, 0, 0, 0.15);\n",
              "      filter: drop-shadow(0px 1px 2px rgba(0, 0, 0, 0.3));\n",
              "      fill: #FFFFFF;\n",
              "    }\n",
              "  </style>\n",
              "\n",
              "      <script>\n",
              "        const buttonEl =\n",
              "          document.querySelector('#df-7c1a2c72-26b9-4902-9654-2b7dfcca790b button.colab-df-convert');\n",
              "        buttonEl.style.display =\n",
              "          google.colab.kernel.accessAllowed ? 'block' : 'none';\n",
              "\n",
              "        async function convertToInteractive(key) {\n",
              "          const element = document.querySelector('#df-7c1a2c72-26b9-4902-9654-2b7dfcca790b');\n",
              "          const dataTable =\n",
              "            await google.colab.kernel.invokeFunction('convertToInteractive',\n",
              "                                                     [key], {});\n",
              "          if (!dataTable) return;\n",
              "\n",
              "          const docLinkHtml = 'Like what you see? Visit the ' +\n",
              "            '<a target=\"_blank\" href=https://colab.research.google.com/notebooks/data_table.ipynb>data table notebook</a>'\n",
              "            + ' to learn more about interactive tables.';\n",
              "          element.innerHTML = '';\n",
              "          dataTable['output_type'] = 'display_data';\n",
              "          await google.colab.output.renderOutput(dataTable, element);\n",
              "          const docLink = document.createElement('div');\n",
              "          docLink.innerHTML = docLinkHtml;\n",
              "          element.appendChild(docLink);\n",
              "        }\n",
              "      </script>\n",
              "    </div>\n",
              "  </div>\n",
              "  "
            ]
          },
          "metadata": {},
          "execution_count": 173
        }
      ]
    },
    {
      "cell_type": "code",
      "execution_count": 172,
      "metadata": {
        "id": "U18Wg7Aa76B5",
        "colab": {
          "base_uri": "https://localhost:8080/",
          "height": 405
        },
        "outputId": "eb683dae-ff71-4498-f350-b9b0d2b402be"
      },
      "outputs": [
        {
          "output_type": "execute_result",
          "data": {
            "text/plain": [
              "<matplotlib.axes._subplots.AxesSubplot at 0x7f97ba19fc10>"
            ]
          },
          "metadata": {},
          "execution_count": 172
        },
        {
          "output_type": "display_data",
          "data": {
            "text/plain": [
              "<Figure size 648x432 with 1 Axes>"
            ],
            "image/png": "[encoded data removed]"
          },
          "metadata": {
            "needs_background": "light"
          }
        }
      ],
      "source": [
        "plt.figure(figsize=(9,6))\n",
        "\n",
        "sns.barplot(data=maximization_mes, x=\"Perc. Discount\", y=\"price_elasticity\")"
      ]
    },
    {
      "cell_type": "code",
      "source": [
        ""
      ],
      "metadata": {
        "id": "CqG4RocVrerQ"
      },
      "execution_count": 172,
      "outputs": []
    }
  ],
  "metadata": {
    "colab": {
      "collapsed_sections": [],
      "name": "asin2.ipynb",
      "provenance": []
    },
    "kernelspec": {
      "display_name": "Python 3",
      "name": "python3"
    },
    "language_info": {
      "name": "python"
    }
  },
  "nbformat": 4,
  "nbformat_minor": 0
}
